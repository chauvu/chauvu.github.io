{
 "cells": [
  {
   "cell_type": "markdown",
   "metadata": {},
   "source": [
    "# COLLEGE CLUSTERING\n",
    "In this project, I will use the dataset of U.S. colleges previously scraped from [College Factual](https://www.collegefactual.com/). Clustering will be based on different attributes from each college, including the make up of students, number of majors/degrees offered, college tuition and availability of financial aid to students. I will use 3 clustering algorithms:\n",
    "1. KMeans Clustering\n",
    "2. Mean Shift Clustering\n",
    "3. Hierarchical Clustering"
   ]
  },
  {
   "cell_type": "code",
   "execution_count": 1,
   "metadata": {},
   "outputs": [],
   "source": [
    "import numpy as np\n",
    "import pandas as pd\n",
    "import scipy as sp\n",
    "import matplotlib.pyplot as plt\n",
    "import sklearn\n",
    "from sklearn.preprocessing import StandardScaler\n",
    "from sklearn import cluster\n",
    "import seaborn as sns"
   ]
  },
  {
   "cell_type": "code",
   "execution_count": 2,
   "metadata": {},
   "outputs": [],
   "source": [
    "colleges_load = pd.read_csv('colleges_detailed.csv')"
   ]
  },
  {
   "cell_type": "code",
   "execution_count": 3,
   "metadata": {},
   "outputs": [
    {
     "data": {
      "text/html": [
       "<div>\n",
       "<style scoped>\n",
       "    .dataframe tbody tr th:only-of-type {\n",
       "        vertical-align: middle;\n",
       "    }\n",
       "\n",
       "    .dataframe tbody tr th {\n",
       "        vertical-align: top;\n",
       "    }\n",
       "\n",
       "    .dataframe thead th {\n",
       "        text-align: right;\n",
       "    }\n",
       "</style>\n",
       "<table border=\"1\" class=\"dataframe\">\n",
       "  <thead>\n",
       "    <tr style=\"text-align: right;\">\n",
       "      <th></th>\n",
       "      <th>Rank</th>\n",
       "      <th>Name</th>\n",
       "      <th>Link</th>\n",
       "      <th>Location_City</th>\n",
       "      <th>Location_State</th>\n",
       "      <th>Private_Public</th>\n",
       "      <th>Profit_Type</th>\n",
       "      <th>Campus_Setting</th>\n",
       "      <th>Starting_Salary</th>\n",
       "      <th>Percent_from_State</th>\n",
       "      <th>...</th>\n",
       "      <th>Student_Faculty_Ratio</th>\n",
       "      <th>Num_Degree</th>\n",
       "      <th>Num_Major</th>\n",
       "      <th>Num_Field</th>\n",
       "      <th>Num_Annual_Grad</th>\n",
       "      <th>Percent_POC</th>\n",
       "      <th>Tuition_Fee</th>\n",
       "      <th>Room_Fee</th>\n",
       "      <th>Total_Cost</th>\n",
       "      <th>Financial_Aid</th>\n",
       "    </tr>\n",
       "  </thead>\n",
       "  <tbody>\n",
       "    <tr>\n",
       "      <th>0</th>\n",
       "      <td>1</td>\n",
       "      <td>Duke University</td>\n",
       "      <td>duke-university</td>\n",
       "      <td>Durham</td>\n",
       "      <td>North Carolina</td>\n",
       "      <td>Private</td>\n",
       "      <td>Non-Profit</td>\n",
       "      <td>Large City</td>\n",
       "      <td>48000.0</td>\n",
       "      <td>16</td>\n",
       "      <td>...</td>\n",
       "      <td>7</td>\n",
       "      <td>61</td>\n",
       "      <td>48</td>\n",
       "      <td>20</td>\n",
       "      <td>2446</td>\n",
       "      <td>56.391876</td>\n",
       "      <td>53500</td>\n",
       "      <td>14798</td>\n",
       "      <td>71764</td>\n",
       "      <td>47836</td>\n",
       "    </tr>\n",
       "    <tr>\n",
       "      <th>1</th>\n",
       "      <td>2</td>\n",
       "      <td>Massachusetts Institute of Technology</td>\n",
       "      <td>massachusetts-institute-of-technology</td>\n",
       "      <td>Cambridge</td>\n",
       "      <td>Massachusetts</td>\n",
       "      <td>Private</td>\n",
       "      <td>Non-Profit</td>\n",
       "      <td>Midsize City</td>\n",
       "      <td>67000.0</td>\n",
       "      <td>10</td>\n",
       "      <td>...</td>\n",
       "      <td>3</td>\n",
       "      <td>39</td>\n",
       "      <td>37</td>\n",
       "      <td>16</td>\n",
       "      <td>1298</td>\n",
       "      <td>66.593358</td>\n",
       "      <td>49892</td>\n",
       "      <td>14720</td>\n",
       "      <td>67430</td>\n",
       "      <td>43248</td>\n",
       "    </tr>\n",
       "    <tr>\n",
       "      <th>2</th>\n",
       "      <td>3</td>\n",
       "      <td>University of Pennsylvania</td>\n",
       "      <td>university-of-pennsylvania</td>\n",
       "      <td>Philadelphia</td>\n",
       "      <td>Pennsylvania</td>\n",
       "      <td>Private</td>\n",
       "      <td>Non-Profit</td>\n",
       "      <td>Large City</td>\n",
       "      <td>54000.0</td>\n",
       "      <td>24</td>\n",
       "      <td>...</td>\n",
       "      <td>6</td>\n",
       "      <td>92</td>\n",
       "      <td>66</td>\n",
       "      <td>21</td>\n",
       "      <td>3531</td>\n",
       "      <td>56.811198</td>\n",
       "      <td>53534</td>\n",
       "      <td>15066</td>\n",
       "      <td>71715</td>\n",
       "      <td>44801</td>\n",
       "    </tr>\n",
       "    <tr>\n",
       "      <th>3</th>\n",
       "      <td>4</td>\n",
       "      <td>Yale University</td>\n",
       "      <td>yale-university</td>\n",
       "      <td>New Haven</td>\n",
       "      <td>Connecticut</td>\n",
       "      <td>Private</td>\n",
       "      <td>Non-Profit</td>\n",
       "      <td>Midsize City</td>\n",
       "      <td>48000.0</td>\n",
       "      <td>7</td>\n",
       "      <td>...</td>\n",
       "      <td>6</td>\n",
       "      <td>79</td>\n",
       "      <td>53</td>\n",
       "      <td>17</td>\n",
       "      <td>1566</td>\n",
       "      <td>55.273234</td>\n",
       "      <td>51400</td>\n",
       "      <td>15500</td>\n",
       "      <td>71290</td>\n",
       "      <td>50897</td>\n",
       "    </tr>\n",
       "    <tr>\n",
       "      <th>4</th>\n",
       "      <td>5</td>\n",
       "      <td>Harvard University</td>\n",
       "      <td>harvard-university</td>\n",
       "      <td>Cambridge</td>\n",
       "      <td>Massachusetts</td>\n",
       "      <td>Private</td>\n",
       "      <td>Non-Profit</td>\n",
       "      <td>Midsize City</td>\n",
       "      <td>48000.0</td>\n",
       "      <td>17</td>\n",
       "      <td>...</td>\n",
       "      <td>7</td>\n",
       "      <td>88</td>\n",
       "      <td>53</td>\n",
       "      <td>18</td>\n",
       "      <td>2642</td>\n",
       "      <td>57.139990</td>\n",
       "      <td>48949</td>\n",
       "      <td>16660</td>\n",
       "      <td>69600</td>\n",
       "      <td>49870</td>\n",
       "    </tr>\n",
       "  </tbody>\n",
       "</table>\n",
       "<p>5 rows × 28 columns</p>\n",
       "</div>"
      ],
      "text/plain": [
       "   Rank                                   Name  \\\n",
       "0     1                        Duke University   \n",
       "1     2  Massachusetts Institute of Technology   \n",
       "2     3             University of Pennsylvania   \n",
       "3     4                        Yale University   \n",
       "4     5                     Harvard University   \n",
       "\n",
       "                                    Link Location_City   Location_State  \\\n",
       "0                        duke-university        Durham   North Carolina   \n",
       "1  massachusetts-institute-of-technology     Cambridge    Massachusetts   \n",
       "2             university-of-pennsylvania  Philadelphia     Pennsylvania   \n",
       "3                        yale-university     New Haven      Connecticut   \n",
       "4                     harvard-university     Cambridge    Massachusetts   \n",
       "\n",
       "  Private_Public Profit_Type Campus_Setting  Starting_Salary  \\\n",
       "0        Private  Non-Profit     Large City          48000.0   \n",
       "1        Private  Non-Profit   Midsize City          67000.0   \n",
       "2        Private  Non-Profit     Large City          54000.0   \n",
       "3        Private  Non-Profit   Midsize City          48000.0   \n",
       "4        Private  Non-Profit   Midsize City          48000.0   \n",
       "\n",
       "   Percent_from_State  ...  Student_Faculty_Ratio  Num_Degree  Num_Major  \\\n",
       "0                  16  ...                      7          61         48   \n",
       "1                  10  ...                      3          39         37   \n",
       "2                  24  ...                      6          92         66   \n",
       "3                   7  ...                      6          79         53   \n",
       "4                  17  ...                      7          88         53   \n",
       "\n",
       "   Num_Field  Num_Annual_Grad  Percent_POC  Tuition_Fee  Room_Fee  Total_Cost  \\\n",
       "0         20             2446    56.391876        53500     14798       71764   \n",
       "1         16             1298    66.593358        49892     14720       67430   \n",
       "2         21             3531    56.811198        53534     15066       71715   \n",
       "3         17             1566    55.273234        51400     15500       71290   \n",
       "4         18             2642    57.139990        48949     16660       69600   \n",
       "\n",
       "   Financial_Aid  \n",
       "0          47836  \n",
       "1          43248  \n",
       "2          44801  \n",
       "3          50897  \n",
       "4          49870  \n",
       "\n",
       "[5 rows x 28 columns]"
      ]
     },
     "execution_count": 3,
     "metadata": {},
     "output_type": "execute_result"
    }
   ],
   "source": [
    "colleges_load.head()"
   ]
  },
  {
   "cell_type": "code",
   "execution_count": 4,
   "metadata": {},
   "outputs": [
    {
     "data": {
      "text/plain": [
       "Index(['Rank', 'Name', 'Link', 'Location_City', 'Location_State',\n",
       "       'Private_Public', 'Profit_Type', 'Campus_Setting', 'Starting_Salary',\n",
       "       'Percent_from_State', 'Percent_FTE', 'Percent_Male', 'Accept_rate',\n",
       "       'Old_SAT_Score', 'New_SAT_Score', 'ACT_Score', 'Num_Undergrad',\n",
       "       'Num_Faculty', 'Student_Faculty_Ratio', 'Num_Degree', 'Num_Major',\n",
       "       'Num_Field', 'Num_Annual_Grad', 'Percent_POC', 'Tuition_Fee',\n",
       "       'Room_Fee', 'Total_Cost', 'Financial_Aid'],\n",
       "      dtype='object')"
      ]
     },
     "execution_count": 4,
     "metadata": {},
     "output_type": "execute_result"
    }
   ],
   "source": [
    "colleges_load.columns"
   ]
  },
  {
   "cell_type": "markdown",
   "metadata": {},
   "source": [
    "Exclude features that inherently classify colleges, such as `Private_Public`, `Profit_Type` and `Campus_Setting`. Additionally, drop all irrelevant features, such as `Rank`, `Link`, `Location_City` and `Location_State`."
   ]
  },
  {
   "cell_type": "code",
   "execution_count": 5,
   "metadata": {},
   "outputs": [],
   "source": [
    "colleges = colleges_load.copy()\n",
    "colleges.drop(columns=['Private_Public', 'Profit_Type', 'Campus_Setting'], inplace=True)\n",
    "colleges.drop(columns=['Rank', 'Link', 'Location_City', 'Location_State'], inplace=True)"
   ]
  },
  {
   "cell_type": "code",
   "execution_count": 6,
   "metadata": {},
   "outputs": [
    {
     "data": {
      "text/html": [
       "<div>\n",
       "<style scoped>\n",
       "    .dataframe tbody tr th:only-of-type {\n",
       "        vertical-align: middle;\n",
       "    }\n",
       "\n",
       "    .dataframe tbody tr th {\n",
       "        vertical-align: top;\n",
       "    }\n",
       "\n",
       "    .dataframe thead th {\n",
       "        text-align: right;\n",
       "    }\n",
       "</style>\n",
       "<table border=\"1\" class=\"dataframe\">\n",
       "  <thead>\n",
       "    <tr style=\"text-align: right;\">\n",
       "      <th></th>\n",
       "      <th>Name</th>\n",
       "      <th>Starting_Salary</th>\n",
       "      <th>Percent_from_State</th>\n",
       "      <th>Percent_FTE</th>\n",
       "      <th>Percent_Male</th>\n",
       "      <th>Accept_rate</th>\n",
       "      <th>Old_SAT_Score</th>\n",
       "      <th>New_SAT_Score</th>\n",
       "      <th>ACT_Score</th>\n",
       "      <th>Num_Undergrad</th>\n",
       "      <th>...</th>\n",
       "      <th>Student_Faculty_Ratio</th>\n",
       "      <th>Num_Degree</th>\n",
       "      <th>Num_Major</th>\n",
       "      <th>Num_Field</th>\n",
       "      <th>Num_Annual_Grad</th>\n",
       "      <th>Percent_POC</th>\n",
       "      <th>Tuition_Fee</th>\n",
       "      <th>Room_Fee</th>\n",
       "      <th>Total_Cost</th>\n",
       "      <th>Financial_Aid</th>\n",
       "    </tr>\n",
       "  </thead>\n",
       "  <tbody>\n",
       "    <tr>\n",
       "      <th>0</th>\n",
       "      <td>Duke University</td>\n",
       "      <td>48000.0</td>\n",
       "      <td>16</td>\n",
       "      <td>90</td>\n",
       "      <td>50</td>\n",
       "      <td>9.9</td>\n",
       "      <td>NaN</td>\n",
       "      <td>NaN</td>\n",
       "      <td>33.0</td>\n",
       "      <td>6696</td>\n",
       "      <td>...</td>\n",
       "      <td>7</td>\n",
       "      <td>61</td>\n",
       "      <td>48</td>\n",
       "      <td>20</td>\n",
       "      <td>2446</td>\n",
       "      <td>56.391876</td>\n",
       "      <td>53500</td>\n",
       "      <td>14798</td>\n",
       "      <td>71764</td>\n",
       "      <td>47836</td>\n",
       "    </tr>\n",
       "    <tr>\n",
       "      <th>1</th>\n",
       "      <td>Massachusetts Institute of Technology</td>\n",
       "      <td>67000.0</td>\n",
       "      <td>10</td>\n",
       "      <td>81</td>\n",
       "      <td>54</td>\n",
       "      <td>7.2</td>\n",
       "      <td>NaN</td>\n",
       "      <td>NaN</td>\n",
       "      <td>34.0</td>\n",
       "      <td>4547</td>\n",
       "      <td>...</td>\n",
       "      <td>3</td>\n",
       "      <td>39</td>\n",
       "      <td>37</td>\n",
       "      <td>16</td>\n",
       "      <td>1298</td>\n",
       "      <td>66.593358</td>\n",
       "      <td>49892</td>\n",
       "      <td>14720</td>\n",
       "      <td>67430</td>\n",
       "      <td>43248</td>\n",
       "    </tr>\n",
       "    <tr>\n",
       "      <th>2</th>\n",
       "      <td>University of Pennsylvania</td>\n",
       "      <td>54000.0</td>\n",
       "      <td>24</td>\n",
       "      <td>97</td>\n",
       "      <td>47</td>\n",
       "      <td>9.3</td>\n",
       "      <td>NaN</td>\n",
       "      <td>NaN</td>\n",
       "      <td>34.0</td>\n",
       "      <td>11716</td>\n",
       "      <td>...</td>\n",
       "      <td>6</td>\n",
       "      <td>92</td>\n",
       "      <td>66</td>\n",
       "      <td>21</td>\n",
       "      <td>3531</td>\n",
       "      <td>56.811198</td>\n",
       "      <td>53534</td>\n",
       "      <td>15066</td>\n",
       "      <td>71715</td>\n",
       "      <td>44801</td>\n",
       "    </tr>\n",
       "    <tr>\n",
       "      <th>3</th>\n",
       "      <td>Yale University</td>\n",
       "      <td>48000.0</td>\n",
       "      <td>7</td>\n",
       "      <td>73</td>\n",
       "      <td>51</td>\n",
       "      <td>6.9</td>\n",
       "      <td>NaN</td>\n",
       "      <td>NaN</td>\n",
       "      <td>34.0</td>\n",
       "      <td>5746</td>\n",
       "      <td>...</td>\n",
       "      <td>6</td>\n",
       "      <td>79</td>\n",
       "      <td>53</td>\n",
       "      <td>17</td>\n",
       "      <td>1566</td>\n",
       "      <td>55.273234</td>\n",
       "      <td>51400</td>\n",
       "      <td>15500</td>\n",
       "      <td>71290</td>\n",
       "      <td>50897</td>\n",
       "    </tr>\n",
       "    <tr>\n",
       "      <th>4</th>\n",
       "      <td>Harvard University</td>\n",
       "      <td>48000.0</td>\n",
       "      <td>17</td>\n",
       "      <td>86</td>\n",
       "      <td>51</td>\n",
       "      <td>5.2</td>\n",
       "      <td>NaN</td>\n",
       "      <td>NaN</td>\n",
       "      <td>34.0</td>\n",
       "      <td>9965</td>\n",
       "      <td>...</td>\n",
       "      <td>7</td>\n",
       "      <td>88</td>\n",
       "      <td>53</td>\n",
       "      <td>18</td>\n",
       "      <td>2642</td>\n",
       "      <td>57.139990</td>\n",
       "      <td>48949</td>\n",
       "      <td>16660</td>\n",
       "      <td>69600</td>\n",
       "      <td>49870</td>\n",
       "    </tr>\n",
       "  </tbody>\n",
       "</table>\n",
       "<p>5 rows × 21 columns</p>\n",
       "</div>"
      ],
      "text/plain": [
       "                                    Name  Starting_Salary  Percent_from_State  \\\n",
       "0                        Duke University          48000.0                  16   \n",
       "1  Massachusetts Institute of Technology          67000.0                  10   \n",
       "2             University of Pennsylvania          54000.0                  24   \n",
       "3                        Yale University          48000.0                   7   \n",
       "4                     Harvard University          48000.0                  17   \n",
       "\n",
       "   Percent_FTE  Percent_Male  Accept_rate  Old_SAT_Score  New_SAT_Score  \\\n",
       "0           90            50          9.9            NaN            NaN   \n",
       "1           81            54          7.2            NaN            NaN   \n",
       "2           97            47          9.3            NaN            NaN   \n",
       "3           73            51          6.9            NaN            NaN   \n",
       "4           86            51          5.2            NaN            NaN   \n",
       "\n",
       "   ACT_Score  Num_Undergrad  ...  Student_Faculty_Ratio  Num_Degree  \\\n",
       "0       33.0           6696  ...                      7          61   \n",
       "1       34.0           4547  ...                      3          39   \n",
       "2       34.0          11716  ...                      6          92   \n",
       "3       34.0           5746  ...                      6          79   \n",
       "4       34.0           9965  ...                      7          88   \n",
       "\n",
       "   Num_Major  Num_Field  Num_Annual_Grad  Percent_POC  Tuition_Fee  Room_Fee  \\\n",
       "0         48         20             2446    56.391876        53500     14798   \n",
       "1         37         16             1298    66.593358        49892     14720   \n",
       "2         66         21             3531    56.811198        53534     15066   \n",
       "3         53         17             1566    55.273234        51400     15500   \n",
       "4         53         18             2642    57.139990        48949     16660   \n",
       "\n",
       "   Total_Cost  Financial_Aid  \n",
       "0       71764          47836  \n",
       "1       67430          43248  \n",
       "2       71715          44801  \n",
       "3       71290          50897  \n",
       "4       69600          49870  \n",
       "\n",
       "[5 rows x 21 columns]"
      ]
     },
     "execution_count": 6,
     "metadata": {},
     "output_type": "execute_result"
    }
   ],
   "source": [
    "colleges.head()"
   ]
  },
  {
   "cell_type": "markdown",
   "metadata": {},
   "source": [
    "## Data cleaning"
   ]
  },
  {
   "cell_type": "code",
   "execution_count": 7,
   "metadata": {},
   "outputs": [
    {
     "data": {
      "text/plain": [
       "Name                     0.000000\n",
       "Starting_Salary          0.431420\n",
       "Percent_from_State       0.000000\n",
       "Percent_FTE              0.000000\n",
       "Percent_Male             0.000000\n",
       "Accept_rate              0.000000\n",
       "Old_SAT_Score            0.895468\n",
       "New_SAT_Score            0.980665\n",
       "ACT_Score                0.262840\n",
       "Num_Undergrad            0.000000\n",
       "Num_Faculty              0.000000\n",
       "Student_Faculty_Ratio    0.000000\n",
       "Num_Degree               0.000000\n",
       "Num_Major                0.000000\n",
       "Num_Field                0.000000\n",
       "Num_Annual_Grad          0.000000\n",
       "Percent_POC              0.000000\n",
       "Tuition_Fee              0.000000\n",
       "Room_Fee                 0.000000\n",
       "Total_Cost               0.000000\n",
       "Financial_Aid            0.000000\n",
       "dtype: float64"
      ]
     },
     "execution_count": 7,
     "metadata": {},
     "output_type": "execute_result"
    }
   ],
   "source": [
    "colleges.isnull().sum() / colleges.shape[0]"
   ]
  },
  {
   "cell_type": "markdown",
   "metadata": {},
   "source": [
    "Drop `Old_SAT_Score` and `New_SAT_Score`. Explore `ACT_Score` and `Starting_Salary` to see if possible to impute values."
   ]
  },
  {
   "cell_type": "code",
   "execution_count": 8,
   "metadata": {},
   "outputs": [],
   "source": [
    "colleges.drop(columns=['Old_SAT_Score','New_SAT_Score'], inplace=True)"
   ]
  },
  {
   "cell_type": "code",
   "execution_count": 9,
   "metadata": {},
   "outputs": [
    {
     "data": {
      "text/plain": [
       "<AxesSubplot:ylabel='Frequency'>"
      ]
     },
     "execution_count": 9,
     "metadata": {},
     "output_type": "execute_result"
    },
    {
     "data": {
      "image/png": "[encoded data removed]",
      "text/plain": [
       "<Figure size 432x288 with 1 Axes>"
      ]
     },
     "metadata": {
      "needs_background": "light"
     },
     "output_type": "display_data"
    }
   ],
   "source": [
    "colleges['ACT_Score'].plot.hist()"
   ]
  },
  {
   "cell_type": "code",
   "execution_count": 10,
   "metadata": {},
   "outputs": [
    {
     "data": {
      "text/plain": [
       "<AxesSubplot:ylabel='Frequency'>"
      ]
     },
     "execution_count": 10,
     "metadata": {},
     "output_type": "execute_result"
    },
    {
     "data": {
      "image/png": "[encoded data removed]",
      "text/plain": [
       "<Figure size 432x288 with 1 Axes>"
      ]
     },
     "metadata": {
      "needs_background": "light"
     },
     "output_type": "display_data"
    }
   ],
   "source": [
    "colleges['Starting_Salary'].plot.hist()"
   ]
  },
  {
   "cell_type": "markdown",
   "metadata": {},
   "source": [
    "Both these features are skewed right. It is possible to correct for this skewness and mean-impute the missing values. However, we must first confirm whether the colleges with missing values are random, or whether a certain set of similar colleges have missing values. For example, low-ranked colleges are less likely to provide the ACT scores or inquire about the graduates' starting salaries; if we fill in nan values with the mean, then this would not be representative of these colleges."
   ]
  },
  {
   "cell_type": "code",
   "execution_count": 11,
   "metadata": {},
   "outputs": [
    {
     "data": {
      "text/plain": [
       "<seaborn.axisgrid.FacetGrid at 0x7f78d0ceae50>"
      ]
     },
     "execution_count": 11,
     "metadata": {},
     "output_type": "execute_result"
    },
    {
     "data": {
      "image/png": "[encoded data removed]",
      "text/plain": [
       "<Figure size 360x360 with 1 Axes>"
      ]
     },
     "metadata": {
      "needs_background": "light"
     },
     "output_type": "display_data"
    }
   ],
   "source": [
    "sns.lmplot(data=colleges.dropna(axis=0), x='ACT_Score', y='Accept_rate')"
   ]
  },
  {
   "cell_type": "code",
   "execution_count": 12,
   "metadata": {},
   "outputs": [
    {
     "data": {
      "text/plain": [
       "-0.46160406046936175"
      ]
     },
     "execution_count": 12,
     "metadata": {},
     "output_type": "execute_result"
    }
   ],
   "source": [
    "colleges.corr()['ACT_Score']['Accept_rate']"
   ]
  },
  {
   "cell_type": "markdown",
   "metadata": {},
   "source": [
    "There looks to be a pretty good negative correlation between `ACT_Score` and `Accept_rate`, which makes sense. Schools that are more difficult to get in tend to require higher ACT scores and have lower acceptance rates. Therefore, we will regression impute the missing ACT scores using the acceptance rate."
   ]
  },
  {
   "cell_type": "code",
   "execution_count": 13,
   "metadata": {},
   "outputs": [],
   "source": [
    "res = sp.stats.linregress(colleges.dropna(axis=0)['Accept_rate'], colleges.dropna(axis=0)['ACT_Score'])\n",
    "act_score_impute = colleges[['ACT_Score','Accept_rate']]\n",
    "colleges['ACT_Score'] = act_score_impute.apply(lambda x: res.slope * x['Accept_rate'] + res.intercept if np.isnan(x['ACT_Score']) else x['ACT_Score'], axis=1)"
   ]
  },
  {
   "cell_type": "markdown",
   "metadata": {},
   "source": [
    "Starting salary imputation: good correlation with `ACT_Score`, so we will regression impute `Starting_Salary`."
   ]
  },
  {
   "cell_type": "code",
   "execution_count": 14,
   "metadata": {},
   "outputs": [
    {
     "data": {
      "text/plain": [
       "<seaborn.axisgrid.FacetGrid at 0x7f78d0be2bd0>"
      ]
     },
     "execution_count": 14,
     "metadata": {},
     "output_type": "execute_result"
    },
    {
     "data": {
      "image/png": "[encoded data removed]",
      "text/plain": [
       "<Figure size 360x360 with 1 Axes>"
      ]
     },
     "metadata": {
      "needs_background": "light"
     },
     "output_type": "display_data"
    }
   ],
   "source": [
    "sns.lmplot(data=colleges.dropna(axis=0), x='Starting_Salary', y='ACT_Score')"
   ]
  },
  {
   "cell_type": "code",
   "execution_count": 15,
   "metadata": {},
   "outputs": [
    {
     "data": {
      "text/plain": [
       "0.5405845292786804"
      ]
     },
     "execution_count": 15,
     "metadata": {},
     "output_type": "execute_result"
    }
   ],
   "source": [
    "colleges.corr()['Starting_Salary']['ACT_Score']"
   ]
  },
  {
   "cell_type": "code",
   "execution_count": 16,
   "metadata": {},
   "outputs": [],
   "source": [
    "res = sp.stats.linregress(colleges.dropna(axis=0)['ACT_Score'], colleges.dropna(axis=0)['Starting_Salary'])\n",
    "salary_impute = colleges[['ACT_Score','Starting_Salary']]\n",
    "colleges['Starting_Salary'] = salary_impute.apply(lambda x: res.slope * x['ACT_Score'] + res.intercept if np.isnan(x['Starting_Salary']) else x['Starting_Salary'], axis=1)"
   ]
  },
  {
   "cell_type": "code",
   "execution_count": 17,
   "metadata": {},
   "outputs": [
    {
     "data": {
      "text/plain": [
       "Name                     0\n",
       "Starting_Salary          0\n",
       "Percent_from_State       0\n",
       "Percent_FTE              0\n",
       "Percent_Male             0\n",
       "Accept_rate              0\n",
       "ACT_Score                0\n",
       "Num_Undergrad            0\n",
       "Num_Faculty              0\n",
       "Student_Faculty_Ratio    0\n",
       "Num_Degree               0\n",
       "Num_Major                0\n",
       "Num_Field                0\n",
       "Num_Annual_Grad          0\n",
       "Percent_POC              0\n",
       "Tuition_Fee              0\n",
       "Room_Fee                 0\n",
       "Total_Cost               0\n",
       "Financial_Aid            0\n",
       "dtype: int64"
      ]
     },
     "execution_count": 17,
     "metadata": {},
     "output_type": "execute_result"
    }
   ],
   "source": [
    "colleges.isnull().sum()"
   ]
  },
  {
   "cell_type": "markdown",
   "metadata": {},
   "source": [
    "## Data preparation\n",
    "Now that all the NaN values are filled in, we will prepare the data for clustering, including normalizing and standardizing."
   ]
  },
  {
   "cell_type": "code",
   "execution_count": 18,
   "metadata": {},
   "outputs": [
    {
     "data": {
      "image/png": "[encoded data removed]",
      "text/plain": [
       "<Figure size 432x288 with 1 Axes>"
      ]
     },
     "metadata": {
      "needs_background": "light"
     },
     "output_type": "display_data"
    }
   ],
   "source": [
    "# Starting_Salary\n",
    "colleges['Starting_Salary'].hist() # skewed right\n",
    "colleges['Starting_Salary'] = np.log(colleges['Starting_Salary'])"
   ]
  },
  {
   "cell_type": "code",
   "execution_count": 19,
   "metadata": {},
   "outputs": [
    {
     "data": {
      "image/png": "[encoded data removed]",
      "text/plain": [
       "<Figure size 432x288 with 1 Axes>"
      ]
     },
     "metadata": {
      "needs_background": "light"
     },
     "output_type": "display_data"
    }
   ],
   "source": [
    "# Percent_from_State\n",
    "colleges['Percent_from_State'].hist() # skewed left\n",
    "colleges['Percent_from_State'] = np.square(colleges['Percent_from_State'])"
   ]
  },
  {
   "cell_type": "code",
   "execution_count": 20,
   "metadata": {},
   "outputs": [
    {
     "data": {
      "text/plain": [
       "<AxesSubplot:>"
      ]
     },
     "execution_count": 20,
     "metadata": {},
     "output_type": "execute_result"
    },
    {
     "data": {
      "image/png": "[encoded data removed]",
      "text/plain": [
       "<Figure size 432x288 with 1 Axes>"
      ]
     },
     "metadata": {
      "needs_background": "light"
     },
     "output_type": "display_data"
    }
   ],
   "source": [
    "# Percent_FTE\n",
    "colleges['Percent_FTE'].hist() # fairly Gaussian"
   ]
  },
  {
   "cell_type": "code",
   "execution_count": 21,
   "metadata": {},
   "outputs": [
    {
     "data": {
      "text/plain": [
       "<AxesSubplot:>"
      ]
     },
     "execution_count": 21,
     "metadata": {},
     "output_type": "execute_result"
    },
    {
     "data": {
      "image/png": "[encoded data removed]",
      "text/plain": [
       "<Figure size 432x288 with 1 Axes>"
      ]
     },
     "metadata": {
      "needs_background": "light"
     },
     "output_type": "display_data"
    }
   ],
   "source": [
    "# Percent_Male\n",
    "colleges['Percent_Male'].hist() # Gaussian"
   ]
  },
  {
   "cell_type": "code",
   "execution_count": 22,
   "metadata": {},
   "outputs": [
    {
     "data": {
      "image/png": "[encoded data removed]",
      "text/plain": [
       "<Figure size 432x288 with 1 Axes>"
      ]
     },
     "metadata": {
      "needs_background": "light"
     },
     "output_type": "display_data"
    }
   ],
   "source": [
    "# Accept_rate\n",
    "colleges['Accept_rate'].hist() # skewed left\n",
    "colleges['Accept_rate'] = np.square(colleges['Accept_rate'])"
   ]
  },
  {
   "cell_type": "code",
   "execution_count": 23,
   "metadata": {},
   "outputs": [
    {
     "data": {
      "text/plain": [
       "<AxesSubplot:>"
      ]
     },
     "execution_count": 23,
     "metadata": {},
     "output_type": "execute_result"
    },
    {
     "data": {
      "image/png": "[encoded data removed]",
      "text/plain": [
       "<Figure size 432x288 with 1 Axes>"
      ]
     },
     "metadata": {
      "needs_background": "light"
     },
     "output_type": "display_data"
    }
   ],
   "source": [
    "# ACT_Score\n",
    "colleges['ACT_Score'].hist() # fairly normally-distributed"
   ]
  },
  {
   "cell_type": "code",
   "execution_count": 24,
   "metadata": {},
   "outputs": [
    {
     "data": {
      "image/png": "[encoded data removed]",
      "text/plain": [
       "<Figure size 432x288 with 1 Axes>"
      ]
     },
     "metadata": {
      "needs_background": "light"
     },
     "output_type": "display_data"
    }
   ],
   "source": [
    "# Num_Undergrad\n",
    "colleges['Num_Undergrad'].hist() # skewed right\n",
    "colleges['Num_Undergrad'] = np.log(colleges['Num_Undergrad'])"
   ]
  },
  {
   "cell_type": "code",
   "execution_count": 25,
   "metadata": {},
   "outputs": [
    {
     "data": {
      "image/png": "[encoded data removed]",
      "text/plain": [
       "<Figure size 432x288 with 1 Axes>"
      ]
     },
     "metadata": {
      "needs_background": "light"
     },
     "output_type": "display_data"
    }
   ],
   "source": [
    "# Num_Faculty\n",
    "colleges['Num_Faculty'].hist() # skewed right\n",
    "colleges['Num_Faculty'] = np.log(colleges['Num_Faculty'])"
   ]
  },
  {
   "cell_type": "code",
   "execution_count": 26,
   "metadata": {},
   "outputs": [
    {
     "data": {
      "image/png": "[encoded data removed]",
      "text/plain": [
       "<Figure size 432x288 with 1 Axes>"
      ]
     },
     "metadata": {
      "needs_background": "light"
     },
     "output_type": "display_data"
    }
   ],
   "source": [
    "# Student_Faculty_Ratio\n",
    "colleges['Student_Faculty_Ratio'].hist() # skewed right\n",
    "colleges['Student_Faculty_Ratio'] = np.log(colleges['Student_Faculty_Ratio'])"
   ]
  },
  {
   "cell_type": "code",
   "execution_count": 27,
   "metadata": {},
   "outputs": [
    {
     "data": {
      "image/png": "[encoded data removed]",
      "text/plain": [
       "<Figure size 432x288 with 1 Axes>"
      ]
     },
     "metadata": {
      "needs_background": "light"
     },
     "output_type": "display_data"
    }
   ],
   "source": [
    "# Num_Degree\n",
    "colleges['Num_Degree'].hist() # skewed right\n",
    "colleges['Num_Degree'] = np.log(colleges['Num_Degree'])"
   ]
  },
  {
   "cell_type": "code",
   "execution_count": 28,
   "metadata": {},
   "outputs": [
    {
     "data": {
      "image/png": "[encoded data removed]",
      "text/plain": [
       "<Figure size 432x288 with 1 Axes>"
      ]
     },
     "metadata": {
      "needs_background": "light"
     },
     "output_type": "display_data"
    }
   ],
   "source": [
    "# Num_Major\n",
    "colleges['Num_Major'].hist() # skewed right\n",
    "colleges['Num_Major'] = np.log(colleges['Num_Major'])"
   ]
  },
  {
   "cell_type": "code",
   "execution_count": 29,
   "metadata": {},
   "outputs": [
    {
     "data": {
      "text/plain": [
       "<AxesSubplot:>"
      ]
     },
     "execution_count": 29,
     "metadata": {},
     "output_type": "execute_result"
    },
    {
     "data": {
      "image/png": "[encoded data removed]",
      "text/plain": [
       "<Figure size 432x288 with 1 Axes>"
      ]
     },
     "metadata": {
      "needs_background": "light"
     },
     "output_type": "display_data"
    }
   ],
   "source": [
    "# Num_Field\n",
    "colleges['Num_Field'].hist() # not too skewed"
   ]
  },
  {
   "cell_type": "code",
   "execution_count": 30,
   "metadata": {},
   "outputs": [
    {
     "data": {
      "image/png": "[encoded data removed]",
      "text/plain": [
       "<Figure size 432x288 with 1 Axes>"
      ]
     },
     "metadata": {
      "needs_background": "light"
     },
     "output_type": "display_data"
    }
   ],
   "source": [
    "# Num_Annual_Grad\n",
    "colleges['Num_Annual_Grad'].hist() # skewed right\n",
    "colleges['Num_Annual_Grad'] = np.log(colleges['Num_Annual_Grad'])"
   ]
  },
  {
   "cell_type": "code",
   "execution_count": 31,
   "metadata": {},
   "outputs": [
    {
     "data": {
      "text/plain": [
       "<AxesSubplot:>"
      ]
     },
     "execution_count": 31,
     "metadata": {},
     "output_type": "execute_result"
    },
    {
     "data": {
      "image/png": "[encoded data removed]",
      "text/plain": [
       "<Figure size 432x288 with 1 Axes>"
      ]
     },
     "metadata": {
      "needs_background": "light"
     },
     "output_type": "display_data"
    }
   ],
   "source": [
    "# Percent_POC\n",
    "colleges['Percent_POC'].hist() # not too skewed"
   ]
  },
  {
   "cell_type": "code",
   "execution_count": 32,
   "metadata": {},
   "outputs": [
    {
     "data": {
      "text/plain": [
       "<AxesSubplot:>"
      ]
     },
     "execution_count": 32,
     "metadata": {},
     "output_type": "execute_result"
    },
    {
     "data": {
      "image/png": "[encoded data removed]",
      "text/plain": [
       "<Figure size 432x288 with 1 Axes>"
      ]
     },
     "metadata": {
      "needs_background": "light"
     },
     "output_type": "display_data"
    }
   ],
   "source": [
    "# Tuition_Fee\n",
    "colleges['Tuition_Fee'].hist() # not too skewed"
   ]
  },
  {
   "cell_type": "code",
   "execution_count": 33,
   "metadata": {},
   "outputs": [
    {
     "data": {
      "text/plain": [
       "<AxesSubplot:>"
      ]
     },
     "execution_count": 33,
     "metadata": {},
     "output_type": "execute_result"
    },
    {
     "data": {
      "image/png": "[encoded data removed]",
      "text/plain": [
       "<Figure size 432x288 with 1 Axes>"
      ]
     },
     "metadata": {
      "needs_background": "light"
     },
     "output_type": "display_data"
    }
   ],
   "source": [
    "# Room_Fee\n",
    "colleges['Room_Fee'].hist() # normally-distributed"
   ]
  },
  {
   "cell_type": "code",
   "execution_count": 34,
   "metadata": {},
   "outputs": [
    {
     "data": {
      "text/plain": [
       "<AxesSubplot:>"
      ]
     },
     "execution_count": 34,
     "metadata": {},
     "output_type": "execute_result"
    },
    {
     "data": {
      "image/png": "[encoded data removed]",
      "text/plain": [
       "<Figure size 432x288 with 1 Axes>"
      ]
     },
     "metadata": {
      "needs_background": "light"
     },
     "output_type": "display_data"
    }
   ],
   "source": [
    "# Total_Cost\n",
    "colleges['Total_Cost'].hist() # not too skewed"
   ]
  },
  {
   "cell_type": "code",
   "execution_count": 35,
   "metadata": {},
   "outputs": [
    {
     "data": {
      "image/png": "[encoded data removed]",
      "text/plain": [
       "<Figure size 432x288 with 1 Axes>"
      ]
     },
     "metadata": {
      "needs_background": "light"
     },
     "output_type": "display_data"
    }
   ],
   "source": [
    "# Financial_Aid\n",
    "colleges['Financial_Aid'].hist() # skewed right\n",
    "colleges['Financial_Aid'] = np.log(colleges['Financial_Aid'])"
   ]
  },
  {
   "cell_type": "code",
   "execution_count": 36,
   "metadata": {},
   "outputs": [],
   "source": [
    "# StandardScaler\n",
    "scaler = StandardScaler()\n",
    "colleges_np = np.array(colleges.iloc[:,1:])\n",
    "colleges_np = scaler.fit_transform(colleges_np)"
   ]
  },
  {
   "cell_type": "markdown",
   "metadata": {},
   "source": [
    "# CLUSTERING\n",
    "## KMeans: 2 clusters"
   ]
  },
  {
   "cell_type": "code",
   "execution_count": 37,
   "metadata": {},
   "outputs": [],
   "source": [
    "colleges_kmeans = pd.Series(cluster.KMeans(n_clusters=2, random_state=0).fit_predict(colleges_np))"
   ]
  },
  {
   "cell_type": "code",
   "execution_count": 38,
   "metadata": {},
   "outputs": [],
   "source": [
    "rank = colleges_load[['Rank']]\n",
    "private_public = pd.get_dummies(colleges_load[['Private_Public']], drop_first=True).iloc[:,0]\n",
    "profit_type = pd.get_dummies(colleges_load[['Profit_Type']], drop_first=True).iloc[:,0]"
   ]
  },
  {
   "cell_type": "markdown",
   "metadata": {},
   "source": [
    "Compare clusters with `Private_Public`: seems like the clusters are according to private vs. public, with p-value << 0.01"
   ]
  },
  {
   "cell_type": "code",
   "execution_count": 39,
   "metadata": {},
   "outputs": [
    {
     "data": {
      "text/html": [
       "<div>\n",
       "<style scoped>\n",
       "    .dataframe tbody tr th:only-of-type {\n",
       "        vertical-align: middle;\n",
       "    }\n",
       "\n",
       "    .dataframe tbody tr th {\n",
       "        vertical-align: top;\n",
       "    }\n",
       "\n",
       "    .dataframe thead th {\n",
       "        text-align: right;\n",
       "    }\n",
       "</style>\n",
       "<table border=\"1\" class=\"dataframe\">\n",
       "  <thead>\n",
       "    <tr style=\"text-align: right;\">\n",
       "      <th>Private_Public_Public</th>\n",
       "      <th>0</th>\n",
       "      <th>1</th>\n",
       "    </tr>\n",
       "    <tr>\n",
       "      <th>row_0</th>\n",
       "      <th></th>\n",
       "      <th></th>\n",
       "    </tr>\n",
       "  </thead>\n",
       "  <tbody>\n",
       "    <tr>\n",
       "      <th>0</th>\n",
       "      <td>1006</td>\n",
       "      <td>58</td>\n",
       "    </tr>\n",
       "    <tr>\n",
       "      <th>1</th>\n",
       "      <td>80</td>\n",
       "      <td>511</td>\n",
       "    </tr>\n",
       "  </tbody>\n",
       "</table>\n",
       "</div>"
      ],
      "text/plain": [
       "Private_Public_Public     0    1\n",
       "row_0                           \n",
       "0                      1006   58\n",
       "1                        80  511"
      ]
     },
     "execution_count": 39,
     "metadata": {},
     "output_type": "execute_result"
    }
   ],
   "source": [
    "contingency_table = pd.crosstab(colleges_kmeans, private_public)\n",
    "contingency_table"
   ]
  },
  {
   "cell_type": "code",
   "execution_count": 40,
   "metadata": {},
   "outputs": [
    {
     "data": {
      "text/plain": [
       "1.3864437862593258e-241"
      ]
     },
     "execution_count": 40,
     "metadata": {},
     "output_type": "execute_result"
    }
   ],
   "source": [
    "res = sp.stats.chi2_contingency(contingency_table)\n",
    "pvalue = res[1]\n",
    "pvalue"
   ]
  },
  {
   "cell_type": "markdown",
   "metadata": {},
   "source": [
    "We can also compare our clusters with `Profit_Type`. However, we believe that `Profit_Type` would be related with `Private_Public` as private universities tend to be for profit and public colleges are more likely to be non-profit. We confirm this using a contingency table between these two features."
   ]
  },
  {
   "cell_type": "code",
   "execution_count": 41,
   "metadata": {},
   "outputs": [
    {
     "data": {
      "text/html": [
       "<div>\n",
       "<style scoped>\n",
       "    .dataframe tbody tr th:only-of-type {\n",
       "        vertical-align: middle;\n",
       "    }\n",
       "\n",
       "    .dataframe tbody tr th {\n",
       "        vertical-align: top;\n",
       "    }\n",
       "\n",
       "    .dataframe thead th {\n",
       "        text-align: right;\n",
       "    }\n",
       "</style>\n",
       "<table border=\"1\" class=\"dataframe\">\n",
       "  <thead>\n",
       "    <tr style=\"text-align: right;\">\n",
       "      <th>Profit_Type_Non-Profit</th>\n",
       "      <th>0</th>\n",
       "      <th>1</th>\n",
       "    </tr>\n",
       "    <tr>\n",
       "      <th>Private_Public_Public</th>\n",
       "      <th></th>\n",
       "      <th></th>\n",
       "    </tr>\n",
       "  </thead>\n",
       "  <tbody>\n",
       "    <tr>\n",
       "      <th>0</th>\n",
       "      <td>96</td>\n",
       "      <td>990</td>\n",
       "    </tr>\n",
       "    <tr>\n",
       "      <th>1</th>\n",
       "      <td>569</td>\n",
       "      <td>0</td>\n",
       "    </tr>\n",
       "  </tbody>\n",
       "</table>\n",
       "</div>"
      ],
      "text/plain": [
       "Profit_Type_Non-Profit    0    1\n",
       "Private_Public_Public           \n",
       "0                        96  990\n",
       "1                       569    0"
      ]
     },
     "execution_count": 41,
     "metadata": {},
     "output_type": "execute_result"
    }
   ],
   "source": [
    "pd.crosstab(private_public, profit_type)"
   ]
  },
  {
   "cell_type": "markdown",
   "metadata": {},
   "source": [
    "## KMeans: 3 clusters"
   ]
  },
  {
   "cell_type": "code",
   "execution_count": 42,
   "metadata": {},
   "outputs": [],
   "source": [
    "colleges_kmeans3_fit = cluster.KMeans(n_clusters=3, random_state=0).fit(colleges_np)\n",
    "colleges_kmeans3 = pd.Series(colleges_kmeans3_fit.predict(colleges_np))"
   ]
  },
  {
   "cell_type": "markdown",
   "metadata": {},
   "source": [
    "Let's print out some sample colleges from these 3 clusters.\n",
    "1. Cluster 1: state universities, located at many campuses within a state.\n",
    "2. Cluster 2: private universities\n",
    "3. Cluster 3: medical/pharmacy/trade schools"
   ]
  },
  {
   "cell_type": "code",
   "execution_count": 43,
   "metadata": {},
   "outputs": [
    {
     "data": {
      "text/plain": [
       "32             University of Virginia - Main Campus\n",
       "34               University of Michigan - Ann Arbor\n",
       "48           University of California - Los Angeles\n",
       "49      University of North Carolina at Chapel Hill\n",
       "65              University of California - Berkeley\n",
       "69    Georgia Institute of Technology - Main Campus\n",
       "72             University of California - San Diego\n",
       "73                            University of Florida\n",
       "74                 University of California - Davis\n",
       "78                The University of Texas at Austin\n",
       "Name: Name, dtype: object"
      ]
     },
     "execution_count": 43,
     "metadata": {},
     "output_type": "execute_result"
    }
   ],
   "source": [
    "colleges_load.loc[colleges_kmeans3==0, 'Name'].iloc[:10]"
   ]
  },
  {
   "cell_type": "code",
   "execution_count": 44,
   "metadata": {},
   "outputs": [
    {
     "data": {
      "text/plain": [
       "0                          Duke University\n",
       "1    Massachusetts Institute of Technology\n",
       "2               University of Pennsylvania\n",
       "3                          Yale University\n",
       "4                       Harvard University\n",
       "5                      Harvey Mudd College\n",
       "6                      Stanford University\n",
       "7                    University of Chicago\n",
       "8                        Dartmouth College\n",
       "9                  Northwestern University\n",
       "Name: Name, dtype: object"
      ]
     },
     "execution_count": 44,
     "metadata": {},
     "output_type": "execute_result"
    }
   ],
   "source": [
    "colleges_load.loc[colleges_kmeans3==1, 'Name'].iloc[:10]"
   ]
  },
  {
   "cell_type": "code",
   "execution_count": 45,
   "metadata": {},
   "outputs": [
    {
     "data": {
      "text/plain": [
       "62                          St Louis College of Pharmacy\n",
       "111       Albany College of Pharmacy and Health Sciences\n",
       "224                       Massachusetts Maritime Academy\n",
       "238                           Soka University of America\n",
       "247                               Maine Maritime Academy\n",
       "250                                       Bellin College\n",
       "270    SUNY College of Environmental Science and Fore...\n",
       "282        Southern California Institute of Architecture\n",
       "283                     Bryan College of Health Sciences\n",
       "293               American University of Health Sciences\n",
       "Name: Name, dtype: object"
      ]
     },
     "execution_count": 45,
     "metadata": {},
     "output_type": "execute_result"
    }
   ],
   "source": [
    "colleges_load.loc[colleges_kmeans3==2, 'Name'].iloc[:10]"
   ]
  },
  {
   "cell_type": "markdown",
   "metadata": {},
   "source": [
    "Let's see if we can use an elbow graph to determine how many clusters this set of colleges can be divided into."
   ]
  },
  {
   "cell_type": "code",
   "execution_count": 46,
   "metadata": {},
   "outputs": [],
   "source": [
    "kmeans_dict = {}\n",
    "for k in range(2,20):\n",
    "    kmeans_fit = cluster.KMeans(n_clusters=k, random_state=0).fit(colleges_np)\n",
    "    kmeans_dict[k] = kmeans_fit.inertia_"
   ]
  },
  {
   "cell_type": "code",
   "execution_count": 47,
   "metadata": {},
   "outputs": [
    {
     "data": {
      "text/plain": [
       "<matplotlib.collections.PathCollection at 0x7f78ce339390>"
      ]
     },
     "execution_count": 47,
     "metadata": {},
     "output_type": "execute_result"
    },
    {
     "data": {
      "image/png": "[encoded data removed]",
      "text/plain": [
       "<Figure size 432x288 with 1 Axes>"
      ]
     },
     "metadata": {
      "needs_background": "light"
     },
     "output_type": "display_data"
    }
   ],
   "source": [
    "plt.plot(kmeans_dict.keys(), kmeans_dict.values())\n",
    "plt.scatter(kmeans_dict.keys(), kmeans_dict.values())"
   ]
  },
  {
   "cell_type": "markdown",
   "metadata": {},
   "source": [
    "Even it is not too clear where the elbow is, but let's just pick `k=5` and look at the cluster results."
   ]
  },
  {
   "cell_type": "code",
   "execution_count": 48,
   "metadata": {},
   "outputs": [],
   "source": [
    "colleges_kmeans5_fit = cluster.KMeans(n_clusters=5, random_state=0).fit(colleges_np)\n",
    "colleges_kmeans5 = pd.Series(colleges_kmeans5_fit.predict(colleges_np))"
   ]
  },
  {
   "cell_type": "markdown",
   "metadata": {},
   "source": [
    "Clusters are as follows:\n",
    "1. Liberal arts colleges\n",
    "2. Maritime/Health colleges\n",
    "3. State universities with multiple campuses\n",
    "4. Private colleges\n",
    "5. Smaller public colleges"
   ]
  },
  {
   "cell_type": "code",
   "execution_count": 49,
   "metadata": {},
   "outputs": [
    {
     "name": "stdout",
     "output_type": "stream",
     "text": [
      "Cluster 1\n",
      "116        Wheaton College Illinois\n",
      "128    Illinois Wesleyan University\n",
      "134                Drake University\n",
      "142            Saint Anselm College\n",
      "146               Kalamazoo College\n",
      "Name: Name, dtype: object\n",
      "\n",
      "\n",
      "Cluster 2\n",
      "62                       St Louis College of Pharmacy\n",
      "111    Albany College of Pharmacy and Health Sciences\n",
      "224                    Massachusetts Maritime Academy\n",
      "238                        Soka University of America\n",
      "247                            Maine Maritime Academy\n",
      "Name: Name, dtype: object\n",
      "\n",
      "\n",
      "Cluster 3\n",
      "32           University of Virginia - Main Campus\n",
      "34             University of Michigan - Ann Arbor\n",
      "48         University of California - Los Angeles\n",
      "49    University of North Carolina at Chapel Hill\n",
      "65            University of California - Berkeley\n",
      "Name: Name, dtype: object\n",
      "\n",
      "\n",
      "Cluster 4\n",
      "0                          Duke University\n",
      "1    Massachusetts Institute of Technology\n",
      "2               University of Pennsylvania\n",
      "3                          Yale University\n",
      "4                       Harvard University\n",
      "Name: Name, dtype: object\n",
      "\n",
      "\n",
      "Cluster 5\n",
      "234           Citadel Military College of South Carolina\n",
      "261                        St Mary's College of Maryland\n",
      "270    SUNY College of Environmental Science and Fore...\n",
      "296                          Rutgers University - Camden\n",
      "322                         Ramapo College of New Jersey\n",
      "Name: Name, dtype: object\n",
      "\n",
      "\n"
     ]
    }
   ],
   "source": [
    "for k in range(0,5):\n",
    "    print('Cluster {}'.format(k+1))\n",
    "    print(colleges_load.loc[colleges_kmeans5==k, 'Name'].iloc[:5])\n",
    "    print('\\n')"
   ]
  },
  {
   "cell_type": "markdown",
   "metadata": {},
   "source": [
    "## Mean-Shift Clustering"
   ]
  },
  {
   "cell_type": "code",
   "execution_count": 50,
   "metadata": {},
   "outputs": [],
   "source": [
    "colleges_meanshift = cluster.MeanShift().fit_predict(colleges_np)"
   ]
  },
  {
   "cell_type": "code",
   "execution_count": 51,
   "metadata": {},
   "outputs": [
    {
     "data": {
      "text/plain": [
       "array([0, 1, 2])"
      ]
     },
     "execution_count": 51,
     "metadata": {},
     "output_type": "execute_result"
    }
   ],
   "source": [
    "np.unique(colleges_meanshift)"
   ]
  },
  {
   "cell_type": "markdown",
   "metadata": {},
   "source": [
    "Clusters:\n",
    "1. Private universities\n",
    "2. Liberal arts colleges\n",
    "3. Major-specific colleges (health, design, music)"
   ]
  },
  {
   "cell_type": "code",
   "execution_count": 52,
   "metadata": {},
   "outputs": [
    {
     "name": "stdout",
     "output_type": "stream",
     "text": [
      "Cluster 1\n",
      "0                          Duke University\n",
      "1    Massachusetts Institute of Technology\n",
      "2               University of Pennsylvania\n",
      "3                          Yale University\n",
      "4                       Harvard University\n",
      "Name: Name, dtype: object\n",
      "\n",
      "\n",
      "Cluster 2\n",
      "35                          Babson College\n",
      "323         Chamberlain University - Texas\n",
      "410    University of Minnesota - Rochester\n",
      "418        Mount Carmel College of Nursing\n",
      "462                 Sarah Lawrence College\n",
      "Name: Name, dtype: object\n",
      "\n",
      "\n",
      "Cluster 3\n",
      "282    Southern California Institute of Architecture\n",
      "293           American University of Health Sciences\n",
      "560               New York School of Interior Design\n",
      "590                     Cleveland Institute of Music\n",
      "609              San Francisco Conservatory of Music\n",
      "Name: Name, dtype: object\n",
      "\n",
      "\n"
     ]
    }
   ],
   "source": [
    "for k in range(0,3):\n",
    "    print('Cluster {}'.format(k+1))\n",
    "    print(colleges_load.loc[colleges_meanshift==k, 'Name'].iloc[:5])\n",
    "    print('\\n')"
   ]
  },
  {
   "cell_type": "markdown",
   "metadata": {},
   "source": [
    "## Hierarchical Clustering"
   ]
  },
  {
   "cell_type": "code",
   "execution_count": 53,
   "metadata": {},
   "outputs": [],
   "source": [
    "colleges_agglom = cluster.AgglomerativeClustering(n_clusters=7).fit_predict(colleges_np)"
   ]
  },
  {
   "cell_type": "markdown",
   "metadata": {},
   "source": [
    "Clusters:\n",
    "1. Public colleges\n",
    "2. Engineering/polytechnic colleges\n",
    "3. Liberal arts colleges\n",
    "4. Private national universities\n",
    "5. State universities with multiple campuses\n",
    "6. Major-specific colleges\n",
    "7. Other public colleges"
   ]
  },
  {
   "cell_type": "code",
   "execution_count": 54,
   "metadata": {},
   "outputs": [
    {
     "name": "stdout",
     "output_type": "stream",
     "text": [
      "Cluster 1\n",
      "311                                   Spelman College\n",
      "389                                 Howard University\n",
      "518          Pennsylvania State University - Hazleton\n",
      "529    Pennsylvania State University - Wilkes - Barre\n",
      "565            Pennsylvania State University - Dubois\n",
      "Name: Name, dtype: object\n",
      "\n",
      "\n",
      "Cluster 2\n",
      "5                       Harvey Mudd College\n",
      "29                             Olin College\n",
      "35                           Babson College\n",
      "45          Worcester Polytechnic Institute\n",
      "52    Rose - Hulman Institute of Technology\n",
      "Name: Name, dtype: object\n",
      "\n",
      "\n",
      "Cluster 3\n",
      "116        Wheaton College Illinois\n",
      "128    Illinois Wesleyan University\n",
      "134                Drake University\n",
      "142            Saint Anselm College\n",
      "146               Kalamazoo College\n",
      "Name: Name, dtype: object\n",
      "\n",
      "\n",
      "Cluster 4\n",
      "0                          Duke University\n",
      "1    Massachusetts Institute of Technology\n",
      "2               University of Pennsylvania\n",
      "3                          Yale University\n",
      "4                       Harvard University\n",
      "Name: Name, dtype: object\n",
      "\n",
      "\n",
      "Cluster 5\n",
      "32           University of Virginia - Main Campus\n",
      "34             University of Michigan - Ann Arbor\n",
      "48         University of California - Los Angeles\n",
      "49    University of North Carolina at Chapel Hill\n",
      "60                    College of William and Mary\n",
      "Name: Name, dtype: object\n",
      "\n",
      "\n",
      "Cluster 6\n",
      "62                       St Louis College of Pharmacy\n",
      "111    Albany College of Pharmacy and Health Sciences\n",
      "250                                    Bellin College\n",
      "282     Southern California Institute of Architecture\n",
      "283                  Bryan College of Health Sciences\n",
      "Name: Name, dtype: object\n",
      "\n",
      "\n",
      "Cluster 7\n",
      "159                            The College of New Jersey\n",
      "261                        St Mary's College of Maryland\n",
      "267                                         SUNY Geneseo\n",
      "270    SUNY College of Environmental Science and Fore...\n",
      "296                          Rutgers University - Camden\n",
      "Name: Name, dtype: object\n",
      "\n",
      "\n"
     ]
    }
   ],
   "source": [
    "for k in range(0,7):\n",
    "    print('Cluster {}'.format(k+1))\n",
    "    print(colleges_load.loc[colleges_agglom==k, 'Name'].iloc[:5])\n",
    "    print('\\n')"
   ]
  },
  {
   "cell_type": "markdown",
   "metadata": {},
   "source": [
    "## Summary\n",
    "Overall, we see that each algorithm is able to yield different sets of clusters, but the same theme keeps appearing. Private national universities mostly cluster together, whereas state universities usually end up in the same cluster. Schools that are more specific for a particular major/degree, such as engineering schools or health sciences schools tend to group together, whereas smaller liberal arts school usually end up in the same cluster.\n",
    "\n",
    "We are also able to observe that different algorithms, namely *KMeans*, *Hierarchical* and *Mean-Shift* can yield different clusters, even if the number of clusters is the same. Therefore, it is necessary to compare and contrast clustering results from different techniques to get the results desired."
   ]
  },
  {
   "cell_type": "markdown",
   "metadata": {},
   "source": [
    "## Tableau Viz\n",
    "Since each college entry includes the college location (city, state), this dataset can be efficiently and beautifully visualized using Tableau. Tableau uses the city/state location to automatically generate the latitude and longitude of each location, thus providing nice visualization on the U.S. map (excluding Alaska for better rendering).\n",
    "\n",
    "Below, in the top 2 panels, I show the acceptance rate and percent availability of financial aid by state, superimposed on the map. This map shows colleges on the West Coast and East Coast have lower acceptance rates but are able to award more financial to their students. This notion is corroborated by the regression analysis in the bottom panel, showing good negative linear correlation between acceptance rate and financial aid percentage. \n",
    "\n",
    "Additionally, the last graph illustrates an interesting idea: colleges that cost more can produce graduates who get high salary. Notably, the cheapest colleges and the most expensive colleges have high full-time enrollment rate, but middling-cost colleges have more part-time students.\n",
    "\n",
    "All in all, Tableau provides beautiful and eye-catching representations of this dataset."
   ]
  },
  {
   "cell_type": "code",
   "execution_count": 5,
   "metadata": {},
   "outputs": [
    {
     "data": {
      "text/html": [
       "s=<div class='tableauPlaceholder' id='viz1614286276299' style='position: relative'><noscript><a href='#'><img alt=' ' src='https:&#47;&#47;public.tableau.com&#47;static&#47;images&#47;Ta&#47;Tableau_colleges&#47;Dashboard1&#47;1_rss.png' style='border: none' /></a></noscript><object class='tableauViz'  style='display:none;'><param name='host_url' value='https%3A%2F%2Fpublic.tableau.com%2F' /> <param name='embed_code_version' value='3' /> <param name='site_root' value='' /><param name='name' value='Tableau_colleges&#47;Dashboard1' /><param name='tabs' value='no' /><param name='toolbar' value='yes' /><param name='static_image' value='https:&#47;&#47;public.tableau.com&#47;static&#47;images&#47;Ta&#47;Tableau_colleges&#47;Dashboard1&#47;1.png' /> <param name='animate_transition' value='yes' /><param name='display_static_image' value='yes' /><param name='display_spinner' value='yes' /><param name='display_overlay' value='yes' /><param name='display_count' value='yes' /><param name='language' value='en' /></object></div>                <script type='text/javascript'>                    var divElement = document.getElementById('viz1614286276299');                    var vizElement = divElement.getElementsByTagName('object')[0];                    if ( divElement.offsetWidth > 800 ) { vizElement.style.width='1000px';vizElement.style.height='827px';} else if ( divElement.offsetWidth > 500 ) { vizElement.style.width='1000px';vizElement.style.height='827px';} else { vizElement.style.width='100%';vizElement.style.height='1477px';}                     var scriptElement = document.createElement('script');                    scriptElement.src = 'https://public.tableau.com/javascripts/api/viz_v1.js';                    vizElement.parentNode.insertBefore(scriptElement, vizElement);                </script>\n"
      ],
      "text/plain": [
       "<IPython.core.display.HTML object>"
      ]
     },
     "metadata": {},
     "output_type": "display_data"
    }
   ],
   "source": [
    "%%html\n",
    "<div class='tableauPlaceholder' id='viz1614286276299' style='position: relative'><noscript><a href='#'><img alt=' ' src='https:&#47;&#47;public.tableau.com&#47;static&#47;images&#47;Ta&#47;Tableau_colleges&#47;Dashboard1&#47;1_rss.png' style='border: none' /></a></noscript><object class='tableauViz'  style='display:none;'><param name='host_url' value='https%3A%2F%2Fpublic.tableau.com%2F' /> <param name='embed_code_version' value='3' /> <param name='site_root' value='' /><param name='name' value='Tableau_colleges&#47;Dashboard1' /><param name='tabs' value='no' /><param name='toolbar' value='yes' /><param name='static_image' value='https:&#47;&#47;public.tableau.com&#47;static&#47;images&#47;Ta&#47;Tableau_colleges&#47;Dashboard1&#47;1.png' /> <param name='animate_transition' value='yes' /><param name='display_static_image' value='yes' /><param name='display_spinner' value='yes' /><param name='display_overlay' value='yes' /><param name='display_count' value='yes' /><param name='language' value='en' /></object></div>                <script type='text/javascript'>                    var divElement = document.getElementById('viz1614286276299');                    var vizElement = divElement.getElementsByTagName('object')[0];                    if ( divElement.offsetWidth > 800 ) { vizElement.style.width='1000px';vizElement.style.height='827px';} else if ( divElement.offsetWidth > 500 ) { vizElement.style.width='1000px';vizElement.style.height='827px';} else { vizElement.style.width='100%';vizElement.style.height='1477px';}                     var scriptElement = document.createElement('script');                    scriptElement.src = 'https://public.tableau.com/javascripts/api/viz_v1.js';                    vizElement.parentNode.insertBefore(scriptElement, vizElement);                </script>"
   ]
  },
  {
   "cell_type": "code",
   "execution_count": 4,
   "metadata": {},
   "outputs": [
    {
     "data": {
      "text/html": [
       "<div class='tableauPlaceholder' id='viz1614286276299' style='position: relative'><noscript><a href='#'><img alt=' ' src='https:&#47;&#47;public.tableau.com&#47;static&#47;images&#47;Ta&#47;Tableau_colleges&#47;Dashboard1&#47;1_rss.png' style='border: none' /></a></noscript><object class='tableauViz'  style='display:none;'><param name='host_url' value='https%3A%2F%2Fpublic.tableau.com%2F' /> <param name='embed_code_version' value='3' /> <param name='site_root' value='' /><param name='name' value='Tableau_colleges&#47;Dashboard1' /><param name='tabs' value='no' /><param name='toolbar' value='yes' /><param name='static_image' value='https:&#47;&#47;public.tableau.com&#47;static&#47;images&#47;Ta&#47;Tableau_colleges&#47;Dashboard1&#47;1.png' /> <param name='animate_transition' value='yes' /><param name='display_static_image' value='yes' /><param name='display_spinner' value='yes' /><param name='display_overlay' value='yes' /><param name='display_count' value='yes' /><param name='language' value='en' /></object></div>                <script type='text/javascript'>                    var divElement = document.getElementById('viz1614286276299');                    var vizElement = divElement.getElementsByTagName('object')[0];                    if ( divElement.offsetWidth > 800 ) { vizElement.style.width='1000px';vizElement.style.height='827px';} else if ( divElement.offsetWidth > 500 ) { vizElement.style.width='1000px';vizElement.style.height='827px';} else { vizElement.style.width='100%';vizElement.style.height='1477px';}                     var scriptElement = document.createElement('script');                    scriptElement.src = 'https://public.tableau.com/javascripts/api/viz_v1.js';                    vizElement.parentNode.insertBefore(scriptElement, vizElement);                </script>"
      ],
      "text/plain": [
       "<IPython.core.display.HTML object>"
      ]
     },
     "metadata": {},
     "output_type": "display_data"
    }
   ],
   "source": [
    "from IPython.core.display import display, HTML\n",
    "s=\"<div class='tableauPlaceholder' id='viz1614286276299' style='position: relative'><noscript><a href='#'><img alt=' ' src='https:&#47;&#47;public.tableau.com&#47;static&#47;images&#47;Ta&#47;Tableau_colleges&#47;Dashboard1&#47;1_rss.png' style='border: none' /></a></noscript><object class='tableauViz'  style='display:none;'><param name='host_url' value='https%3A%2F%2Fpublic.tableau.com%2F' /> <param name='embed_code_version' value='3' /> <param name='site_root' value='' /><param name='name' value='Tableau_colleges&#47;Dashboard1' /><param name='tabs' value='no' /><param name='toolbar' value='yes' /><param name='static_image' value='https:&#47;&#47;public.tableau.com&#47;static&#47;images&#47;Ta&#47;Tableau_colleges&#47;Dashboard1&#47;1.png' /> <param name='animate_transition' value='yes' /><param name='display_static_image' value='yes' /><param name='display_spinner' value='yes' /><param name='display_overlay' value='yes' /><param name='display_count' value='yes' /><param name='language' value='en' /></object></div>                <script type='text/javascript'>                    var divElement = document.getElementById('viz1614286276299');                    var vizElement = divElement.getElementsByTagName('object')[0];                    if ( divElement.offsetWidth > 800 ) { vizElement.style.width='1000px';vizElement.style.height='827px';} else if ( divElement.offsetWidth > 500 ) { vizElement.style.width='1000px';vizElement.style.height='827px';} else { vizElement.style.width='100%';vizElement.style.height='1477px';}                     var scriptElement = document.createElement('script');                    scriptElement.src = 'https://public.tableau.com/javascripts/api/viz_v1.js';                    vizElement.parentNode.insertBefore(scriptElement, vizElement);                </script>\"\n",
    "display(HTML(s))"
   ]
  },
  {
   "cell_type": "code",
   "execution_count": null,
   "metadata": {},
   "outputs": [],
   "source": []
  }
 ],
 "metadata": {
  "kernelspec": {
   "display_name": "Python 3",
   "language": "python",
   "name": "python3"
  },
  "language_info": {
   "codemirror_mode": {
    "name": "ipython",
    "version": 3
   },
   "file_extension": ".py",
   "mimetype": "text/x-python",
   "name": "python",
   "nbconvert_exporter": "python",
   "pygments_lexer": "ipython3",
   "version": "3.6.1"
  }
 },
 "nbformat": 4,
 "nbformat_minor": 5
}
