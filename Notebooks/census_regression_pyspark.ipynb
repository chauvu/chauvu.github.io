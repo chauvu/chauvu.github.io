{
 "cells": [
  {
   "cell_type": "markdown",
   "id": "68aca828",
   "metadata": {},
   "source": [
    "# Poverty Prediction from County Census Data -- PySpark\n",
    "In this project, I will perform regression analysis of the county-wide Census to predict poverty rate in counties in the United States. This work has already performed using the linear regression algorithms with *sklearn* library [link](https://github.com/chauvu/chauvu.github.io/blob/main/Notebooks/census_regression.ipynb). Here, instead of *sklearn*, I will use *PySpark*, which is the Python interface for Apache Spark. Spark is a popular open-sourced framework for distributed programming (using different nodes across different machines). In industry, Spark is usually run on top of a Hadoop cluster with Hadoop's YARN to perform work allocation across nodes. In this project, however, I will be running Spark locally on my laptop.\n",
    "\n",
    "Mostly, I will be using the two most commonly used Spark features - DataFrames and SparkSQL. I will not use directly using RDDs, which are the data structure distributed across nodes; however, DataFrames are built on RDDs but have a similar usage to *pandas*' DataFrames, so it is more convenient for implementation. Other interesting features of Spark include MLLib (which can be used for training deep learning models) and GraphX/GraphFrames (which can be used for graph analysis); these can potentially be explored in future projects.\n",
    "\n",
    "In this current work, I will be repeating the linear regression on Census found in [link](https://github.com/chauvu/chauvu.github.io/blob/main/Notebooks/census_regression.ipynb) using the native Spark's DataFrames features. "
   ]
  },
  {
   "cell_type": "code",
   "execution_count": 1,
   "id": "2b5e5678",
   "metadata": {},
   "outputs": [],
   "source": [
    "import pandas as pd \n",
    "import numpy as np\n",
    "import matplotlib.pyplot as plt\n",
    "\n",
    "import pyspark.sql.functions as F\n",
    "from pyspark.sql.types import StructField, StructType, StringType, IntegerType, FloatType\n",
    "from pyspark.sql import SparkSession\n",
    "\n",
    "from pyspark.ml import Pipeline\n",
    "from pyspark.ml.feature import VectorAssembler, VectorIndexer, MinMaxScaler, StandardScaler\n",
    "from pyspark.ml.regression import LinearRegression, RandomForestRegressor\n",
    "from pyspark.ml.classification import LogisticRegression\n",
    "from pyspark.ml.tuning import ParamGridBuilder, CrossValidator\n",
    "from pyspark.ml.evaluation import RegressionEvaluator, BinaryClassificationEvaluator\n",
    "from pyspark.ml.stat import Correlation"
   ]
  },
  {
   "cell_type": "markdown",
   "id": "2229faf0",
   "metadata": {},
   "source": [
    "### Spark Initialization\n",
    "I need to first start a Spark context. Since I am not running on top of node cluster across different machines, I will set the context to *local*. And since my machine has 4 cores, I will create 4 worker nodes with `local[4]`."
   ]
  },
  {
   "cell_type": "code",
   "execution_count": 2,
   "id": "57c953a0",
   "metadata": {},
   "outputs": [],
   "source": [
    "spark = SparkSession.builder.master(\"local[4]\").appName('Health_County').getOrCreate() # 4 cores\n",
    "sc = spark.sparkContext"
   ]
  },
  {
   "cell_type": "markdown",
   "id": "1262b35d",
   "metadata": {},
   "source": [
    "## Data Exploratory Analysis\n",
    "Data has already been cleaned in a previous [project](https://github.com/chauvu/chauvu.github.io/blob/main/Notebooks/census_data_cleaning.ipynb). Here, I will be loading in the data pickle file from [here](https://github.com/chauvu/chauvu.github.io/blob/main/Data/census/data_census.pkl).\n",
    "\n",
    "When `spark.createDataFrame` is called upon a pandas DataFrame, it can interpret and guess the schema of data types. However, it is always better to explicitly specify the schema for DataFrames. For example, I have explicitly specified that `FIPS`, `State` and `County_Name` are string types, whereas the rest of the columns are either interger or float types. The schema can be shown below.\n",
    "\n",
    "I am also showing the 1st entry of the Spark DataFrame using `df.show(1)`. However, since there are many columns, the display is overrun and difficult to see. It is much harder to interpret compared with the convenient and simple display by using pandas `data.head(1)`. However, the point of spark is not for viewing individual data entries. Spark expedites analysis on data distributed across different machines, so the strength of Spark is in the data analytics not data visualization."
   ]
  },
  {
   "cell_type": "code",
   "execution_count": 3,
   "id": "d2dba9fa",
   "metadata": {},
   "outputs": [],
   "source": [
    "data = pd.read_pickle('data_census.pkl')\n",
    "schema_list = []\n",
    "for c in data.columns:\n",
    "\tif c in ['FIPS', 'State', 'County_Name']:\n",
    "\t\tschema_list.append(StructField(c, StringType(), nullable=True))\n",
    "\telif c in ['CENSUS_2010_POP', 'FIPS_int', 'ABS_POVERTY', 'ABS_POVERTY_CHILDREN', 'MEDIAN_HH_INCOME', 'Metropolitan']:\n",
    "\t\tschema_list.append(StructField(c, IntegerType(), nullable=True))\n",
    "\telse:\n",
    "\t\tschema_list.append(StructField(c, FloatType(), nullable=True))\n",
    "schema = StructType(schema_list)\n",
    "df = spark.createDataFrame(data, schema=schema) # explicit schema"
   ]
  },
  {
   "cell_type": "code",
   "execution_count": 4,
   "id": "a4103d84",
   "metadata": {},
   "outputs": [
    {
     "name": "stdout",
     "output_type": "stream",
     "text": [
      "root\n",
      " |-- FIPS: string (nullable = true)\n",
      " |-- State: string (nullable = true)\n",
      " |-- County_Name: string (nullable = true)\n",
      " |-- CENSUS_2010_POP: integer (nullable = true)\n",
      " |-- FIPS_int: integer (nullable = true)\n",
      " |-- AVE_POP_CHG: float (nullable = true)\n",
      " |-- AVE_BIRTHS: float (nullable = true)\n",
      " |-- AVE_DEATHS: float (nullable = true)\n",
      " |-- AVE_INTERNATIONAL_MIG: float (nullable = true)\n",
      " |-- AVE_DOMESTIC_MIG: float (nullable = true)\n",
      " |-- ABS_POVERTY: integer (nullable = true)\n",
      " |-- PERCENT_POVERTY: float (nullable = true)\n",
      " |-- ABS_POVERTY_CHILDREN: integer (nullable = true)\n",
      " |-- PERCENT_POVERTY_CHILDREN: float (nullable = true)\n",
      " |-- MEDIAN_HH_INCOME: integer (nullable = true)\n",
      " |-- Metropolitan: integer (nullable = true)\n",
      " |-- Med_HH_Income: float (nullable = true)\n",
      " |-- Median_HH_Income_pct_state: float (nullable = true)\n",
      " |-- Ave_Unemployed_Rate: float (nullable = true)\n",
      " |-- LT_HighSchool: float (nullable = true)\n",
      " |-- HighSchool: float (nullable = true)\n",
      " |-- Associate: float (nullable = true)\n",
      " |-- Bachelor_GT: float (nullable = true)\n",
      " |-- Percent_LT_HighSchool: float (nullable = true)\n",
      " |-- Percent_HighSchool: float (nullable = true)\n",
      " |-- Percent_Associate: float (nullable = true)\n",
      " |-- Percent_Bachelor_GT: float (nullable = true)\n",
      " |-- Heart_mortality_rate: float (nullable = true)\n",
      " |-- Stroke_mortality_rate: float (nullable = true)\n",
      " |-- AVE_BIRTH_RATE: float (nullable = true)\n",
      " |-- Percent_High_Speed: float (nullable = true)\n",
      "\n"
     ]
    }
   ],
   "source": [
    "df.printSchema()"
   ]
  },
  {
   "cell_type": "code",
   "execution_count": 5,
   "id": "acc726f2",
   "metadata": {},
   "outputs": [
    {
     "name": "stdout",
     "output_type": "stream",
     "text": [
      "+-----+-----+--------------+---------------+--------+-----------+----------+----------+---------------------+----------------+-----------+---------------+--------------------+------------------------+----------------+------------+-------------+--------------------------+-------------------+-------------+----------+---------+-----------+---------------------+------------------+-----------------+-------------------+--------------------+---------------------+--------------+------------------+\n",
      "| FIPS|State|   County_Name|CENSUS_2010_POP|FIPS_int|AVE_POP_CHG|AVE_BIRTHS|AVE_DEATHS|AVE_INTERNATIONAL_MIG|AVE_DOMESTIC_MIG|ABS_POVERTY|PERCENT_POVERTY|ABS_POVERTY_CHILDREN|PERCENT_POVERTY_CHILDREN|MEDIAN_HH_INCOME|Metropolitan|Med_HH_Income|Median_HH_Income_pct_state|Ave_Unemployed_Rate|LT_HighSchool|HighSchool|Associate|Bachelor_GT|Percent_LT_HighSchool|Percent_HighSchool|Percent_Associate|Percent_Bachelor_GT|Heart_mortality_rate|Stroke_mortality_rate|AVE_BIRTH_RATE|Percent_High_Speed|\n",
      "+-----+-----+--------------+---------------+--------+-----------+----------+----------+---------------------+----------------+-----------+---------------+--------------------+------------------------+----------------+------------+-------------+--------------------------+-------------------+-------------+----------+---------+-----------+---------------------+------------------+-----------------+-------------------+--------------------+---------------------+--------------+------------------+\n",
      "|01001|   AL|Autauga County|          54571|    1001|    105.875|     637.0|     550.5|                  4.0|          16.875|       7587|           13.8|                2509|                    19.3|           59338|           1|      59338.0|                  118.9591|           6.008333|       4204.0|   12119.0|  10552.0|    10291.0|                 11.3|              32.6|             28.4|               27.7|               425.0|                 96.5|      34.31875|              0.75|\n",
      "+-----+-----+--------------+---------------+--------+-----------+----------+----------+---------------------+----------------+-----------+---------------+--------------------+------------------------+----------------+------------+-------------+--------------------------+-------------------+-------------+----------+---------+-----------+---------------------+------------------+-----------------+-------------------+--------------------+---------------------+--------------+------------------+\n",
      "only showing top 1 row\n",
      "\n"
     ]
    }
   ],
   "source": [
    "# spark\n",
    "df.show(1)"
   ]
  },
  {
   "cell_type": "code",
   "execution_count": 6,
   "id": "82b9f6a9",
   "metadata": {},
   "outputs": [
    {
     "data": {
      "text/html": [
       "<div>\n",
       "<style scoped>\n",
       "    .dataframe tbody tr th:only-of-type {\n",
       "        vertical-align: middle;\n",
       "    }\n",
       "\n",
       "    .dataframe tbody tr th {\n",
       "        vertical-align: top;\n",
       "    }\n",
       "\n",
       "    .dataframe thead th {\n",
       "        text-align: right;\n",
       "    }\n",
       "</style>\n",
       "<table border=\"1\" class=\"dataframe\">\n",
       "  <thead>\n",
       "    <tr style=\"text-align: right;\">\n",
       "      <th></th>\n",
       "      <th>FIPS</th>\n",
       "      <th>State</th>\n",
       "      <th>County_Name</th>\n",
       "      <th>CENSUS_2010_POP</th>\n",
       "      <th>FIPS_int</th>\n",
       "      <th>AVE_POP_CHG</th>\n",
       "      <th>AVE_BIRTHS</th>\n",
       "      <th>AVE_DEATHS</th>\n",
       "      <th>AVE_INTERNATIONAL_MIG</th>\n",
       "      <th>AVE_DOMESTIC_MIG</th>\n",
       "      <th>...</th>\n",
       "      <th>Associate</th>\n",
       "      <th>Bachelor_GT</th>\n",
       "      <th>Percent_LT_HighSchool</th>\n",
       "      <th>Percent_HighSchool</th>\n",
       "      <th>Percent_Associate</th>\n",
       "      <th>Percent_Bachelor_GT</th>\n",
       "      <th>Heart_mortality_rate</th>\n",
       "      <th>Stroke_mortality_rate</th>\n",
       "      <th>AVE_BIRTH_RATE</th>\n",
       "      <th>Percent_High_Speed</th>\n",
       "    </tr>\n",
       "  </thead>\n",
       "  <tbody>\n",
       "    <tr>\n",
       "      <th>0</th>\n",
       "      <td>01001</td>\n",
       "      <td>AL</td>\n",
       "      <td>Autauga County</td>\n",
       "      <td>54571</td>\n",
       "      <td>1001</td>\n",
       "      <td>105.875</td>\n",
       "      <td>637.0</td>\n",
       "      <td>550.5</td>\n",
       "      <td>4.0</td>\n",
       "      <td>16.875</td>\n",
       "      <td>...</td>\n",
       "      <td>10552.0</td>\n",
       "      <td>10291.0</td>\n",
       "      <td>11.3</td>\n",
       "      <td>32.6</td>\n",
       "      <td>28.4</td>\n",
       "      <td>27.7</td>\n",
       "      <td>425.0</td>\n",
       "      <td>96.5</td>\n",
       "      <td>34.31875</td>\n",
       "      <td>0.75</td>\n",
       "    </tr>\n",
       "  </tbody>\n",
       "</table>\n",
       "<p>1 rows × 31 columns</p>\n",
       "</div>"
      ],
      "text/plain": [
       "    FIPS State     County_Name  CENSUS_2010_POP  FIPS_int  AVE_POP_CHG  \\\n",
       "0  01001    AL  Autauga County            54571      1001      105.875   \n",
       "\n",
       "   AVE_BIRTHS  AVE_DEATHS  AVE_INTERNATIONAL_MIG  AVE_DOMESTIC_MIG  ...  \\\n",
       "0       637.0       550.5                    4.0            16.875  ...   \n",
       "\n",
       "   Associate  Bachelor_GT  Percent_LT_HighSchool  Percent_HighSchool  \\\n",
       "0    10552.0      10291.0                   11.3                32.6   \n",
       "\n",
       "   Percent_Associate  Percent_Bachelor_GT  Heart_mortality_rate  \\\n",
       "0               28.4                 27.7                 425.0   \n",
       "\n",
       "   Stroke_mortality_rate  AVE_BIRTH_RATE  Percent_High_Speed  \n",
       "0                   96.5        34.31875                0.75  \n",
       "\n",
       "[1 rows x 31 columns]"
      ]
     },
     "execution_count": 6,
     "metadata": {},
     "output_type": "execute_result"
    }
   ],
   "source": [
    "# pandas\n",
    "data.head(1)"
   ]
  },
  {
   "cell_type": "markdown",
   "id": "17000c8d",
   "metadata": {},
   "source": [
    "### PySpark DataFrames vs. SparkSQL commands\n",
    "Spark DataFrames have various commands to manipulate the data, many of which have parallel in the Spark's implementation of SQL. Here, I display a few common commands and demonstrate that both techniques yield the same results.\n",
    "\n",
    "As we can see, the results are the same, but the code for Spark SQL tend to be more *verbose* because it needs to translate a longer SQL command into Spark DataFrames command. However, the advantage of using SparkSQL is that SQL is a very universal language that most people are proficient at, so this eliminates the need to memorizing additional Spark DataFrame syntax when Spark SQL can take care of it behind the scene for you."
   ]
  },
  {
   "cell_type": "code",
   "execution_count": 7,
   "id": "552fe559",
   "metadata": {},
   "outputs": [
    {
     "name": "stdout",
     "output_type": "stream",
     "text": [
      "Spark SQL\n",
      "+---------------+\n",
      "|CENSUS_2010_POP|\n",
      "+---------------+\n",
      "|          54571|\n",
      "|         182265|\n",
      "|          27457|\n",
      "|          22915|\n",
      "|          57322|\n",
      "|          10914|\n",
      "|          20947|\n",
      "|         118572|\n",
      "|          34215|\n",
      "|          25989|\n",
      "+---------------+\n",
      "\n",
      "Spark DataFrames\n",
      "+---------------+\n",
      "|CENSUS_2010_POP|\n",
      "+---------------+\n",
      "|          54571|\n",
      "|         182265|\n",
      "|          27457|\n",
      "|          22915|\n",
      "|          57322|\n",
      "|          10914|\n",
      "|          20947|\n",
      "|         118572|\n",
      "|          34215|\n",
      "|          25989|\n",
      "+---------------+\n",
      "only showing top 10 rows\n",
      "\n"
     ]
    }
   ],
   "source": [
    "# Spark SQL\n",
    "print('Spark SQL')\n",
    "df.createOrReplaceTempView('data')\n",
    "result = spark.sql(\"SELECT CENSUS_2010_POP FROM data LIMIT 10\")\n",
    "result.show()\n",
    "\n",
    "# Spark DataFrames\n",
    "print('Spark DataFrames')\n",
    "df.select('CENSUS_2010_POP').show(10)"
   ]
  },
  {
   "cell_type": "code",
   "execution_count": 8,
   "id": "4fbad025",
   "metadata": {},
   "outputs": [
    {
     "name": "stdout",
     "output_type": "stream",
     "text": [
      "Spark SQL\n",
      "+-----+------------------+\n",
      "|State|             death|\n",
      "+-----+------------------+\n",
      "|   SD|        12493.5625|\n",
      "|   ND|13093.333333333334|\n",
      "|   MT|         17668.125|\n",
      "|   NE| 21091.45348837209|\n",
      "|   WY|24505.478260869564|\n",
      "|   KS|27412.346153846152|\n",
      "|   IA|30771.262626262625|\n",
      "|   WV|           33690.8|\n",
      "|   ID| 35626.86363636364|\n",
      "|   KY| 36161.39166666667|\n",
      "+-----+------------------+\n",
      "\n",
      "Spark DataFrames\n",
      "+-----+------------------+\n",
      "|State|             death|\n",
      "+-----+------------------+\n",
      "|   SD|        12493.5625|\n",
      "|   ND|13093.333333333334|\n",
      "|   MT|         17668.125|\n",
      "|   NE| 21091.45348837209|\n",
      "|   WY|24505.478260869564|\n",
      "|   KS|27412.346153846152|\n",
      "|   IA|30771.262626262625|\n",
      "|   WV|           33690.8|\n",
      "|   ID| 35626.86363636364|\n",
      "|   KY| 36161.39166666667|\n",
      "+-----+------------------+\n",
      "only showing top 10 rows\n",
      "\n"
     ]
    }
   ],
   "source": [
    "# Spark SQL\n",
    "print('Spark SQL')\n",
    "result = spark.sql(\"SELECT State, AVG(CENSUS_2010_POP) death FROM data GROUP BY State ORDER BY death LIMIT 10\")\n",
    "result.show()\n",
    "\n",
    "# Spark DataFrames\n",
    "print('Spark DataFrames')\n",
    "df.groupby('State').agg(F.avg('CENSUS_2010_POP').alias('death')).orderBy('death').show(10)"
   ]
  },
  {
   "cell_type": "code",
   "execution_count": 9,
   "id": "bf136151",
   "metadata": {},
   "outputs": [
    {
     "name": "stdout",
     "output_type": "stream",
     "text": [
      "Spark SQL\n",
      "+-----+------------------+----+\n",
      "|State|             death|rate|\n",
      "+-----+------------------+----+\n",
      "|   SD|        12493.5625|HIGH|\n",
      "|   ND|13093.333333333334|HIGH|\n",
      "|   MT|         17668.125|HIGH|\n",
      "|   NE| 21091.45348837209|HIGH|\n",
      "|   WY|24505.478260869564|HIGH|\n",
      "|   KS|27412.346153846152|HIGH|\n",
      "|   IA|30771.262626262625|HIGH|\n",
      "|   WV|           33690.8|HIGH|\n",
      "|   ID| 35626.86363636364|HIGH|\n",
      "|   KY| 36161.39166666667|HIGH|\n",
      "+-----+------------------+----+\n",
      "\n",
      "Spark DataFrames\n",
      "+-----+------------------+----+\n",
      "|State|             death|rate|\n",
      "+-----+------------------+----+\n",
      "|   SD|        12493.5625|HIGH|\n",
      "|   ND|13093.333333333334|HIGH|\n",
      "|   MT|         17668.125|HIGH|\n",
      "|   NE| 21091.45348837209|HIGH|\n",
      "|   WY|24505.478260869564|HIGH|\n",
      "|   KS|27412.346153846152|HIGH|\n",
      "|   IA|30771.262626262625|HIGH|\n",
      "|   WV|           33690.8|HIGH|\n",
      "|   ID| 35626.86363636364|HIGH|\n",
      "|   KY| 36161.39166666667|HIGH|\n",
      "+-----+------------------+----+\n",
      "only showing top 10 rows\n",
      "\n"
     ]
    }
   ],
   "source": [
    "# Spark SQL\n",
    "print('Spark SQL')\n",
    "result = spark.sql(\"SELECT State, AVG(CENSUS_2010_POP) death, \\\n",
    "\t\t\t\t\t(CASE WHEN AVG(CENSUS_2010_POP) > 500 THEN 'HIGH' ELSE 'LOW' END) AS rate \\\n",
    "\t\t\t\t\tFROM data GROUP BY State \\\n",
    "\t\t\t\t\tORDER BY death LIMIT 10\")\n",
    "result.show()\n",
    "\n",
    "# Spark DataFrames\n",
    "print('Spark DataFrames')\n",
    "df.groupby('State').agg(F.avg('CENSUS_2010_POP').alias('death'), F.when(F.avg('CENSUS_2010_POP')>500, 'HIGH').otherwise('LOW').alias('rate')).orderBy('death').show(10)\n"
   ]
  },
  {
   "cell_type": "markdown",
   "id": "9cd65bec",
   "metadata": {},
   "source": [
    "## Data Cleaning\n",
    "In this part, I will repeat some basic data cleaning processes performed in [link](https://github.com/chauvu/chauvu.github.io/blob/main/Notebooks/census_data_cleaning.ipynb). \n",
    "* Drop unnecessary columns, such as `FIPS` which is the numerical code for different counties.\n",
    "* Compute informative columns, such as `Pop_change_rate` as the rate of change of the population of this county.\n",
    "* Identify columns with null values. The table printed below shows the only column with null value is `Percent_High_Speed` with 210 rows that are null.\n",
    "* Mean imputation, performed on `Percent_High_Speed` by replacing the mean value into all null entries.\n",
    "* Round to 2 decimals (for display purposes). This portion makes use of user-defined functions in Spark DataFrames and applied it on columns in the DataFrame. As shown below, we have rounded the values to 2 decimals, which make it much easier for display purposes."
   ]
  },
  {
   "cell_type": "code",
   "execution_count": 10,
   "id": "2fe713a4",
   "metadata": {},
   "outputs": [
    {
     "name": "stdout",
     "output_type": "stream",
     "text": [
      "+------------------+\n",
      "|Percent_High_Speed|\n",
      "+------------------+\n",
      "|               210|\n",
      "+------------------+\n",
      "\n"
     ]
    }
   ],
   "source": [
    "# drop unnecessary columns\n",
    "df = df.drop('FIPS','State','County_Name','FIPS_int','PERCENT_POVERTY_CHILDREN',\\\n",
    "\t\t\t'ABS_POVERTY_CHILDREN','ABS_POVERTY','MEDIAN_HH_INCOME','Med_HH_Income',\\\n",
    "\t\t\t'LT_HighSchool', 'HighSchool', 'Associate', 'Bachelor_GT')\n",
    "# add new columns\n",
    "df = df.withColumn('Pop_change_rate', df['AVE_POP_CHG'] / df['CENSUS_2010_POP'])\n",
    "df = df.withColumn('Death_rate', df['AVE_DEATHS'] / df['CENSUS_2010_POP'])\n",
    "df = df.withColumn('Intl_migration_rate', df['AVE_INTERNATIONAL_MIG'] / df['CENSUS_2010_POP'])\n",
    "df = df.withColumn('Domestic_migration_rate', df['AVE_DOMESTIC_MIG'] / df['CENSUS_2010_POP'])\n",
    "df = df.drop('AVE_POP_CHG','AVE_DEATHS','AVE_BIRTHS','AVE_INTERNATIONAL_MIG','AVE_DOMESTIC_MIG')\n",
    "\n",
    "# check nan values\n",
    "for c in df.columns:\n",
    "\ttable = df.select(F.count(F.when(F.isnan(c), c)).alias(c))\n",
    "\trow = table.first()\n",
    "\trow_value = list(row.asDict().values())[0]\n",
    "\tif row_value > 0:\n",
    "\t\ttable.show()"
   ]
  },
  {
   "cell_type": "code",
   "execution_count": 11,
   "id": "9b234140",
   "metadata": {},
   "outputs": [],
   "source": [
    "# mean imputation\n",
    "stats = df.where(~F.isnan(F.col(\"Percent_High_Speed\"))).agg(F.avg('Percent_High_Speed').alias('Percent_High_Speed'))\n",
    "stats_mean = list(stats.first().asDict().values())[0]\n",
    "df = df.na.fill(stats_mean, ['Percent_High_Speed'])"
   ]
  },
  {
   "cell_type": "code",
   "execution_count": 12,
   "id": "77cf02fb",
   "metadata": {},
   "outputs": [],
   "source": [
    "# round to 2 decimals with UDF\n",
    "def round_2dec(x):\n",
    "\treturn round(x, 2)\n",
    "round_2dec_udf = F.udf(lambda z: round_2dec(z), FloatType())"
   ]
  },
  {
   "cell_type": "code",
   "execution_count": 13,
   "id": "bc530928",
   "metadata": {},
   "outputs": [],
   "source": [
    "df_round = df.select([round_2dec_udf(F.col(c)).alias(c) for c in df.columns])"
   ]
  },
  {
   "cell_type": "code",
   "execution_count": 14,
   "id": "fff406b0",
   "metadata": {},
   "outputs": [
    {
     "name": "stdout",
     "output_type": "stream",
     "text": [
      "+---------------+---------------+------------+--------------------------+-------------------+---------------------+------------------+-----------------+-------------------+--------------------+---------------------+--------------+------------------+---------------+----------+-------------------+-----------------------+\n",
      "|CENSUS_2010_POP|PERCENT_POVERTY|Metropolitan|Median_HH_Income_pct_state|Ave_Unemployed_Rate|Percent_LT_HighSchool|Percent_HighSchool|Percent_Associate|Percent_Bachelor_GT|Heart_mortality_rate|Stroke_mortality_rate|AVE_BIRTH_RATE|Percent_High_Speed|Pop_change_rate|Death_rate|Intl_migration_rate|Domestic_migration_rate|\n",
      "+---------------+---------------+------------+--------------------------+-------------------+---------------------+------------------+-----------------+-------------------+--------------------+---------------------+--------------+------------------+---------------+----------+-------------------+-----------------------+\n",
      "|           null|           13.8|        null|                    118.96|               6.01|                 11.3|              32.6|             28.4|               27.7|               425.0|                 96.5|         34.32|              0.75|            0.0|      0.01|                0.0|                    0.0|\n",
      "+---------------+---------------+------------+--------------------------+-------------------+---------------------+------------------+-----------------+-------------------+--------------------+---------------------+--------------+------------------+---------------+----------+-------------------+-----------------------+\n",
      "only showing top 1 row\n",
      "\n"
     ]
    }
   ],
   "source": [
    "df_round.show(1)"
   ]
  },
  {
   "cell_type": "markdown",
   "id": "ce0bce34",
   "metadata": {},
   "source": [
    "## Data Analysis\n",
    "The purpose of this project is to analyze the dependency of countywide poverty rates with different factors in the census dataset. Let's take a look at univariate correlation coefficients between these predictors with `PERCENT_POVERTY`. We can see that median household incomes tend to have negative correlation with poverty, whereas average birth rate is positively correlated with poverty.\n",
    "\n",
    "You can find this exact same figure created using *pandas* and *sklearn* in the previous [project](https://github.com/chauvu/chauvu.github.io/blob/main/Notebooks/census_regression.ipynb)."
   ]
  },
  {
   "cell_type": "code",
   "execution_count": 15,
   "id": "3999e03e",
   "metadata": {},
   "outputs": [
    {
     "data": {
      "image/png": "[encoded data removed]",
      "text/plain": [
       "<Figure size 432x288 with 1 Axes>"
      ]
     },
     "metadata": {
      "needs_background": "light"
     },
     "output_type": "display_data"
    }
   ],
   "source": [
    "corrs = {}\n",
    "for c in df.columns:\n",
    "\tif c=='PERCENT_POVERTY': continue\n",
    "\telse:\n",
    "\t\tcorrs[c] = df.corr(c, 'PERCENT_POVERTY')\n",
    "plt.bar(list(corrs.keys()), list(corrs.values()))\n",
    "plt.xticks(rotation=90)\n",
    "plt.show()"
   ]
  },
  {
   "cell_type": "markdown",
   "id": "0fd70be3",
   "metadata": {},
   "source": [
    "I split the data into the training and testing sets (80/20) and created `feature_list` variable to hold all predictors. Next, I will perform linear regression using two methods:\n",
    "* Elastic Net Regularization\n",
    "* Random Forest Regression\n",
    "\n",
    "Additionally, the categorical data `Metropolitan` has already been indexed (0 for not metropolitan and 1 for metropolitan); therefore, does not need pipeline with `VectorIndexer`. Otherwise, I will need to add it to the beginning of the pipeline <VectorIndexer, VectorAssembler, linear_regression>."
   ]
  },
  {
   "cell_type": "code",
   "execution_count": 16,
   "id": "866242f8",
   "metadata": {},
   "outputs": [
    {
     "data": {
      "text/plain": [
       "['CENSUS_2010_POP',\n",
       " 'Metropolitan',\n",
       " 'Median_HH_Income_pct_state',\n",
       " 'Ave_Unemployed_Rate',\n",
       " 'Percent_LT_HighSchool',\n",
       " 'Percent_HighSchool',\n",
       " 'Percent_Associate',\n",
       " 'Percent_Bachelor_GT',\n",
       " 'Heart_mortality_rate',\n",
       " 'Stroke_mortality_rate',\n",
       " 'AVE_BIRTH_RATE',\n",
       " 'Percent_High_Speed',\n",
       " 'Pop_change_rate',\n",
       " 'Death_rate',\n",
       " 'Intl_migration_rate',\n",
       " 'Domestic_migration_rate']"
      ]
     },
     "execution_count": 16,
     "metadata": {},
     "output_type": "execute_result"
    }
   ],
   "source": [
    "df_train, df_test = df.randomSplit([0.8, 0.2], seed=123)\n",
    "label_col = 'PERCENT_POVERTY'\n",
    "feature_list = [c for c in df.columns if c != label_col]\n",
    "feature_list"
   ]
  },
  {
   "cell_type": "markdown",
   "id": "5b1e1e97",
   "metadata": {},
   "source": [
    "### 1. Elastic Net Regression\n",
    "Here, I use linear regression with Elastic Net, with `elasticNetParam=0.5`, which means it has 50% weighting for L1 regularization and 50% weighting for L2 regularization. The top 20 rows for the poverty predictions are shown on the test set in comparison with ground truth `PERCENT_POVERTY` column. The R-squared value for the model is 0.69."
   ]
  },
  {
   "cell_type": "code",
   "execution_count": 17,
   "id": "9f57bd2d",
   "metadata": {},
   "outputs": [],
   "source": [
    "assembler = VectorAssembler(inputCols=feature_list, outputCol='features')\n",
    "scaler = StandardScaler(inputCol='features', outputCol='features_scaled')\n",
    "lr = LinearRegression(labelCol=label_col, featuresCol='features_scaled', regParam=0.5, elasticNetParam=0.5)\n",
    "pipeline = Pipeline(stages=[assembler, scaler, lr])"
   ]
  },
  {
   "cell_type": "code",
   "execution_count": 18,
   "id": "8d814e35",
   "metadata": {},
   "outputs": [
    {
     "name": "stdout",
     "output_type": "stream",
     "text": [
      "Results on Test Set\n",
      "+------------------+---------------+\n",
      "|        prediction|PERCENT_POVERTY|\n",
      "+------------------+---------------+\n",
      "|12.077167609430536|            8.6|\n",
      "| 12.30130096807471|           13.4|\n",
      "|15.785971380675178|           14.9|\n",
      "|14.538850406670642|           10.5|\n",
      "|23.064992510196284|           29.8|\n",
      "|13.646875218405668|           14.2|\n",
      "|19.802415176866788|           20.0|\n",
      "|11.944794795452998|           14.7|\n",
      "|17.141955764093154|           18.6|\n",
      "|12.624131580702194|           13.7|\n",
      "|20.495783900801644|           22.0|\n",
      "| 15.14408719572752|           13.8|\n",
      "| 16.45456556793397|           15.7|\n",
      "|10.090685389236505|           10.7|\n",
      "|19.907120757898213|           33.9|\n",
      "|21.670687627686043|           24.8|\n",
      "|24.072271986759393|           30.8|\n",
      "|17.620601058129434|           17.2|\n",
      "|18.911092520949783|           21.4|\n",
      "| 17.52732751674819|           15.8|\n",
      "+------------------+---------------+\n",
      "only showing top 20 rows\n",
      "\n"
     ]
    }
   ],
   "source": [
    "lr_fit = pipeline.fit(df_train)\n",
    "lr_preds = lr_fit.transform(df_test)\n",
    "print('Results on Test Set')\n",
    "lr_preds.select('prediction', label_col).show()\n",
    "evaluator = RegressionEvaluator(labelCol=label_col, predictionCol='prediction', metricName='r2')\n",
    "r2 = evaluator.evaluate(lr_preds)"
   ]
  },
  {
   "cell_type": "code",
   "execution_count": 19,
   "id": "cf62aeef",
   "metadata": {},
   "outputs": [
    {
     "data": {
      "text/plain": [
       "0.6904765391168665"
      ]
     },
     "execution_count": 19,
     "metadata": {},
     "output_type": "execute_result"
    }
   ],
   "source": [
    "r2"
   ]
  },
  {
   "cell_type": "markdown",
   "id": "20e0a2d3",
   "metadata": {},
   "source": [
    "Since Elastic Net includes an L1 regularization component, it can aid in feature selection process, as predictors that do not have a lot of influence on the poverty prediction will be ~0. Therefore, from the regression coefficients, we can deduct that only 10 features significantly impact poverty:\n",
    "* Median household income\n",
    "* Average unemployment rate\n",
    "* Percent of less than high school graduates\n",
    "* Percent at least high school graduates\n",
    "* Percent at least associate degrees\n",
    "* Heart / Stroke mortality rate\n",
    "* Average birth rates\n",
    "* Percentage with high speed internet\n",
    "* Domestic migration rates"
   ]
  },
  {
   "cell_type": "code",
   "execution_count": 20,
   "id": "653c72f6",
   "metadata": {},
   "outputs": [
    {
     "data": {
      "text/plain": [
       "CENSUS_2010_POP               0.000000\n",
       "Metropolitan                  0.000000\n",
       "Median_HH_Income_pct_state   -2.206340\n",
       "Ave_Unemployed_Rate           0.893559\n",
       "Percent_LT_HighSchool         0.560696\n",
       "Percent_HighSchool           -0.285622\n",
       "Percent_Associate            -0.732889\n",
       "Percent_Bachelor_GT           0.000000\n",
       "Heart_mortality_rate          0.558981\n",
       "Stroke_mortality_rate         0.275716\n",
       "AVE_BIRTH_RATE                1.342752\n",
       "Percent_High_Speed           -0.305116\n",
       "Pop_change_rate               0.000000\n",
       "Death_rate                    0.000000\n",
       "Intl_migration_rate           0.000000\n",
       "Domestic_migration_rate      -0.191457\n",
       "dtype: float64"
      ]
     },
     "execution_count": 20,
     "metadata": {},
     "output_type": "execute_result"
    }
   ],
   "source": [
    "lr_coef = lr_fit.stages[2].coefficients\n",
    "pd.Series(dict(zip(feature_list, lr_coef)))"
   ]
  },
  {
   "cell_type": "markdown",
   "id": "99281769",
   "metadata": {},
   "source": [
    "### 2. Random Forest Regression\n",
    "Next, I will use a random forest regressor. Below, we can see the top 20 rows for the test predictions and the final R-squared values is 0.71, which is comparable to our results by using *sklearn* for random forest regression."
   ]
  },
  {
   "cell_type": "code",
   "execution_count": 21,
   "id": "a6b74e8e",
   "metadata": {},
   "outputs": [],
   "source": [
    "assembler = VectorAssembler(inputCols=feature_list, outputCol='features')\n",
    "scaler = StandardScaler(inputCol='features', outputCol='features_scaled')\n",
    "rf = RandomForestRegressor(labelCol=label_col, featuresCol='features_scaled') # numTrees, maxDepth\n",
    "pipeline = Pipeline(stages=[assembler, scaler, rf])"
   ]
  },
  {
   "cell_type": "code",
   "execution_count": 22,
   "id": "7095ec3d",
   "metadata": {},
   "outputs": [
    {
     "name": "stdout",
     "output_type": "stream",
     "text": [
      "Results on Test Set\n",
      "+------------------+---------------+\n",
      "|        prediction|PERCENT_POVERTY|\n",
      "+------------------+---------------+\n",
      "|12.811096090163321|            8.6|\n",
      "|13.182017767432583|           13.4|\n",
      "|13.806131381871442|           14.9|\n",
      "|13.159843513444034|           10.5|\n",
      "|26.084354056426168|           29.8|\n",
      "|12.561470145737784|           14.2|\n",
      "| 23.92612006896507|           20.0|\n",
      "|12.288581529224185|           14.7|\n",
      "|17.785443085458265|           18.6|\n",
      "|13.595226643542631|           13.7|\n",
      "| 21.11322164568127|           22.0|\n",
      "| 16.25391336463381|           13.8|\n",
      "|15.653683782118344|           15.7|\n",
      "|10.644535776747139|           10.7|\n",
      "|23.195428410271656|           33.9|\n",
      "| 25.80539220398316|           24.8|\n",
      "|27.594140710037227|           30.8|\n",
      "| 16.09047657405191|           17.2|\n",
      "| 17.26938585336499|           21.4|\n",
      "|18.141181763541734|           15.8|\n",
      "+------------------+---------------+\n",
      "only showing top 20 rows\n",
      "\n"
     ]
    }
   ],
   "source": [
    "rf_fit = pipeline.fit(df_train)\n",
    "rf_preds = rf_fit.transform(df_test)\n",
    "print('Results on Test Set')\n",
    "rf_preds.select('prediction', label_col).show()\n",
    "evaluator = RegressionEvaluator(labelCol=label_col, predictionCol='prediction', metricName='r2')\n",
    "r2 = evaluator.evaluate(rf_preds)"
   ]
  },
  {
   "cell_type": "code",
   "execution_count": 23,
   "id": "eb23abe5",
   "metadata": {},
   "outputs": [
    {
     "data": {
      "text/plain": [
       "0.7224278199100633"
      ]
     },
     "execution_count": 23,
     "metadata": {},
     "output_type": "execute_result"
    }
   ],
   "source": [
    "r2"
   ]
  },
  {
   "cell_type": "markdown",
   "id": "88334fc6",
   "metadata": {},
   "source": [
    "To ensure that we are getting the best-performing models compared to out-of-the-box models, I will now perform hyperparameter optimization on the random forest regressor. The parameter to optimize is `numTrees`, which is the number of trees in the random forest. The Spark's `ParamGridBuilder` can take more parameters to optimize, but for simplification, in this part, I will only look at number of trees, in range of [10, 30] with 3 spacing.\n",
    "\n",
    "We can see that the R-squared value after hyperparameter tuning is not different from out of the box, and I have determined that the optimal number of trees is 30, which is the highest value within our grid search. Therefore, it is possible that if I increase the range of numTrees search, I can find even better performance."
   ]
  },
  {
   "cell_type": "code",
   "execution_count": 24,
   "id": "3b769b02",
   "metadata": {},
   "outputs": [
    {
     "name": "stdout",
     "output_type": "stream",
     "text": [
      "Results on Test Set with Optimal Hyperparameters\n",
      "+------------------+---------------+\n",
      "|        prediction|PERCENT_POVERTY|\n",
      "+------------------+---------------+\n",
      "|12.811096090163321|            8.6|\n",
      "|13.182017767432583|           13.4|\n",
      "|13.806131381871442|           14.9|\n",
      "|13.159843513444034|           10.5|\n",
      "|26.084354056426168|           29.8|\n",
      "|12.561470145737784|           14.2|\n",
      "| 23.92612006896507|           20.0|\n",
      "|12.288581529224185|           14.7|\n",
      "|17.785443085458265|           18.6|\n",
      "|13.595226643542631|           13.7|\n",
      "| 21.11322164568127|           22.0|\n",
      "| 16.25391336463381|           13.8|\n",
      "|15.653683782118344|           15.7|\n",
      "|10.644535776747139|           10.7|\n",
      "|23.195428410271656|           33.9|\n",
      "| 25.80539220398316|           24.8|\n",
      "|27.594140710037227|           30.8|\n",
      "| 16.09047657405191|           17.2|\n",
      "| 17.26938585336499|           21.4|\n",
      "|18.141181763541734|           15.8|\n",
      "+------------------+---------------+\n",
      "only showing top 20 rows\n",
      "\n"
     ]
    }
   ],
   "source": [
    "paramGrid = ParamGridBuilder() \\\n",
    "    .addGrid(rf.numTrees, [int(x) for x in np.linspace(start = 10, stop = 30, num = 3)]) \\\n",
    "    .build()\n",
    "rf_crossval = CrossValidator(estimator=pipeline,\n",
    "                          estimatorParamMaps=paramGrid,\n",
    "                          evaluator=RegressionEvaluator(\n",
    "                          \t\t\t\t\t\t\tlabelCol=label_col, \n",
    "                          \t\t\t\t\t\t\tpredictionCol='prediction', \n",
    "                          \t\t\t\t\t\t\tmetricName='r2'\n",
    "                          \t\t\t\t\t\t),\n",
    "                          numFolds=3)\n",
    "rf_crossval_fit = rf_crossval.fit(df_train)\n",
    "rf_crossval_preds = rf_crossval_fit.transform(df_test)\n",
    "print('Results on Test Set with Optimal Hyperparameters')\n",
    "rf_crossval_preds.select('prediction', label_col).show()\n",
    "evaluator = RegressionEvaluator(labelCol=label_col, predictionCol='prediction', metricName='r2')\n",
    "r2_crossval = evaluator.evaluate(rf_crossval_preds)"
   ]
  },
  {
   "cell_type": "code",
   "execution_count": 25,
   "id": "c8e873ba",
   "metadata": {},
   "outputs": [
    {
     "data": {
      "text/plain": [
       "0.7224278199100633"
      ]
     },
     "execution_count": 25,
     "metadata": {},
     "output_type": "execute_result"
    }
   ],
   "source": [
    "r2_crossval"
   ]
  },
  {
   "cell_type": "code",
   "execution_count": 26,
   "id": "e7331235",
   "metadata": {},
   "outputs": [
    {
     "data": {
      "text/plain": [
       "20"
      ]
     },
     "execution_count": 26,
     "metadata": {},
     "output_type": "execute_result"
    }
   ],
   "source": [
    "rf_best = rf_crossval_fit.bestModel\n",
    "rf_feature_importance = rf_best.stages[2].featureImportances\n",
    "rf_best_numTrees = rf_best.stages[2].getOrDefault('numTrees')\n",
    "rf_best_numTrees"
   ]
  },
  {
   "cell_type": "markdown",
   "id": "caccd1dd",
   "metadata": {},
   "source": [
    "Finally, the advantage of using random forest is that we can determine *feature importance*, which indicates how much impact a certain predictor has on the outcome. From the plot below, I can identify 3 most salient features:\n",
    "* Median household income\n",
    "* Percent of less than high school graduates\n",
    "* Average birth rates\n",
    "\n",
    "Therefore, if we want to improve performance by reducing variance, we can perform linear regression again, whether with elastic net or random forest, using only these 3 features and compare the adjusted R-squared results."
   ]
  },
  {
   "cell_type": "code",
   "execution_count": 27,
   "id": "6b6f0f04",
   "metadata": {},
   "outputs": [
    {
     "data": {
      "image/png": "[encoded data removed]",
      "text/plain": [
       "<Figure size 432x288 with 1 Axes>"
      ]
     },
     "metadata": {
      "needs_background": "light"
     },
     "output_type": "display_data"
    }
   ],
   "source": [
    "plt.bar(feature_list, list(rf_feature_importance))\n",
    "plt.xticks(rotation=90)\n",
    "plt.show()"
   ]
  },
  {
   "cell_type": "code",
   "execution_count": 28,
   "id": "b6e6c4a4",
   "metadata": {},
   "outputs": [],
   "source": [
    "spark.stop()"
   ]
  },
  {
   "cell_type": "markdown",
   "id": "08ea2a7e",
   "metadata": {},
   "source": [
    "# Conclusion"
   ]
  },
  {
   "cell_type": "markdown",
   "id": "4b19bef5",
   "metadata": {},
   "source": [
    "In conclusion, in this work, I repeat the [data cleaning](https://github.com/chauvu/chauvu.github.io/blob/main/Notebooks/census_data_cleaning.ipynb) and [linear regression analysis](https://github.com/chauvu/chauvu.github.io/blob/main/Notebooks/census_regression.ipynb) on 15 years of countywide census data. I can demonstrate similar performance between using *PySpark* and *sklearn* libraries. Currently, I am not seeing any reduction in time or resources in using PySpark, but it is likely that this dataset is too small. Even though I am taking advantage of 4 different worker nodes on my local computer, sklearn is probably more efficient in analyzing small dataset only on 1 node, whereas Spark needs the additional time to pass information between nodes, which is only good for very very large datasets that do not fit into one processing node on one machine."
   ]
  },
  {
   "cell_type": "code",
   "execution_count": null,
   "id": "516868d7",
   "metadata": {},
   "outputs": [],
   "source": []
  }
 ],
 "metadata": {
  "kernelspec": {
   "display_name": "env",
   "language": "python",
   "name": "env"
  },
  "language_info": {
   "codemirror_mode": {
    "name": "ipython",
    "version": 3
   },
   "file_extension": ".py",
   "mimetype": "text/x-python",
   "name": "python",
   "nbconvert_exporter": "python",
   "pygments_lexer": "ipython3",
   "version": "3.9.5"
  }
 },
 "nbformat": 4,
 "nbformat_minor": 5
}
