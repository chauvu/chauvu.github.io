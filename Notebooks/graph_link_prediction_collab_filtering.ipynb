{
 "cells": [
  {
   "cell_type": "markdown",
   "id": "41abe475",
   "metadata": {},
   "source": [
    "# Link Prediction using Collaborative Filtering\n",
    "In a previous [project](https://github.com/chauvu/chauvu.github.io/blob/main/Notebooks/graph_link_prediction.ipynb), I have demonstrated the use of Graph Convolutional Network (GCN) to perform novel link predictions in knowledge graphs. Other prominent works have also shown that graph embedding models (such as translational distance models like TransE that encode both entities and relations as low-dimensional vectors) are able to perform link prediction with robust results.\n",
    "\n",
    "In this current project, instead of applying learned embeddings (such as [TransE](https://proceedings.neurips.cc/paper/2013/file/1cecc7a77928ca8133fa24680a88d2f9-Paper.pdf) embeddings or even [Node2Vec](https://snap.stanford.edu/node2vec/) embeddings), I will apply Collaborative Filter to perform link prediction. Collaborative Filtering is a technique frequently used for constructing recommendation systems. For example, Amazon can use collaborative filtering to recommend potential products a particular user is interested in based on the products that user has viewed/liked/purchased in the past. \n",
    "\n",
    "To apply collaborative filter to drug repurposing (predicting novel links between drug and disease nodes in a knowledge graph), I will view the drug nodes as the Amazon's users and the disease nodes as the potential products for purchase. I will create a sparse utility matrix with binary values: 1 encodes an existing link and 0 encodes no link between the particular drug-disease pair. Link prediction scores are generated from the dot product of the drug vector and disease vector. To draw a parallel to knowledge graph completion works, I will use KG evaluation metrics: *mean rank* and *hits@k*. I will also be working with a well-known biomedical knowledge graph dataset: [Hetionet](https://het.io/about/). "
   ]
  },
  {
   "cell_type": "code",
   "execution_count": 1,
   "id": "bf504129",
   "metadata": {},
   "outputs": [],
   "source": [
    "import matplotlib.pyplot as plt\n",
    "from sklearn.model_selection import train_test_split\n",
    "from scipy.spatial.distance import cosine\n",
    "from pykeen.datasets import Hetionet\n",
    "import networkx as nx\n",
    "import pandas as pd\n",
    "import numpy as np\n",
    "import os"
   ]
  },
  {
   "cell_type": "markdown",
   "id": "a0418450",
   "metadata": {},
   "source": [
    "### Dataset\n",
    "Instead of downloading Hetionet from its original [website](https://het.io/about/), I will be using the default dataset in [PyKEEN](https://github.com/pykeen/pykeen). This dataset is already in triple format. Below is the code that I used in the previous project on link prediction [here](https://github.com/chauvu/chauvu.github.io/blob/main/Notebooks/graph_link_prediction.ipynb) that processed the Hetionet data from PyKEEN."
   ]
  },
  {
   "cell_type": "code",
   "execution_count": 2,
   "id": "247fe1a7",
   "metadata": {},
   "outputs": [],
   "source": [
    "meta_edge = {\n",
    "\t\t\t\t'AdG': 'Anatomy-downregulates-Gene',\n",
    "\t\t\t\t'AeG': 'Anatomy-expresses-Gene',\n",
    "\t\t\t\t'AuG': 'Anatomy-upregulates-Gene',\n",
    "\t\t\t\t'CbG': 'Compound-binds-Gene',\n",
    "\t\t\t\t'CcSE': 'Compound-causes-Side Effect',\n",
    "\t\t\t\t'CdG': 'Compound-downregulates-Gene',\n",
    "\t\t\t\t'CpD': 'Compound-palliates-Disease',\n",
    "\t\t\t\t'CrC': 'Compound-resembles-Compound',\n",
    "\t\t\t\t'CtD': 'Compound-treats-Disease',\n",
    "\t\t\t\t'CuG': 'Compound-upregulates-Gene',\n",
    "\t\t\t\t'DaG': 'Disease-associates-Gene',\n",
    "\t\t\t\t'DdG': 'Disease-downregulates-Gene',\n",
    "\t\t\t\t'DlA': 'Disease-localizes-Anatomy',\n",
    "\t\t\t\t'DpS': 'Disease-presents-Symptom',\n",
    "\t\t\t\t'DrD': 'Disease-resembles-Disease',\n",
    "\t\t\t\t'DuG': 'Disease-upregulates-Gene',\n",
    "\t\t\t\t'GcG': 'Gene-covaries-Gene',\n",
    "\t\t\t\t'GiG': 'Gene-interacts-Gene',\n",
    "\t\t\t\t'GpBP': 'Gene-participates-Biological Process',\n",
    "\t\t\t\t'GpCC': 'Gene-participates-Cellular Component',\n",
    "\t\t\t\t'GpMF': 'Gene-participates-Molecular Function',\n",
    "\t\t\t\t'GpPW': 'Gene-participates-Pathway',\n",
    "\t\t\t\t'Gr>G': 'Gene-regulates-Gene',\n",
    "\t\t\t\t'PCiC': 'Pharmacologic Class-includes-Compound',\n",
    "\t\t\t}\n",
    "\n",
    "data = Hetionet(create_inverse_triples=False, random_state=357)\n",
    "training = data.training\n",
    "validation = data.validation\n",
    "testing = data.testing\n",
    "\n",
    "training_df = training.tensor_to_df(training.mapped_triples)[['head_label', 'relation_label', 'tail_label']]\n",
    "training_df = training_df.rename(columns={'head_label': 'head', 'relation_label': 'edge', 'tail_label': 'tail'})\n",
    "validation_df = validation.tensor_to_df(validation.mapped_triples)[['head_label', 'relation_label', 'tail_label']]\n",
    "validation_df = validation_df.rename(columns={'head_label': 'head', 'relation_label': 'edge', 'tail_label': 'tail'})\n",
    "testing_df = testing.tensor_to_df(testing.mapped_triples)[['head_label', 'relation_label', 'tail_label']]\n",
    "testing_df = testing_df.rename(columns={'head_label': 'head', 'relation_label': 'edge', 'tail_label': 'tail'})\n",
    "\n",
    "data_df = pd.concat([training_df, validation_df, testing_df])\n",
    "data_df['edge_class'] = data_df['edge'].map(meta_edge)\n",
    "data_df['head_class'] = data_df['edge_class'].str.split('-').apply(lambda x: x[0])\n",
    "data_df['tail_class'] = data_df['edge_class'].str.split('-').apply(lambda x: x[-1])"
   ]
  },
  {
   "cell_type": "code",
   "execution_count": 3,
   "id": "6a8ca974",
   "metadata": {},
   "outputs": [
    {
     "data": {
      "text/html": [
       "<div>\n",
       "<style scoped>\n",
       "    .dataframe tbody tr th:only-of-type {\n",
       "        vertical-align: middle;\n",
       "    }\n",
       "\n",
       "    .dataframe tbody tr th {\n",
       "        vertical-align: top;\n",
       "    }\n",
       "\n",
       "    .dataframe thead th {\n",
       "        text-align: right;\n",
       "    }\n",
       "</style>\n",
       "<table border=\"1\" class=\"dataframe\">\n",
       "  <thead>\n",
       "    <tr style=\"text-align: right;\">\n",
       "      <th></th>\n",
       "      <th>head</th>\n",
       "      <th>edge</th>\n",
       "      <th>tail</th>\n",
       "      <th>edge_class</th>\n",
       "      <th>head_class</th>\n",
       "      <th>tail_class</th>\n",
       "    </tr>\n",
       "  </thead>\n",
       "  <tbody>\n",
       "    <tr>\n",
       "      <th>0</th>\n",
       "      <td>Anatomy::UBERON:0000002</td>\n",
       "      <td>AdG</td>\n",
       "      <td>Gene::10005</td>\n",
       "      <td>Anatomy-downregulates-Gene</td>\n",
       "      <td>Anatomy</td>\n",
       "      <td>Gene</td>\n",
       "    </tr>\n",
       "    <tr>\n",
       "      <th>1</th>\n",
       "      <td>Anatomy::UBERON:0000002</td>\n",
       "      <td>AdG</td>\n",
       "      <td>Gene::114804</td>\n",
       "      <td>Anatomy-downregulates-Gene</td>\n",
       "      <td>Anatomy</td>\n",
       "      <td>Gene</td>\n",
       "    </tr>\n",
       "    <tr>\n",
       "      <th>2</th>\n",
       "      <td>Anatomy::UBERON:0000002</td>\n",
       "      <td>AdG</td>\n",
       "      <td>Gene::118670</td>\n",
       "      <td>Anatomy-downregulates-Gene</td>\n",
       "      <td>Anatomy</td>\n",
       "      <td>Gene</td>\n",
       "    </tr>\n",
       "    <tr>\n",
       "      <th>3</th>\n",
       "      <td>Anatomy::UBERON:0000002</td>\n",
       "      <td>AdG</td>\n",
       "      <td>Gene::128989</td>\n",
       "      <td>Anatomy-downregulates-Gene</td>\n",
       "      <td>Anatomy</td>\n",
       "      <td>Gene</td>\n",
       "    </tr>\n",
       "    <tr>\n",
       "      <th>4</th>\n",
       "      <td>Anatomy::UBERON:0000002</td>\n",
       "      <td>AdG</td>\n",
       "      <td>Gene::132851</td>\n",
       "      <td>Anatomy-downregulates-Gene</td>\n",
       "      <td>Anatomy</td>\n",
       "      <td>Gene</td>\n",
       "    </tr>\n",
       "  </tbody>\n",
       "</table>\n",
       "</div>"
      ],
      "text/plain": [
       "                      head edge          tail                  edge_class  \\\n",
       "0  Anatomy::UBERON:0000002  AdG   Gene::10005  Anatomy-downregulates-Gene   \n",
       "1  Anatomy::UBERON:0000002  AdG  Gene::114804  Anatomy-downregulates-Gene   \n",
       "2  Anatomy::UBERON:0000002  AdG  Gene::118670  Anatomy-downregulates-Gene   \n",
       "3  Anatomy::UBERON:0000002  AdG  Gene::128989  Anatomy-downregulates-Gene   \n",
       "4  Anatomy::UBERON:0000002  AdG  Gene::132851  Anatomy-downregulates-Gene   \n",
       "\n",
       "  head_class tail_class  \n",
       "0    Anatomy       Gene  \n",
       "1    Anatomy       Gene  \n",
       "2    Anatomy       Gene  \n",
       "3    Anatomy       Gene  \n",
       "4    Anatomy       Gene  "
      ]
     },
     "execution_count": 3,
     "metadata": {},
     "output_type": "execute_result"
    }
   ],
   "source": [
    "data_df.head()"
   ]
  },
  {
   "cell_type": "code",
   "execution_count": 4,
   "id": "63612a37",
   "metadata": {},
   "outputs": [
    {
     "data": {
      "text/plain": [
       "(2250197, 6)"
      ]
     },
     "execution_count": 4,
     "metadata": {},
     "output_type": "execute_result"
    }
   ],
   "source": [
    "data_df.shape"
   ]
  },
  {
   "cell_type": "markdown",
   "id": "828c27c4",
   "metadata": {},
   "source": [
    "The Hetionet dataset has approximately 2 million triples, with different entity types such as anatomy, gene, drug, disease, etc. In this work, I am only interested in the links between *drug* (compound) and *disease* entities. And I do not care what relation types are between these nodes, such as `Compound-palliates-Disease` or `Compound-treats-Disease`. After filtering all other triple types out, I end up with 1,145 triples of drug-disease type."
   ]
  },
  {
   "cell_type": "code",
   "execution_count": 5,
   "id": "6b123446",
   "metadata": {},
   "outputs": [],
   "source": [
    "data_df = data_df[(data_df['head_class']=='Compound') & (data_df['tail_class']=='Disease')][['head', 'tail']]"
   ]
  },
  {
   "cell_type": "code",
   "execution_count": 6,
   "id": "906e63a3",
   "metadata": {},
   "outputs": [
    {
     "data": {
      "text/plain": [
       "(1145, 2)"
      ]
     },
     "execution_count": 6,
     "metadata": {},
     "output_type": "execute_result"
    }
   ],
   "source": [
    "data_df.shape"
   ]
  },
  {
   "cell_type": "markdown",
   "id": "ca501d9f",
   "metadata": {},
   "source": [
    "Afterward, I will perform train-test-split (90/10), ensuring that all entities in the test set have appeared in the training set. This ensured a static utility matrix since collaborative filter does not perform well on unseen entities, such as when a new user joins Amazon with no history of viewing/purchasing any products."
   ]
  },
  {
   "cell_type": "code",
   "execution_count": 7,
   "id": "c87651f6",
   "metadata": {},
   "outputs": [],
   "source": [
    "data_train, data_test = train_test_split(data_df, test_size=0.1, random_state=100)\n",
    "entities_train = set(list(data_train['head'].unique()) + list(data_train['tail'].unique()))\n",
    "entities_test = set(list(data_test['head'].unique()) + list(data_test['tail'].unique()))\n",
    "entities_test_diff = entities_test - entities_train\n",
    "data_test_head_diff = data_test['head'].apply(lambda x: x in entities_test_diff)\n",
    "data_test_tail_diff = data_test['tail'].apply(lambda x: x in entities_test_diff)\n",
    "data_test_diff = data_test[data_test_head_diff | data_test_tail_diff]\n",
    "data_test = data_test[~data_test_head_diff & ~data_test_tail_diff]\n",
    "data_train = data_train.append(data_test_diff).drop_duplicates(ignore_index=True)"
   ]
  },
  {
   "cell_type": "markdown",
   "id": "a6b868ac",
   "metadata": {},
   "source": [
    "### Utility Matrix\n",
    "A utility matrix represents links between the users and the products. In this work, I will create an N x M utility matrix, where `N=551` is the number of unique drug entities and `M=91` is the number of unique diseases. Since each entity is represented by its name (e.g. `Compound::DB00014`) or its index (integer number), I will create dictionaries to convert between the names and indices."
   ]
  },
  {
   "cell_type": "code",
   "execution_count": 8,
   "id": "576106a8",
   "metadata": {},
   "outputs": [],
   "source": [
    "head_entities = data_train['head'].unique().tolist()\n",
    "tail_entities = data_train['tail'].unique().tolist()"
   ]
  },
  {
   "cell_type": "code",
   "execution_count": 9,
   "id": "da4b9a34",
   "metadata": {},
   "outputs": [],
   "source": [
    "head_index2entity_dict = {index: entity for index, entity in enumerate(head_entities)}\n",
    "head_entity2index_dict = {entity: index for index, entity in enumerate(head_entities)}\n",
    "tail_index2entity_dict = {index: entity for index, entity in enumerate(tail_entities)}\n",
    "tail_entity2index_dict = {entity: index for index, entity in enumerate(tail_entities)}"
   ]
  },
  {
   "cell_type": "code",
   "execution_count": 10,
   "id": "2d05ee5c",
   "metadata": {},
   "outputs": [],
   "source": [
    "utility_matrix = np.zeros((len(head_entities), len(tail_entities)))\n",
    "for index, row in data_train.iterrows():\n",
    "\tutility_matrix[head_entity2index_dict[row['head']], tail_entity2index_dict[row['tail']]] = 1"
   ]
  },
  {
   "cell_type": "code",
   "execution_count": 11,
   "id": "6d7c5dc7",
   "metadata": {},
   "outputs": [
    {
     "data": {
      "text/plain": [
       "(551, 91)"
      ]
     },
     "execution_count": 11,
     "metadata": {},
     "output_type": "execute_result"
    }
   ],
   "source": [
    "utility_matrix.shape"
   ]
  },
  {
   "cell_type": "markdown",
   "id": "6d2d49f8",
   "metadata": {},
   "source": [
    "For example, compound node of `compound_index=0` (`Compound::DB00755`) only has 1 link to a disease node of `disease_index=0` (`Disease::DOID:1192`). This is well represented in this compound's vector `utility_matrix[0,:]` shown below."
   ]
  },
  {
   "cell_type": "code",
   "execution_count": 12,
   "id": "f2506486",
   "metadata": {},
   "outputs": [
    {
     "name": "stdout",
     "output_type": "stream",
     "text": [
      "Compound::DB00755\n",
      "Disease::DOID:1192\n"
     ]
    },
    {
     "data": {
      "text/plain": [
       "array([1., 0., 0., 0., 0., 0., 0., 0., 0., 0., 0., 0., 0., 0., 0., 0., 0.,\n",
       "       0., 0., 0., 0., 0., 0., 0., 0., 0., 0., 0., 0., 0., 0., 0., 0., 0.,\n",
       "       0., 0., 0., 0., 0., 0., 0., 0., 0., 0., 0., 0., 0., 0., 0., 0., 0.,\n",
       "       0., 0., 0., 0., 0., 0., 0., 0., 0., 0., 0., 0., 0., 0., 0., 0., 0.,\n",
       "       0., 0., 0., 0., 0., 0., 0., 0., 0., 0., 0., 0., 0., 0., 0., 0., 0.,\n",
       "       0., 0., 0., 0., 0., 0.])"
      ]
     },
     "execution_count": 12,
     "metadata": {},
     "output_type": "execute_result"
    }
   ],
   "source": [
    "print(head_index2entity_dict[0])\n",
    "print(tail_index2entity_dict[0])\n",
    "utility_matrix[0,:]"
   ]
  },
  {
   "cell_type": "markdown",
   "id": "25c92632",
   "metadata": {},
   "source": [
    "### Score Matrix\n",
    "To compute the similarity between two compound nodes, I will calculate the *dot product* of their representation vectors from the utility matrix. Since this process will need to be repeated for every prediction for the test set, there will be a lot of overlap, so this score matrix of size N x N (551x551) should be pre-computed."
   ]
  },
  {
   "cell_type": "code",
   "execution_count": 13,
   "id": "0712bed4",
   "metadata": {},
   "outputs": [],
   "source": [
    "score_function = np.dot "
   ]
  },
  {
   "cell_type": "code",
   "execution_count": 14,
   "id": "9c709c8b",
   "metadata": {},
   "outputs": [],
   "source": [
    "score_matrix = np.zeros((len(head_entities), len(head_entities)))\n",
    "for h1_index, h1 in enumerate(head_entities):\n",
    "\tfor h2_index, h2 in enumerate(head_entities):\n",
    "\t\tif h2_index >= h1_index: # top triu\n",
    "\t\t\tvector_h1 = utility_matrix[h1_index, :]\n",
    "\t\t\tvector_h2 = utility_matrix[h2_index, :]\n",
    "\t\t\tscore = score_function(vector_h1, vector_h2)\n",
    "\t\t\tscore_matrix[h1_index, h2_index] = score\n",
    "\t\t\tscore_matrix[h2_index, h1_index] = score"
   ]
  },
  {
   "cell_type": "code",
   "execution_count": 15,
   "id": "c3fe08ce",
   "metadata": {},
   "outputs": [
    {
     "data": {
      "text/plain": [
       "(551, 551)"
      ]
     },
     "execution_count": 15,
     "metadata": {},
     "output_type": "execute_result"
    }
   ],
   "source": [
    "score_matrix.shape"
   ]
  },
  {
   "cell_type": "markdown",
   "id": "f3bf253a",
   "metadata": {},
   "source": [
    "Here is a small portion of our score matrix, we notice that the diagonal line always has large values since this represents the dot product of a compound's vector with itself. Therefore, for a compound, I will need to take special care to filter out itself from its cluster of most similar nodes."
   ]
  },
  {
   "cell_type": "code",
   "execution_count": 16,
   "id": "3b885b9c",
   "metadata": {},
   "outputs": [
    {
     "data": {
      "text/plain": [
       "array([[ 1.,  0.,  1.,  0.,  0.],\n",
       "       [ 0.,  1.,  0.,  0.,  0.],\n",
       "       [ 1.,  0., 10.,  0.,  0.],\n",
       "       [ 0.,  0.,  0.,  1.,  0.],\n",
       "       [ 0.,  0.,  0.,  0.,  1.]])"
      ]
     },
     "execution_count": 16,
     "metadata": {},
     "output_type": "execute_result"
    }
   ],
   "source": [
    "score_matrix[:5,:5]"
   ]
  },
  {
   "cell_type": "markdown",
   "id": "bc5548ae",
   "metadata": {},
   "source": [
    "### Collaborative Filtering\n",
    "In this portion, I implement collaborative filtering. For each test triple in the test set, I will use the pre-computed score matrix above to generate the top `k=3` nodes that are most similar to the head entity (except itself).\n",
    "\n",
    "Afterward, I will implement a majority voting scheme, in which all disease nodes that have connections to the top `k=3` most simlar drug nodes are considered. The votes are the number of links a particular disease has with the `k` drug nodes, and the ranks are the index of ground-truth tail the descending-sorted votes. I also took special care to filter out triples that are already known to be true (from the training set to avoid artificially inflated evaluation metrics)."
   ]
  },
  {
   "cell_type": "code",
   "execution_count": 17,
   "id": "1b8de666",
   "metadata": {},
   "outputs": [],
   "source": [
    "k = 3 # top k similar nodes"
   ]
  },
  {
   "cell_type": "code",
   "execution_count": 18,
   "id": "27da993c",
   "metadata": {},
   "outputs": [],
   "source": [
    "ranks = [] # list of ranks of ground-truths for test set"
   ]
  },
  {
   "cell_type": "code",
   "execution_count": 19,
   "id": "9828439d",
   "metadata": {},
   "outputs": [],
   "source": [
    "for index_test in range(len(data_test)):\n",
    "\ttriple_test = data_test.iloc[index_test]\n",
    "\n",
    "\thead_test = triple_test['head']\n",
    "\thead_index = head_entity2index_dict[head_test]\n",
    "\ttail_test = triple_test['tail']\n",
    "\ttail_index = tail_entity2index_dict[tail_test]\n",
    "\n",
    "\tscores = score_matrix[head_index, :]\n",
    "\tsimilar_heads_index = list(np.argsort(scores)[::-1][:k+1]) # descending, top k\n",
    "\tif head_index in similar_heads_index: # filter out itself\n",
    "\t\tsimilar_heads_index.remove(head_index)\n",
    "\telse: similar_heads_index = similar_heads_index[:k]\n",
    "\n",
    "\t# majority voting\n",
    "\thead_utility_value = np.zeros(len(tail_entities))\n",
    "\tfor head_similar_index in similar_heads_index:\n",
    "\t\thead_similar = head_index2entity_dict[head_similar_index]\n",
    "\t\thead_utility_value += utility_matrix[head_similar_index, :]\n",
    "\n",
    "\tranked_tails_index = list(np.argsort(head_utility_value)[::-1])\n",
    "\n",
    "\t# filter out known triples\n",
    "\ttails_index_to_remove = []\n",
    "\tfor ranked_tail_index in ranked_tails_index:\n",
    "\t\tif utility_matrix[head_index, ranked_tail_index] > 0:\n",
    "\t\t\ttails_index_to_remove.append(ranked_tail_index)\n",
    "\tfor ranked_tail_index in tails_index_to_remove:\n",
    "\t\tranked_tails_index.remove(ranked_tail_index)\n",
    "\t\n",
    "\t# ground truth rank\n",
    "\trank = ranked_tails_index.index(tail_index)\n",
    "\tranks.append(rank)"
   ]
  },
  {
   "cell_type": "markdown",
   "id": "aa4545bd",
   "metadata": {},
   "source": [
    "Here, I show the ground-truth ranks for the first 10 entries of the test set. We can see that for the 3rd sample, the ground-truth answer is the top answer giving by our collaborative filter system."
   ]
  },
  {
   "cell_type": "code",
   "execution_count": 20,
   "id": "2b5089dc",
   "metadata": {},
   "outputs": [
    {
     "data": {
      "text/plain": [
       "[54, 46, 0, 14, 8, 53, 4, 39, 20, 0]"
      ]
     },
     "execution_count": 20,
     "metadata": {},
     "output_type": "execute_result"
    }
   ],
   "source": [
    "ranks[:10]"
   ]
  },
  {
   "cell_type": "markdown",
   "id": "b935ec8a",
   "metadata": {},
   "source": [
    "### Evaluation Metrics\n",
    "In this project, I will make use of common knowledge graph evaluation metrics:\n",
    "* Mean Rank (MR): the average rank of our ground-truths, perfect system yields MR=0\n",
    "* Hits@k: the percentage of test set that yields the ground-truth in the top k answers, perfect system yields hits@k=1"
   ]
  },
  {
   "cell_type": "code",
   "execution_count": 21,
   "id": "e1608c11",
   "metadata": {},
   "outputs": [
    {
     "name": "stdout",
     "output_type": "stream",
     "text": [
      "MR 17.012048192771083\n",
      "Hits@5 0.4578313253012048\n",
      "Hits@10 0.6024096385542169\n"
     ]
    }
   ],
   "source": [
    "mr = np.mean(ranks) # mean rank ~17\n",
    "hits5 = (np.array(ranks)<5).sum() / len(ranks) # hits @ 5 ~ 0.45\n",
    "hits10 = (np.array(ranks)<10).sum() / len(ranks) # hits @ 10 ~ 0.60\n",
    "\n",
    "\n",
    "print('MR', mr)\n",
    "print('Hits@5', hits5)\n",
    "print('Hits@10', hits10)"
   ]
  },
  {
   "cell_type": "markdown",
   "id": "9f6c7982",
   "metadata": {},
   "source": [
    "# Conclusion\n",
    "In conclusion, this project shows that a simple collaborative filter recommendation system can predict whether a link exists between drugs and diseases reasonably in the Hetionet dataset. The hits@10 is 0.60, which is very high for a biomedical knowledge graph. However, we have to recognize that this is a very small dataset, since we have already filtered out all other triples except drug-disease relations.\n",
    "\n",
    "One way to improve performance is that instead of constructing the utility matrix upon only drugs and diseases, it can be constructed with other types of entities nodes as well; the prediction process is subsequently limited only to disease nodes. Additionally, most knowledge graph evaluation yields *optimistic* and *pessimistic* evaluations, in which sometimes potential triples are score equally and the ground-truth is evaluated either as the highest or lowest rank of all equal answers. More pessimistic answers are probably more accurate for our case in which the matrix is extremely sparse and there are many nodes that are similar to one another, which can worsen the results.\n",
    "\n",
    "In any case, collaborative filtering is a very simple technique that has yield reasonable results for knowledge graph link predictions. Therefore, this result should serve as the baseline to compare against more sophisticated techniques for knowledge graph completion, especially for biomedical drug repurposing applications, in the future."
   ]
  },
  {
   "cell_type": "code",
   "execution_count": null,
   "id": "23fb3b3d",
   "metadata": {},
   "outputs": [],
   "source": []
  }
 ],
 "metadata": {
  "kernelspec": {
   "display_name": "env",
   "language": "python",
   "name": "env"
  },
  "language_info": {
   "codemirror_mode": {
    "name": "ipython",
    "version": 3
   },
   "file_extension": ".py",
   "mimetype": "text/x-python",
   "name": "python",
   "nbconvert_exporter": "python",
   "pygments_lexer": "ipython3",
   "version": "3.9.5"
  }
 },
 "nbformat": 4,
 "nbformat_minor": 5
}
