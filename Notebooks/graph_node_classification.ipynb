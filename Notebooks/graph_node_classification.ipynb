{
 "cells": [
  {
   "cell_type": "markdown",
   "id": "a19debcc",
   "metadata": {},
   "source": [
    "# Node Classification using Graph Convolutional Network on Biomedical Knowledge Graph (KG)\n",
    "\n",
    "In this project, I will investigate the task of classifying different types of entities in a biomedical knowledge graph (KG), which usually contains entities for `disease`, `drug`, `gene`, etc. Specifically, we will work on the Hetionet KG [link](https://het.io/). Hetionet is on the smaller size, containing ~2 million triples (head, relation, tail) compared to other biomedical KGs. \n",
    "\n",
    "I will also be exploring the use of **Graph Convolutional Network** (GCN) and the Deep Graph Library [DGL](https://www.dgl.ai/). Previous work has shown GCN works very well in node classification task, specifically DGL has shown robust performance on the Cora Citation dataset [link](https://docs.dgl.ai/en/0.6.x/tutorials/blitz/1_introduction.html). It is worth noting that the default Cora dataset contains an already-generated feature matrix, each feature is a vocabulary word and its count in the publication. For our Hetionet dataset, there is no feature matrix that has been generated. Therefore, in this work, I will see how well the GCN network is able to classify nodes into different types as well as investigate the importance of feature engineering. "
   ]
  },
  {
   "cell_type": "code",
   "execution_count": 2,
   "id": "eb709218",
   "metadata": {},
   "outputs": [
    {
     "name": "stderr",
     "output_type": "stream",
     "text": [
      "Using backend: pytorch\n"
     ]
    }
   ],
   "source": [
    "import matplotlib.pyplot as plt\n",
    "from sklearn.linear_model import LogisticRegression\n",
    "from sklearn.model_selection import train_test_split\n",
    "from sklearn.preprocessing import MinMaxScaler\n",
    "from sklearn.manifold import TSNE\n",
    "from sklearn.metrics import f1_score, accuracy_score\n",
    "from pykeen.datasets import Hetionet\n",
    "from node2vec import Node2Vec\n",
    "import networkx as nx\n",
    "import pandas as pd\n",
    "import numpy as np\n",
    "import os\n",
    "import torch\n",
    "from torch import Tensor, nn\n",
    "from torch import nn\n",
    "import torch.nn as nn\n",
    "import torch.nn.functional as F\n",
    "import dgl\n",
    "from dgl.nn.pytorch import GraphConv\n",
    "from typing import Optional, Sequence\n",
    "import warnings\n",
    "warnings.filterwarnings(\"ignore\")"
   ]
  },
  {
   "cell_type": "markdown",
   "id": "684f317c",
   "metadata": {},
   "source": [
    "## Dataset: Hetionet\n",
    "Let's first look at the biomedical knowledge graph dataset `Hetionet`. The dataset is available online, but I have downloaded it through `PyKEEN`, which is a python module that helps perform a lot of embedding-based tasks with knowledge graphs and have published extensively on its performance on different benchmark datasets, including Hetionet.\n",
    "\n",
    "PyKEEN does divide the triples into the training, testing, and validation datasets for us already. However, this is specifically for link prediction tasks in which we are interested in the relations. In this current task, we are interested in classifying the nodes, so I will merge their pre-divided training, testing and validation sets.\n",
    "\n",
    "The `meta_edge` dictionary below is copied from the Hetionet documentation [link](https://het.io/explore/). Based on the documentation, I have processed the head, relation and tail to create the `head_class`, `tail_class` and `edge_class` columns."
   ]
  },
  {
   "cell_type": "code",
   "execution_count": 2,
   "id": "a8dc005c",
   "metadata": {},
   "outputs": [],
   "source": [
    "meta_edge = {\n",
    "\t\t\t\t'AdG': 'Anatomy-downregulates-Gene',\n",
    "\t\t\t\t'AeG': 'Anatomy-expresses-Gene',\n",
    "\t\t\t\t'AuG': 'Anatomy-upregulates-Gene',\n",
    "\t\t\t\t'CbG': 'Compound-binds-Gene',\n",
    "\t\t\t\t'CcSE': 'Compound-causes-Side Effect',\n",
    "\t\t\t\t'CdG': 'Compound-downregulates-Gene',\n",
    "\t\t\t\t'CpD': 'Compound-palliates-Disease',\n",
    "\t\t\t\t'CrC': 'Compound-resembles-Compound',\n",
    "\t\t\t\t'CtD': 'Compound-treats-Disease',\n",
    "\t\t\t\t'CuG': 'Compound-upregulates-Gene',\n",
    "\t\t\t\t'DaG': 'Disease-associates-Gene',\n",
    "\t\t\t\t'DdG': 'Disease-downregulates-Gene',\n",
    "\t\t\t\t'DlA': 'Disease-localizes-Anatomy',\n",
    "\t\t\t\t'DpS': 'Disease-presents-Symptom',\n",
    "\t\t\t\t'DrD': 'Disease-resembles-Disease',\n",
    "\t\t\t\t'DuG': 'Disease-upregulates-Gene',\n",
    "\t\t\t\t'GcG': 'Gene-covaries-Gene',\n",
    "\t\t\t\t'GiG': 'Gene-interacts-Gene',\n",
    "\t\t\t\t'GpBP': 'Gene-participates-Biological Process',\n",
    "\t\t\t\t'GpCC': 'Gene-participates-Cellular Component',\n",
    "\t\t\t\t'GpMF': 'Gene-participates-Molecular Function',\n",
    "\t\t\t\t'GpPW': 'Gene-participates-Pathway',\n",
    "\t\t\t\t'Gr>G': 'Gene-regulates-Gene',\n",
    "\t\t\t\t'PCiC': 'Pharmacologic Class-includes-Compound',\n",
    "\t\t\t}\n",
    "\n",
    "data = Hetionet(create_inverse_triples=False, random_state=357)\n",
    "training = data.training\n",
    "validation = data.validation\n",
    "testing = data.testing\n",
    "\n",
    "training_df = training.tensor_to_df(training.mapped_triples)[['head_label', 'relation_label', 'tail_label']]\n",
    "training_df = training_df.rename(columns={'head_label': 'head', 'relation_label': 'edge', 'tail_label': 'tail'})\n",
    "validation_df = validation.tensor_to_df(validation.mapped_triples)[['head_label', 'relation_label', 'tail_label']]\n",
    "validation_df = validation_df.rename(columns={'head_label': 'head', 'relation_label': 'edge', 'tail_label': 'tail'})\n",
    "testing_df = testing.tensor_to_df(testing.mapped_triples)[['head_label', 'relation_label', 'tail_label']]\n",
    "testing_df = testing_df.rename(columns={'head_label': 'head', 'relation_label': 'edge', 'tail_label': 'tail'})\n",
    "\n",
    "data_df = pd.concat([training_df, validation_df, testing_df])\n",
    "data_df['edge_class'] = data_df['edge'].map(meta_edge)\n",
    "data_df['head_class'] = data_df['edge_class'].str.split('-').apply(lambda x: x[0])\n",
    "data_df['tail_class'] = data_df['edge_class'].str.split('-').apply(lambda x: x[-1])"
   ]
  },
  {
   "cell_type": "markdown",
   "id": "5e6a5745",
   "metadata": {},
   "source": [
    "Let's explore this dataset to see what entities we have available."
   ]
  },
  {
   "cell_type": "code",
   "execution_count": 3,
   "id": "5a6cfb34",
   "metadata": {},
   "outputs": [
    {
     "data": {
      "text/html": [
       "<div>\n",
       "<style scoped>\n",
       "    .dataframe tbody tr th:only-of-type {\n",
       "        vertical-align: middle;\n",
       "    }\n",
       "\n",
       "    .dataframe tbody tr th {\n",
       "        vertical-align: top;\n",
       "    }\n",
       "\n",
       "    .dataframe thead th {\n",
       "        text-align: right;\n",
       "    }\n",
       "</style>\n",
       "<table border=\"1\" class=\"dataframe\">\n",
       "  <thead>\n",
       "    <tr style=\"text-align: right;\">\n",
       "      <th></th>\n",
       "      <th>head</th>\n",
       "      <th>edge</th>\n",
       "      <th>tail</th>\n",
       "      <th>edge_class</th>\n",
       "      <th>head_class</th>\n",
       "      <th>tail_class</th>\n",
       "    </tr>\n",
       "  </thead>\n",
       "  <tbody>\n",
       "    <tr>\n",
       "      <th>0</th>\n",
       "      <td>Anatomy::UBERON:0000002</td>\n",
       "      <td>AdG</td>\n",
       "      <td>Gene::10005</td>\n",
       "      <td>Anatomy-downregulates-Gene</td>\n",
       "      <td>Anatomy</td>\n",
       "      <td>Gene</td>\n",
       "    </tr>\n",
       "    <tr>\n",
       "      <th>1</th>\n",
       "      <td>Anatomy::UBERON:0000002</td>\n",
       "      <td>AdG</td>\n",
       "      <td>Gene::114804</td>\n",
       "      <td>Anatomy-downregulates-Gene</td>\n",
       "      <td>Anatomy</td>\n",
       "      <td>Gene</td>\n",
       "    </tr>\n",
       "    <tr>\n",
       "      <th>2</th>\n",
       "      <td>Anatomy::UBERON:0000002</td>\n",
       "      <td>AdG</td>\n",
       "      <td>Gene::118670</td>\n",
       "      <td>Anatomy-downregulates-Gene</td>\n",
       "      <td>Anatomy</td>\n",
       "      <td>Gene</td>\n",
       "    </tr>\n",
       "    <tr>\n",
       "      <th>3</th>\n",
       "      <td>Anatomy::UBERON:0000002</td>\n",
       "      <td>AdG</td>\n",
       "      <td>Gene::128989</td>\n",
       "      <td>Anatomy-downregulates-Gene</td>\n",
       "      <td>Anatomy</td>\n",
       "      <td>Gene</td>\n",
       "    </tr>\n",
       "    <tr>\n",
       "      <th>4</th>\n",
       "      <td>Anatomy::UBERON:0000002</td>\n",
       "      <td>AdG</td>\n",
       "      <td>Gene::132851</td>\n",
       "      <td>Anatomy-downregulates-Gene</td>\n",
       "      <td>Anatomy</td>\n",
       "      <td>Gene</td>\n",
       "    </tr>\n",
       "  </tbody>\n",
       "</table>\n",
       "</div>"
      ],
      "text/plain": [
       "                      head edge          tail                  edge_class  \\\n",
       "0  Anatomy::UBERON:0000002  AdG   Gene::10005  Anatomy-downregulates-Gene   \n",
       "1  Anatomy::UBERON:0000002  AdG  Gene::114804  Anatomy-downregulates-Gene   \n",
       "2  Anatomy::UBERON:0000002  AdG  Gene::118670  Anatomy-downregulates-Gene   \n",
       "3  Anatomy::UBERON:0000002  AdG  Gene::128989  Anatomy-downregulates-Gene   \n",
       "4  Anatomy::UBERON:0000002  AdG  Gene::132851  Anatomy-downregulates-Gene   \n",
       "\n",
       "  head_class tail_class  \n",
       "0    Anatomy       Gene  \n",
       "1    Anatomy       Gene  \n",
       "2    Anatomy       Gene  \n",
       "3    Anatomy       Gene  \n",
       "4    Anatomy       Gene  "
      ]
     },
     "execution_count": 3,
     "metadata": {},
     "output_type": "execute_result"
    }
   ],
   "source": [
    "data_df.head()"
   ]
  },
  {
   "cell_type": "code",
   "execution_count": 4,
   "id": "3458d96c",
   "metadata": {},
   "outputs": [
    {
     "data": {
      "text/plain": [
       "{'Anatomy',\n",
       " 'Biological Process',\n",
       " 'Cellular Component',\n",
       " 'Compound',\n",
       " 'Disease',\n",
       " 'Gene',\n",
       " 'Molecular Function',\n",
       " 'Pathway',\n",
       " 'Pharmacologic Class',\n",
       " 'Side Effect',\n",
       " 'Symptom'}"
      ]
     },
     "execution_count": 4,
     "metadata": {},
     "output_type": "execute_result"
    }
   ],
   "source": [
    "set(data_df['head_class'].unique().tolist() + data_df['tail_class'].unique().tolist())"
   ]
  },
  {
   "cell_type": "code",
   "execution_count": 5,
   "id": "56300b11",
   "metadata": {},
   "outputs": [
    {
     "data": {
      "text/plain": [
       "Gene                   19145\n",
       "Biological Process     11381\n",
       "Side Effect             5701\n",
       "Molecular Function      2884\n",
       "Pathway                 1822\n",
       "Compound                1538\n",
       "Cellular Component      1391\n",
       "Symptom                  415\n",
       "Anatomy                  400\n",
       "Pharmacologic Class      345\n",
       "Disease                  136\n",
       "Name: entity_class, dtype: int64"
      ]
     },
     "execution_count": 5,
     "metadata": {},
     "output_type": "execute_result"
    }
   ],
   "source": [
    "h = data_df[['head', 'head_class']].rename(columns={'head': 'entity', 'head_class': 'entity_class'})\n",
    "t = data_df[['tail', 'tail_class']].rename(columns={'tail': 'entity', 'tail_class': 'entity_class'})\n",
    "h_t = pd.concat((h,t)).drop_duplicates()\n",
    "h_t['entity_class'].value_counts()"
   ]
  },
  {
   "cell_type": "markdown",
   "id": "9afe5f7f",
   "metadata": {},
   "source": [
    "Looks like we have 11 entities classes, but the entity `gene` is extremely abundant, whereas there are some entities with very few nodes, such as `disease` and `pharmacologic class`.\n",
    "\n",
    "This kind of unbalanced dataset will impact the result of our classification. One solution to reduce the influence of unbalanced data is using **Focal Loss** instead of normal cross entropy loss. Focal Loss more heavily penalizes training points that are more rare (e.g. disease) compared to abundant training examples (gene)."
   ]
  },
  {
   "cell_type": "code",
   "execution_count": 3,
   "id": "95ecd856",
   "metadata": {
    "tags": [
     "hidecode"
    ]
   },
   "outputs": [
    {
     "data": {
      "text/html": [
       "<script>\n",
       "code_show=true; \n",
       "function code_toggle() {\n",
       "    if (code_show){\n",
       "        $('div.cell.code_cell.rendered.selected div.input').hide();\n",
       "    } else {\n",
       "        $('div.cell.code_cell.rendered.selected div.input').show();\n",
       "    }\n",
       "    code_show = !code_show\n",
       "} \n",
       "$( document ).ready(code_toggle);\n",
       "</script>\n",
       "The focal loss code is taken from AdeelH's github (https://github.com/AdeelH/pytorch-multi-class-focal-loss).\n",
       "\n",
       "To show/hide this cell's raw Focal Loss code input, click <a href=\"javascript:code_toggle()\">here</a>."
      ],
      "text/plain": [
       "<IPython.core.display.HTML object>"
      ]
     },
     "metadata": {},
     "output_type": "display_data"
    }
   ],
   "source": [
    "# Taken from https://stackoverflow.com/questions/31517194/how-to-hide-one-specific-cell-input-or-output-in-ipython-notebook\n",
    "from IPython.display import HTML, display\n",
    "tag = HTML('''<script>\n",
    "code_show=true; \n",
    "function code_toggle() {\n",
    "    if (code_show){\n",
    "        $('div.cell.code_cell.rendered.selected div.input').hide();\n",
    "    } else {\n",
    "        $('div.cell.code_cell.rendered.selected div.input').show();\n",
    "    }\n",
    "    code_show = !code_show\n",
    "} \n",
    "$( document ).ready(code_toggle);\n",
    "</script>\n",
    "The focal loss code is taken from AdeelH's github (https://github.com/AdeelH/pytorch-multi-class-focal-loss).\n",
    "\n",
    "To show/hide this cell's raw Focal Loss code input, click <a href=\"javascript:code_toggle()\">here</a>.''')\n",
    "display(tag)\n",
    "\n",
    "############### Write code below ##################\n",
    "\n",
    "class FocalLoss(nn.Module):\n",
    "    def __init__(self,\n",
    "                 alpha: Optional[Tensor] = None,\n",
    "                 gamma: float = 0.,\n",
    "                 reduction: str = 'mean',\n",
    "                 ignore_index: int = -100):\n",
    "        if reduction not in ('mean', 'sum', 'none'):\n",
    "            raise ValueError(\n",
    "                'Reduction must be one of: \"mean\", \"sum\", \"none\".')\n",
    "        super().__init__()\n",
    "        self.alpha = alpha\n",
    "        self.gamma = gamma\n",
    "        self.ignore_index = ignore_index\n",
    "        self.reduction = reduction\n",
    "        self.nll_loss = nn.NLLLoss(\n",
    "            weight=alpha, reduction='none', ignore_index=ignore_index)\n",
    "\n",
    "    def __repr__(self):\n",
    "        arg_keys = ['alpha', 'gamma', 'ignore_index', 'reduction']\n",
    "        arg_vals = [self.__dict__[k] for k in arg_keys]\n",
    "        arg_strs = [f'{k}={v}' for k, v in zip(arg_keys, arg_vals)]\n",
    "        arg_str = ', '.join(arg_strs)\n",
    "        return f'{type(self).__name__}({arg_str})'\n",
    "\n",
    "    def forward(self, x: Tensor, y: Tensor) -> Tensor:\n",
    "        if x.ndim > 2:\n",
    "            c = x.shape[1]\n",
    "            x = x.permute(0, *range(2, x.ndim), 1).reshape(-1, c)\n",
    "            y = y.view(-1)\n",
    "\n",
    "        unignored_mask = y != self.ignore_index\n",
    "        y = y[unignored_mask]\n",
    "        if len(y) == 0:\n",
    "            return 0.\n",
    "        x = x[unignored_mask]\n",
    "\n",
    "        log_p = F.log_softmax(x, dim=-1)\n",
    "        ce = self.nll_loss(log_p, y)\n",
    "\n",
    "        all_rows = torch.arange(len(x))\n",
    "        log_pt = log_p[all_rows, y]\n",
    "\n",
    "        pt = log_pt.exp()\n",
    "        focal_term = (1 - pt)**self.gamma\n",
    "\n",
    "        loss = focal_term * ce\n",
    "\n",
    "        if self.reduction == 'mean':\n",
    "            loss = loss.mean()\n",
    "        elif self.reduction == 'sum':\n",
    "            loss = loss.sum()\n",
    "        return loss\n",
    "\n",
    "def focal_loss(alpha: Optional[Sequence] = None, gamma: float = 0., reduction: str = 'mean', ignore_index: int = -100, device='cpu', dtype=torch.float32) -> FocalLoss:\n",
    "    if alpha is not None:\n",
    "        if not isinstance(alpha, Tensor):\n",
    "            alpha = torch.tensor(alpha)\n",
    "        alpha = alpha.to(device=device, dtype=dtype)\n",
    "    fl = FocalLoss(alpha=alpha, gamma=gamma, reduction=reduction, ignore_index=ignore_index)\n",
    "    return fl"
   ]
  },
  {
   "cell_type": "code",
   "execution_count": 7,
   "id": "1d0f284b",
   "metadata": {},
   "outputs": [],
   "source": [
    "from IPython.display import HTML\n",
    "from IPython.display import display"
   ]
  },
  {
   "cell_type": "markdown",
   "id": "fe54dc05",
   "metadata": {},
   "source": [
    "## Create Graph\n",
    "I will now create a directed NetworkX graph `G_nx` from our Hetionet data. I created the `labels_map` dictionary manually for my own reference. Each node cantains the `label` (entity type) and `label_id` (id from `labels_map`) for debugging purposes as well. I will not display this NetworkX graph since it is still extremely large (2M connections).\n",
    "\n",
    "One thing to note is that the nodes in `G_nx` are ordered. I will be using this order for creating the features and labels for our training."
   ]
  },
  {
   "cell_type": "code",
   "execution_count": 8,
   "id": "013f520a",
   "metadata": {},
   "outputs": [],
   "source": [
    "labels_map = {\n",
    "\t\t\t\t'Anatomy': 0,\n",
    "\t\t\t\t'Biological Process': 1,\n",
    "\t\t\t\t'Cellular Component': 2,\n",
    "\t\t\t\t'Compound': 3,\n",
    "\t\t\t\t'Disease': 4,\n",
    "\t\t\t\t'Gene': 5,\n",
    "\t\t\t\t'Molecular Function': 6,\n",
    "\t\t\t\t'Pathway': 7,\n",
    "\t\t\t\t'Pharmacologic Class': 8,\n",
    "\t\t\t\t'Side Effect': 9,\n",
    "\t\t\t\t'Symptom': 10,\n",
    "\t\t\t}\n",
    "\n",
    "G_nx = nx.DiGraph() # directed\n",
    "for edge in data_df['edge'].unique():\n",
    "\tG_nx.add_edges_from(list(data_df.loc[data_df['edge']==edge, ['head','tail']].to_records(index=False)), label=edge)\n",
    "all_nodes = list(G_nx.nodes)\t\n",
    "for node in all_nodes:\n",
    "\tlabel = node.split('::')[0]\n",
    "\tG_nx.nodes[node]['label'] = label\n",
    "\tG_nx.nodes[node]['label_id'] = labels_map[label]"
   ]
  },
  {
   "cell_type": "code",
   "execution_count": 9,
   "id": "6db9b74a",
   "metadata": {},
   "outputs": [],
   "source": [
    "# mask\n",
    "training_nodes, testing_nodes = train_test_split(all_nodes, test_size=0.2, random_state=100)\n",
    "training_nodes, validation_nodes = train_test_split(training_nodes, test_size=0.2, random_state=101)\n",
    "training_mask = torch.tensor([True if n in training_nodes else False for n in all_nodes])\n",
    "testing_mask = torch.tensor([True if n in testing_nodes else False for n in all_nodes])\n",
    "validation_mask = torch.tensor([True if n in validation_nodes else False for n in all_nodes])\n",
    "\n",
    "# labels\n",
    "labels = torch.tensor([G_nx.nodes[n]['label_id'] for n in all_nodes])"
   ]
  },
  {
   "cell_type": "markdown",
   "id": "b310668e",
   "metadata": {},
   "source": [
    "## Feature Engineering\n",
    "There are multiple ways we can engineer features for our graph. Here are a few ways I will try:\n",
    "1. Random\n",
    "2. Identity Matrix\n",
    "3. Adjacency Matrix\n",
    "4. Node2Vec\n",
    "5. Hand-crafted"
   ]
  },
  {
   "cell_type": "markdown",
   "id": "f708c840",
   "metadata": {},
   "source": [
    "### 1. Random Features"
   ]
  },
  {
   "cell_type": "code",
   "execution_count": 10,
   "id": "24d649b1",
   "metadata": {},
   "outputs": [],
   "source": [
    "n_features = 1000\n",
    "features_np = np.random.rand(len(all_nodes), n_features)\n",
    "features = torch.tensor(features_np).float()\n",
    "all_features = {'random': features}"
   ]
  },
  {
   "cell_type": "markdown",
   "id": "219b6c5b",
   "metadata": {},
   "source": [
    "### 2. Identity Matrix"
   ]
  },
  {
   "cell_type": "code",
   "execution_count": 11,
   "id": "327abfb2",
   "metadata": {},
   "outputs": [],
   "source": [
    "n_features = len(all_nodes)\n",
    "features_np = np.eye(n_features)\n",
    "features = torch.tensor(features_np).float()\n",
    "all_features['identity'] = features"
   ]
  },
  {
   "cell_type": "markdown",
   "id": "b76a2702",
   "metadata": {},
   "source": [
    "### 3. Adjacency Matrix"
   ]
  },
  {
   "cell_type": "code",
   "execution_count": 12,
   "id": "64c218b4",
   "metadata": {},
   "outputs": [],
   "source": [
    "n_features = len(all_nodes)\n",
    "features_np = nx.adjacency_matrix(G_nx, nodelist=G_nx.nodes()).toarray() # adjacency matrix\n",
    "features = torch.tensor(features_np).float()\n",
    "all_features['adj_matrix'] = features"
   ]
  },
  {
   "cell_type": "markdown",
   "id": "d2f96765",
   "metadata": {},
   "source": [
    "### 4. Node2Vec\n",
    "This `node2vec` algorithm learns low-dimensional representation of each node (node embedding) by simulating random walk. We start off by encoding the nodes with integer numbers, then we perform random walk from the starting node to generate a 'walk' sequence, which would contain useful information about the neighbors of that starting node. Node2Vec is a type of biased random walk since it specifies 2 separate probabilities, `p` which is the probability to return to the previous node, and `q` which is the probability of staying in the neighborhood of the starting node -- a high `q` would mean we are performing breadth-first search from the first node. Node2Vec has been used to create node embeddings for many types of downstream tasks on knowledge graphs. More information can be found [here](https://snap.stanford.edu/node2vec/)."
   ]
  },
  {
   "cell_type": "code",
   "execution_count": 13,
   "id": "cc125e4c",
   "metadata": {},
   "outputs": [],
   "source": [
    "already_generated = True\n",
    "\n",
    "n_features = 1000\n",
    "random_walk_length = 100\n",
    "random_walk_num = 100\n",
    "random_walk_dimensions = n_features\n",
    "\n",
    "if not already_generated:\n",
    "\tmodel_n2v = Node2Vec(G_nx, dimensions=random_walk_dimensions, walk_length=random_walk_length, num_walks=random_walk_num).fit(window=10, min_count=1)\n",
    "\tfeatures_np = model_n2v.wv.vectors\n",
    "\tfeatures = torch.tensor(features_np)\n",
    "\tscaler = MinMaxScaler()\n",
    "\tfeatures = torch.tensor(scaler.fit_transform(features)).float()\n",
    "\ttorch.save(features, 'features_node2vec.pt')\n",
    "else:\n",
    "\tfeatures = torch.load('features_node2vec.pt')\n",
    "    \n",
    "all_features['node2vec'] = features"
   ]
  },
  {
   "cell_type": "markdown",
   "id": "46a9e939",
   "metadata": {},
   "source": [
    "### 5. Hand-crafted\n",
    "For the last one, I will hand-craft a few features for each node. Some of these features are derived from this blog post [link](https://towardsdatascience.com/deepgl-on-neo4j-b27e8c64190f). The features include the node's in-degree, out-degree as well as its neighbors distribution of in- and out-degrees."
   ]
  },
  {
   "cell_type": "code",
   "execution_count": 14,
   "id": "a2695ccb",
   "metadata": {},
   "outputs": [],
   "source": [
    "already_generated = True\n",
    "\n",
    "if not already_generated:\n",
    "\tagg_functions = [np.sum, np.max, np.mean, np.linalg.norm, np.prod]\n",
    "\tall_nodes_features = []\n",
    "\tfor node in all_nodes:\n",
    "\t\tnode_features \t= []\n",
    "\t\tnode_in_degree \t= G_nx.in_degree(node)\n",
    "\t\tnode_features.append(node_in_degree)\n",
    "\t\tnode_out_degree = G_nx.out_degree(node)\n",
    "\t\tnode_features.append(node_out_degree)\n",
    "\t\tnode_degree \t= G_nx.degree(node)\n",
    "\t\tnode_features.append(node_degree)\n",
    "\n",
    "\t\tin_neighbors \t= [nbr for nbr in G_nx.predecessors(node)]\n",
    "\t\tin_neighbors_in_degree = []\n",
    "\t\tin_neighbors_out_degree = []\n",
    "\t\tin_neighbors_degree = []\n",
    "\t\tfor nbr in in_neighbors:\n",
    "\t\t\tnbr_in_degree \t= G_nx.in_degree(nbr)\n",
    "\t\t\tin_neighbors_in_degree.append(nbr_in_degree)\n",
    "\t\t\tnbr_out_degree \t= G_nx.out_degree(nbr)\n",
    "\t\t\tin_neighbors_out_degree.append(nbr_out_degree)\n",
    "\t\t\tnbr_degree \t\t= G_nx.degree(nbr)\n",
    "\t\t\tin_neighbors_degree.append(nbr_degree)\n",
    "\t\tfor func in agg_functions:\n",
    "\t\t\tif len(in_neighbors_in_degree) > 0:\n",
    "\t\t\t\tnbr_in_degree_func = func(in_neighbors_in_degree)\n",
    "\t\t\telse: nbr_in_degree_func = 0\n",
    "\t\t\tnode_features.append(nbr_in_degree_func)\n",
    "\t\t\tif len(in_neighbors_out_degree) > 0:\n",
    "\t\t\t\tnbr_out_degree_func = func(in_neighbors_out_degree)\n",
    "\t\t\telse: nbr_out_degree_func = 0\n",
    "\t\t\tnode_features.append(nbr_out_degree_func)\n",
    "\t\t\tif len(in_neighbors_degree) > 0:\n",
    "\t\t\t\tnbr_degree_func = func(in_neighbors_degree)\n",
    "\t\t\telse: nbr_degree_func = 0\n",
    "\t\t\tnode_features.append(nbr_degree_func)\n",
    "\n",
    "\t\tout_neighbors = G_nx[node]\n",
    "\t\tout_neighbors_in_degree = []\n",
    "\t\tout_neighbors_out_degree = []\n",
    "\t\tout_neighbors_degree = []\n",
    "\t\tfor nbr in out_neighbors:\n",
    "\t\t\tnbr_in_degree \t= G_nx.in_degree(nbr)\n",
    "\t\t\tout_neighbors_in_degree.append(nbr_in_degree)\n",
    "\t\t\tnbr_out_degree \t= G_nx.out_degree(nbr)\n",
    "\t\t\tout_neighbors_out_degree.append(nbr_out_degree)\n",
    "\t\t\tnbr_degree \t\t= G_nx.degree(nbr)\n",
    "\t\t\tout_neighbors_degree.append(nbr_degree)\n",
    "\t\tfor func in agg_functions:\n",
    "\t\t\tif len(out_neighbors_in_degree) > 0:\n",
    "\t\t\t\tnbr_in_degree_func = func(out_neighbors_in_degree)\n",
    "\t\t\telse: nbr_in_degree_func = 0\n",
    "\t\t\tnode_features.append(nbr_in_degree_func)\n",
    "\t\t\tif len(out_neighbors_out_degree) > 0:\n",
    "\t\t\t\tnbr_out_degree_func = func(out_neighbors_out_degree)\n",
    "\t\t\telse: nbr_out_degree_func = 0\n",
    "\t\t\tnode_features.append(nbr_out_degree_func)\n",
    "\t\t\tif len(out_neighbors_degree) > 0:\n",
    "\t\t\t\tnbr_degree_func = func(out_neighbors_degree)\n",
    "\t\t\telse: nbr_degree_func = 0\n",
    "\t\t\tnode_features.append(nbr_degree_func)\n",
    "\n",
    "\t\tall_nodes_features.append(node_features)\n",
    "\tn_features = len(all_nodes_features[0])\n",
    "\tfeatures_np = np.array(all_nodes_features)\n",
    "\n",
    "\tfeatures = torch.tensor(features_np)\n",
    "\tscaler = MinMaxScaler()\n",
    "\tfeatures = torch.tensor(scaler.fit_transform(features)).float()\n",
    "\ttorch.save(features, 'features_engineered.pt')\n",
    "\n",
    "else:\n",
    "\tfeatures = torch.load('features_engineered.pt')\n",
    "\tn_features = features.shape[1]\n",
    "    \n",
    "all_features['engineered'] = features"
   ]
  },
  {
   "cell_type": "markdown",
   "id": "1e83b5b3",
   "metadata": {},
   "source": [
    "Now that we have created our different features, let's see if we can visualize some of the features and predict if our GCN will be successful in classifying the nodes. Below, I show the tSNE features for the hand-crafted (first) and node2vec (second) features. From both plots, we expect that the hand-crafted features will at least be able to distinguish between class 5 (gene) better, whereas the node2vec do not seem to show bigger distinct clusters. These graphs demonstrate the difficulty of the classification task for Hetionet."
   ]
  },
  {
   "cell_type": "code",
   "execution_count": 15,
   "id": "d14a7e37",
   "metadata": {},
   "outputs": [
    {
     "name": "stdout",
     "output_type": "stream",
     "text": [
      "ENGINEERED FEATURES\n"
     ]
    },
    {
     "data": {
      "image/png": "[encoded data removed]",
      "text/plain": [
       "<Figure size 432x288 with 1 Axes>"
      ]
     },
     "metadata": {
      "needs_background": "light"
     },
     "output_type": "display_data"
    }
   ],
   "source": [
    "print('ENGINEERED FEATURES')\n",
    "features_tsne = TSNE(n_components=2, learning_rate='auto', init='random').fit_transform(all_features['engineered'].detach().numpy())\n",
    "for l in range(11):\n",
    "\tplt.scatter(features_tsne[labels==l,0], features_tsne[labels==l,1], alpha=0.5)\n",
    "plt.legend(list(range(len(labels_map))))\n",
    "plt.show()"
   ]
  },
  {
   "cell_type": "code",
   "execution_count": 16,
   "id": "e1e7a844",
   "metadata": {},
   "outputs": [
    {
     "name": "stdout",
     "output_type": "stream",
     "text": [
      "NODE2VEC FEATURES\n"
     ]
    },
    {
     "data": {
      "image/png": "[encoded data removed]",
      "text/plain": [
       "<Figure size 432x288 with 1 Axes>"
      ]
     },
     "metadata": {
      "needs_background": "light"
     },
     "output_type": "display_data"
    }
   ],
   "source": [
    "print('NODE2VEC FEATURES')\n",
    "features_tsne = TSNE(n_components=2, learning_rate='auto', init='random').fit_transform(all_features['node2vec'].detach().numpy())\n",
    "for l in range(11):\n",
    "\tplt.scatter(features_tsne[labels==l,0], features_tsne[labels==l,1], alpha=0.5)\n",
    "plt.legend(list(range(len(labels_map))))\n",
    "plt.show()"
   ]
  },
  {
   "cell_type": "markdown",
   "id": "dd98bf9b",
   "metadata": {},
   "source": [
    "# Graph Convolutional Network\n",
    "I will now use the DGL library to train a 2-layer GCN, with 16 hidden features in the middle layer.\n",
    "\n",
    "One thing to note is that the the focal loss, we need to set the `gamma` and `alpha` parameters. The focal loss is defined as $FL(p) = -\\alpha(1-p)^{\\gamma}log(p)$, so `gamma` alters the proability of the class and `alpha` is the weight of each class. In this project, we will set `gamma=50` and `alpha` as the normalized inverse probability that a node belongs to a particular class."
   ]
  },
  {
   "cell_type": "code",
   "execution_count": 17,
   "id": "a1077036",
   "metadata": {},
   "outputs": [],
   "source": [
    "G_dgl = dgl.from_networkx(G_nx)\n",
    "G_dgl = dgl.add_self_loop(G_dgl)\n",
    "\n",
    "class GCN(nn.Module):\n",
    "    def __init__(self, in_feats, h_feats, num_classes):\n",
    "        super(GCN, self).__init__()\n",
    "        self.conv1 = GraphConv(in_feats, h_feats)\n",
    "        self.conv2 = GraphConv(h_feats, num_classes)\n",
    "\n",
    "    def forward(self, g, in_feat):\n",
    "        h = self.conv1(g, in_feat)\n",
    "        h = F.relu(h)\n",
    "        h = self.conv2(g, h)\n",
    "        return h"
   ]
  },
  {
   "cell_type": "code",
   "execution_count": 18,
   "id": "819b52a2",
   "metadata": {},
   "outputs": [],
   "source": [
    "def train(features_by, n_epochs=200):\n",
    "    # features_by: random, identity, adj_matrix, node2vec, engineered\n",
    "    features = all_features[features_by]\n",
    "    n_features = features.shape[1]\n",
    "    \n",
    "    model, focal_loss, logits, loss = None, None, None, None # clear vars\n",
    "    \n",
    "    model = GCN(n_features, 16, len(labels_map))\n",
    "    optimizer = torch.optim.Adam(model.parameters(), lr=0.01)\n",
    "    # n_epochs = 200\n",
    "    training_accuracies = []\n",
    "    validation_accuracies = []\n",
    "    validation_f1s = []\n",
    "    \n",
    "    alpha = torch.tensor(pd.Series(labels).value_counts(normalize=True)[list(range(11))].tolist()).float()\n",
    "    alpha = 1 / alpha\n",
    "    alpha /= alpha.sum()\n",
    "    focal_loss = FocalLoss(gamma=50, alpha=alpha)\n",
    "\n",
    "    for epoch in range(n_epochs):\n",
    "        logits = model(G_dgl, features)\n",
    "        pred = logits.argmax(1)\n",
    "        loss = focal_loss(logits[training_mask], labels[training_mask]) # instead of cross entropy loss\n",
    "\n",
    "        training_accuracy = (pred[training_mask] == labels[training_mask]).float().mean()\n",
    "        training_accuracies.append(training_accuracy)\n",
    "        validation_accuracy = (pred[validation_mask] == labels[validation_mask]).float().mean()\n",
    "        validation_accuracies.append(validation_accuracy)\n",
    "        validation_f1 = f1_score(pred[validation_mask], labels[validation_mask], average='macro')\n",
    "        validation_f1s.append(validation_f1)\n",
    "\n",
    "        optimizer.zero_grad()\n",
    "        loss.backward()\n",
    "        optimizer.step()\n",
    "\n",
    "#         if epoch % 10 == 0:\n",
    "#             print('Epoch {}, Train_Acc {}, Valid_Acc {}, Valid_F1 {}'.format(epoch, round(training_accuracy.item(),3), round(validation_accuracy.item(),3), round(validation_f1,3)))\n",
    "    return model, validation_f1s"
   ]
  },
  {
   "cell_type": "code",
   "execution_count": 19,
   "id": "3eefc385",
   "metadata": {},
   "outputs": [],
   "source": [
    "def test(features_by, model):\n",
    "    features = all_features[features_by]\n",
    "    n_features = features.shape[1]\n",
    "    \n",
    "    model.eval()\n",
    "    with torch.no_grad():\n",
    "        logits = model(G_dgl, features)\n",
    "        pred = logits.argmax(1)\n",
    "        pred_testing = pred[testing_mask]\n",
    "        labels_testing = labels[testing_mask]\n",
    "        testing_accuracy = (pred_testing == labels_testing).float().mean()\n",
    "\n",
    "        testing_f1 = f1_score(pred_testing, labels_testing, average=None)\n",
    "    return testing_f1"
   ]
  },
  {
   "cell_type": "markdown",
   "id": "cbe00ceb",
   "metadata": {},
   "source": [
    "### 1. Random\n",
    "It looks like random can only achieve a very low average F1 score across different clases. We already know that random features is probably not a good way to classify nodes, but at least this establishes a baseline for our other feature engineering methods."
   ]
  },
  {
   "cell_type": "code",
   "execution_count": 20,
   "id": "067b97ef",
   "metadata": {},
   "outputs": [
    {
     "data": {
      "text/html": [
       "<div>\n",
       "<style scoped>\n",
       "    .dataframe tbody tr th:only-of-type {\n",
       "        vertical-align: middle;\n",
       "    }\n",
       "\n",
       "    .dataframe tbody tr th {\n",
       "        vertical-align: top;\n",
       "    }\n",
       "\n",
       "    .dataframe thead th {\n",
       "        text-align: right;\n",
       "    }\n",
       "</style>\n",
       "<table border=\"1\" class=\"dataframe\">\n",
       "  <thead>\n",
       "    <tr style=\"text-align: right;\">\n",
       "      <th></th>\n",
       "      <th>Class</th>\n",
       "      <th>F1</th>\n",
       "    </tr>\n",
       "  </thead>\n",
       "  <tbody>\n",
       "    <tr>\n",
       "      <th>0</th>\n",
       "      <td>Anatomy</td>\n",
       "      <td>0.000000</td>\n",
       "    </tr>\n",
       "    <tr>\n",
       "      <th>1</th>\n",
       "      <td>Biological Process</td>\n",
       "      <td>0.000000</td>\n",
       "    </tr>\n",
       "    <tr>\n",
       "      <th>2</th>\n",
       "      <td>Cellular Component</td>\n",
       "      <td>0.000000</td>\n",
       "    </tr>\n",
       "    <tr>\n",
       "      <th>3</th>\n",
       "      <td>Compound</td>\n",
       "      <td>0.000000</td>\n",
       "    </tr>\n",
       "    <tr>\n",
       "      <th>4</th>\n",
       "      <td>Disease</td>\n",
       "      <td>0.000000</td>\n",
       "    </tr>\n",
       "    <tr>\n",
       "      <th>5</th>\n",
       "      <td>Gene</td>\n",
       "      <td>0.000000</td>\n",
       "    </tr>\n",
       "    <tr>\n",
       "      <th>6</th>\n",
       "      <td>Molecular Function</td>\n",
       "      <td>0.000000</td>\n",
       "    </tr>\n",
       "    <tr>\n",
       "      <th>7</th>\n",
       "      <td>Pathway</td>\n",
       "      <td>0.000000</td>\n",
       "    </tr>\n",
       "    <tr>\n",
       "      <th>8</th>\n",
       "      <td>Pharmacologic Class</td>\n",
       "      <td>0.000000</td>\n",
       "    </tr>\n",
       "    <tr>\n",
       "      <th>9</th>\n",
       "      <td>Side Effect</td>\n",
       "      <td>0.000000</td>\n",
       "    </tr>\n",
       "    <tr>\n",
       "      <th>10</th>\n",
       "      <td>Symptom</td>\n",
       "      <td>0.013854</td>\n",
       "    </tr>\n",
       "    <tr>\n",
       "      <th>11</th>\n",
       "      <td>Mean</td>\n",
       "      <td>0.001259</td>\n",
       "    </tr>\n",
       "  </tbody>\n",
       "</table>\n",
       "</div>"
      ],
      "text/plain": [
       "                  Class        F1\n",
       "0               Anatomy  0.000000\n",
       "1    Biological Process  0.000000\n",
       "2    Cellular Component  0.000000\n",
       "3              Compound  0.000000\n",
       "4               Disease  0.000000\n",
       "5                  Gene  0.000000\n",
       "6    Molecular Function  0.000000\n",
       "7               Pathway  0.000000\n",
       "8   Pharmacologic Class  0.000000\n",
       "9           Side Effect  0.000000\n",
       "10              Symptom  0.013854\n",
       "11                 Mean  0.001259"
      ]
     },
     "execution_count": 20,
     "metadata": {},
     "output_type": "execute_result"
    }
   ],
   "source": [
    "features_by = 'random'\n",
    "n_epochs = 200\n",
    "model, validation_f1s = train(features_by, n_epochs)\n",
    "testing_f1 = test(features_by, model)\n",
    "pd.DataFrame(zip(list(labels_map.keys()), testing_f1), columns=['Class', 'F1']).append({'Class':'Mean', 'F1':testing_f1.mean()}, ignore_index=True)"
   ]
  },
  {
   "cell_type": "markdown",
   "id": "38d06d6d",
   "metadata": {},
   "source": [
    "### 2. Identity Matrix\n",
    "Using the identity matrix, which is a method frequently used in GCN for graphs that do not have any extracted features, seems to only perform reasonably for common classes, such as the gene entity. After 50 epochs, the F1 score seems to be leveling out, but the pattern does not follow the exponential decay trend."
   ]
  },
  {
   "cell_type": "code",
   "execution_count": 21,
   "id": "f522f9a1",
   "metadata": {},
   "outputs": [
    {
     "data": {
      "text/html": [
       "<div>\n",
       "<style scoped>\n",
       "    .dataframe tbody tr th:only-of-type {\n",
       "        vertical-align: middle;\n",
       "    }\n",
       "\n",
       "    .dataframe tbody tr th {\n",
       "        vertical-align: top;\n",
       "    }\n",
       "\n",
       "    .dataframe thead th {\n",
       "        text-align: right;\n",
       "    }\n",
       "</style>\n",
       "<table border=\"1\" class=\"dataframe\">\n",
       "  <thead>\n",
       "    <tr style=\"text-align: right;\">\n",
       "      <th></th>\n",
       "      <th>Class</th>\n",
       "      <th>F1</th>\n",
       "    </tr>\n",
       "  </thead>\n",
       "  <tbody>\n",
       "    <tr>\n",
       "      <th>0</th>\n",
       "      <td>Anatomy</td>\n",
       "      <td>0.042705</td>\n",
       "    </tr>\n",
       "    <tr>\n",
       "      <th>1</th>\n",
       "      <td>Biological Process</td>\n",
       "      <td>0.186169</td>\n",
       "    </tr>\n",
       "    <tr>\n",
       "      <th>2</th>\n",
       "      <td>Cellular Component</td>\n",
       "      <td>0.055866</td>\n",
       "    </tr>\n",
       "    <tr>\n",
       "      <th>3</th>\n",
       "      <td>Compound</td>\n",
       "      <td>0.000000</td>\n",
       "    </tr>\n",
       "    <tr>\n",
       "      <th>4</th>\n",
       "      <td>Disease</td>\n",
       "      <td>0.024096</td>\n",
       "    </tr>\n",
       "    <tr>\n",
       "      <th>5</th>\n",
       "      <td>Gene</td>\n",
       "      <td>0.475482</td>\n",
       "    </tr>\n",
       "    <tr>\n",
       "      <th>6</th>\n",
       "      <td>Molecular Function</td>\n",
       "      <td>0.049635</td>\n",
       "    </tr>\n",
       "    <tr>\n",
       "      <th>7</th>\n",
       "      <td>Pathway</td>\n",
       "      <td>0.000000</td>\n",
       "    </tr>\n",
       "    <tr>\n",
       "      <th>8</th>\n",
       "      <td>Pharmacologic Class</td>\n",
       "      <td>0.000000</td>\n",
       "    </tr>\n",
       "    <tr>\n",
       "      <th>9</th>\n",
       "      <td>Side Effect</td>\n",
       "      <td>0.024958</td>\n",
       "    </tr>\n",
       "    <tr>\n",
       "      <th>10</th>\n",
       "      <td>Symptom</td>\n",
       "      <td>0.030852</td>\n",
       "    </tr>\n",
       "    <tr>\n",
       "      <th>11</th>\n",
       "      <td>Mean</td>\n",
       "      <td>0.080888</td>\n",
       "    </tr>\n",
       "  </tbody>\n",
       "</table>\n",
       "</div>"
      ],
      "text/plain": [
       "                  Class        F1\n",
       "0               Anatomy  0.042705\n",
       "1    Biological Process  0.186169\n",
       "2    Cellular Component  0.055866\n",
       "3              Compound  0.000000\n",
       "4               Disease  0.024096\n",
       "5                  Gene  0.475482\n",
       "6    Molecular Function  0.049635\n",
       "7               Pathway  0.000000\n",
       "8   Pharmacologic Class  0.000000\n",
       "9           Side Effect  0.024958\n",
       "10              Symptom  0.030852\n",
       "11                 Mean  0.080888"
      ]
     },
     "execution_count": 21,
     "metadata": {},
     "output_type": "execute_result"
    }
   ],
   "source": [
    "features_by = 'identity'\n",
    "n_epochs = 50\n",
    "model, validation_f1s = train(features_by, n_epochs)\n",
    "testing_f1 = test(features_by, model)\n",
    "pd.DataFrame(zip(list(labels_map.keys()), testing_f1), columns=['Class', 'F1']).append({'Class':'Mean', 'F1':testing_f1.mean()}, ignore_index=True)"
   ]
  },
  {
   "cell_type": "code",
   "execution_count": 22,
   "id": "9af34a0e",
   "metadata": {},
   "outputs": [
    {
     "data": {
      "image/png": "[encoded data removed]",
      "text/plain": [
       "<Figure size 432x288 with 1 Axes>"
      ]
     },
     "metadata": {
      "needs_background": "light"
     },
     "output_type": "display_data"
    }
   ],
   "source": [
    "plt.scatter(list(range(n_epochs)), validation_f1s)\n",
    "plt.xlabel('Epochs')\n",
    "plt.ylabel('Validation F1')\n",
    "plt.show()"
   ]
  },
  {
   "cell_type": "markdown",
   "id": "31a3af95",
   "metadata": {},
   "source": [
    "### 3. Adjacency Matrix\n",
    "Using the adjacency matrix seems to perform better than the identity matrix features, with the mean F1 in the validation set plateauing around 0.20. The adjacency matrix features are also able to classify nodes that are not of the most common classes, even though the F1 score for these classes are still very low."
   ]
  },
  {
   "cell_type": "code",
   "execution_count": 23,
   "id": "22c0f181",
   "metadata": {},
   "outputs": [
    {
     "data": {
      "text/html": [
       "<div>\n",
       "<style scoped>\n",
       "    .dataframe tbody tr th:only-of-type {\n",
       "        vertical-align: middle;\n",
       "    }\n",
       "\n",
       "    .dataframe tbody tr th {\n",
       "        vertical-align: top;\n",
       "    }\n",
       "\n",
       "    .dataframe thead th {\n",
       "        text-align: right;\n",
       "    }\n",
       "</style>\n",
       "<table border=\"1\" class=\"dataframe\">\n",
       "  <thead>\n",
       "    <tr style=\"text-align: right;\">\n",
       "      <th></th>\n",
       "      <th>Class</th>\n",
       "      <th>F1</th>\n",
       "    </tr>\n",
       "  </thead>\n",
       "  <tbody>\n",
       "    <tr>\n",
       "      <th>0</th>\n",
       "      <td>Anatomy</td>\n",
       "      <td>0.051813</td>\n",
       "    </tr>\n",
       "    <tr>\n",
       "      <th>1</th>\n",
       "      <td>Biological Process</td>\n",
       "      <td>0.350998</td>\n",
       "    </tr>\n",
       "    <tr>\n",
       "      <th>2</th>\n",
       "      <td>Cellular Component</td>\n",
       "      <td>0.108738</td>\n",
       "    </tr>\n",
       "    <tr>\n",
       "      <th>3</th>\n",
       "      <td>Compound</td>\n",
       "      <td>0.137374</td>\n",
       "    </tr>\n",
       "    <tr>\n",
       "      <th>4</th>\n",
       "      <td>Disease</td>\n",
       "      <td>0.040100</td>\n",
       "    </tr>\n",
       "    <tr>\n",
       "      <th>5</th>\n",
       "      <td>Gene</td>\n",
       "      <td>0.502722</td>\n",
       "    </tr>\n",
       "    <tr>\n",
       "      <th>6</th>\n",
       "      <td>Molecular Function</td>\n",
       "      <td>0.482196</td>\n",
       "    </tr>\n",
       "    <tr>\n",
       "      <th>7</th>\n",
       "      <td>Pathway</td>\n",
       "      <td>0.245478</td>\n",
       "    </tr>\n",
       "    <tr>\n",
       "      <th>8</th>\n",
       "      <td>Pharmacologic Class</td>\n",
       "      <td>0.517857</td>\n",
       "    </tr>\n",
       "    <tr>\n",
       "      <th>9</th>\n",
       "      <td>Side Effect</td>\n",
       "      <td>0.286115</td>\n",
       "    </tr>\n",
       "    <tr>\n",
       "      <th>10</th>\n",
       "      <td>Symptom</td>\n",
       "      <td>0.038333</td>\n",
       "    </tr>\n",
       "    <tr>\n",
       "      <th>11</th>\n",
       "      <td>Mean</td>\n",
       "      <td>0.251066</td>\n",
       "    </tr>\n",
       "  </tbody>\n",
       "</table>\n",
       "</div>"
      ],
      "text/plain": [
       "                  Class        F1\n",
       "0               Anatomy  0.051813\n",
       "1    Biological Process  0.350998\n",
       "2    Cellular Component  0.108738\n",
       "3              Compound  0.137374\n",
       "4               Disease  0.040100\n",
       "5                  Gene  0.502722\n",
       "6    Molecular Function  0.482196\n",
       "7               Pathway  0.245478\n",
       "8   Pharmacologic Class  0.517857\n",
       "9           Side Effect  0.286115\n",
       "10              Symptom  0.038333\n",
       "11                 Mean  0.251066"
      ]
     },
     "execution_count": 23,
     "metadata": {},
     "output_type": "execute_result"
    }
   ],
   "source": [
    "features_by = 'adj_matrix'\n",
    "n_epochs = 150\n",
    "model, validation_f1s = train(features_by, n_epochs)\n",
    "testing_f1 = test(features_by, model)\n",
    "pd.DataFrame(zip(list(labels_map.keys()), testing_f1), columns=['Class', 'F1']).append({'Class':'Mean', 'F1':testing_f1.mean()}, ignore_index=True)"
   ]
  },
  {
   "cell_type": "code",
   "execution_count": 24,
   "id": "c4368b26",
   "metadata": {},
   "outputs": [
    {
     "data": {
      "image/png": "[encoded data removed]",
      "text/plain": [
       "<Figure size 432x288 with 1 Axes>"
      ]
     },
     "metadata": {
      "needs_background": "light"
     },
     "output_type": "display_data"
    }
   ],
   "source": [
    "plt.scatter(list(range(n_epochs)), validation_f1s)\n",
    "plt.xlabel('Epochs')\n",
    "plt.ylabel('Validation F1')\n",
    "plt.show()"
   ]
  },
  {
   "cell_type": "markdown",
   "id": "6a3e0a82",
   "metadata": {},
   "source": [
    "### 4. Node2Vec\n",
    "The node2vec features do not perform well at all. Even though there seems to be a spike in the middle epochs, but even at the peak F1 validation score, the F1 score is still much lower compared to the validation score using the adjacency matrix. "
   ]
  },
  {
   "cell_type": "code",
   "execution_count": 25,
   "id": "cf86a629",
   "metadata": {},
   "outputs": [
    {
     "data": {
      "text/html": [
       "<div>\n",
       "<style scoped>\n",
       "    .dataframe tbody tr th:only-of-type {\n",
       "        vertical-align: middle;\n",
       "    }\n",
       "\n",
       "    .dataframe tbody tr th {\n",
       "        vertical-align: top;\n",
       "    }\n",
       "\n",
       "    .dataframe thead th {\n",
       "        text-align: right;\n",
       "    }\n",
       "</style>\n",
       "<table border=\"1\" class=\"dataframe\">\n",
       "  <thead>\n",
       "    <tr style=\"text-align: right;\">\n",
       "      <th></th>\n",
       "      <th>Class</th>\n",
       "      <th>F1</th>\n",
       "    </tr>\n",
       "  </thead>\n",
       "  <tbody>\n",
       "    <tr>\n",
       "      <th>0</th>\n",
       "      <td>Anatomy</td>\n",
       "      <td>0.000000</td>\n",
       "    </tr>\n",
       "    <tr>\n",
       "      <th>1</th>\n",
       "      <td>Biological Process</td>\n",
       "      <td>0.000000</td>\n",
       "    </tr>\n",
       "    <tr>\n",
       "      <th>2</th>\n",
       "      <td>Cellular Component</td>\n",
       "      <td>0.000000</td>\n",
       "    </tr>\n",
       "    <tr>\n",
       "      <th>3</th>\n",
       "      <td>Compound</td>\n",
       "      <td>0.000000</td>\n",
       "    </tr>\n",
       "    <tr>\n",
       "      <th>4</th>\n",
       "      <td>Disease</td>\n",
       "      <td>0.000000</td>\n",
       "    </tr>\n",
       "    <tr>\n",
       "      <th>5</th>\n",
       "      <td>Gene</td>\n",
       "      <td>0.000000</td>\n",
       "    </tr>\n",
       "    <tr>\n",
       "      <th>6</th>\n",
       "      <td>Molecular Function</td>\n",
       "      <td>0.000000</td>\n",
       "    </tr>\n",
       "    <tr>\n",
       "      <th>7</th>\n",
       "      <td>Pathway</td>\n",
       "      <td>0.000000</td>\n",
       "    </tr>\n",
       "    <tr>\n",
       "      <th>8</th>\n",
       "      <td>Pharmacologic Class</td>\n",
       "      <td>0.000000</td>\n",
       "    </tr>\n",
       "    <tr>\n",
       "      <th>9</th>\n",
       "      <td>Side Effect</td>\n",
       "      <td>0.000000</td>\n",
       "    </tr>\n",
       "    <tr>\n",
       "      <th>10</th>\n",
       "      <td>Symptom</td>\n",
       "      <td>0.013854</td>\n",
       "    </tr>\n",
       "    <tr>\n",
       "      <th>11</th>\n",
       "      <td>Mean</td>\n",
       "      <td>0.001259</td>\n",
       "    </tr>\n",
       "  </tbody>\n",
       "</table>\n",
       "</div>"
      ],
      "text/plain": [
       "                  Class        F1\n",
       "0               Anatomy  0.000000\n",
       "1    Biological Process  0.000000\n",
       "2    Cellular Component  0.000000\n",
       "3              Compound  0.000000\n",
       "4               Disease  0.000000\n",
       "5                  Gene  0.000000\n",
       "6    Molecular Function  0.000000\n",
       "7               Pathway  0.000000\n",
       "8   Pharmacologic Class  0.000000\n",
       "9           Side Effect  0.000000\n",
       "10              Symptom  0.013854\n",
       "11                 Mean  0.001259"
      ]
     },
     "execution_count": 25,
     "metadata": {},
     "output_type": "execute_result"
    }
   ],
   "source": [
    "features_by = 'node2vec'\n",
    "n_epochs = 200\n",
    "model, validation_f1s = train(features_by, n_epochs)\n",
    "testing_f1 = test(features_by, model)\n",
    "pd.DataFrame(zip(list(labels_map.keys()), testing_f1), columns=['Class', 'F1']).append({'Class':'Mean', 'F1':testing_f1.mean()}, ignore_index=True)"
   ]
  },
  {
   "cell_type": "code",
   "execution_count": 26,
   "id": "9fd99e1e",
   "metadata": {},
   "outputs": [
    {
     "data": {
      "image/png": "[encoded data removed]",
      "text/plain": [
       "<Figure size 432x288 with 1 Axes>"
      ]
     },
     "metadata": {
      "needs_background": "light"
     },
     "output_type": "display_data"
    }
   ],
   "source": [
    "plt.scatter(list(range(n_epochs)), validation_f1s)\n",
    "plt.xlabel('Epochs')\n",
    "plt.ylabel('Validation F1')\n",
    "plt.show()"
   ]
  },
  {
   "cell_type": "markdown",
   "id": "c762b588",
   "metadata": {},
   "source": [
    "### 5. Engineered Features\n",
    "Lastly, the hand-crafted engineered features also perform very well, even though it is still slightly lower compared to using the adjacency matrix as features. The advantage to using our hand-crafted features is that there are only 33 features to consider, compared to the adjacency matrix in which `num_features=num_nodes`, which is very large even for our Hetionet graph. Therefore, even though there is a lower performance for using our engineered features, it is still much faster to train compared to using the adjacency matrix. Additionally, there are many more features that can be extracted, more of which can be found in this [paper](https://arxiv.org/pdf/1704.08829.pdf)."
   ]
  },
  {
   "cell_type": "code",
   "execution_count": 27,
   "id": "02d1d1dd",
   "metadata": {},
   "outputs": [
    {
     "data": {
      "text/html": [
       "<div>\n",
       "<style scoped>\n",
       "    .dataframe tbody tr th:only-of-type {\n",
       "        vertical-align: middle;\n",
       "    }\n",
       "\n",
       "    .dataframe tbody tr th {\n",
       "        vertical-align: top;\n",
       "    }\n",
       "\n",
       "    .dataframe thead th {\n",
       "        text-align: right;\n",
       "    }\n",
       "</style>\n",
       "<table border=\"1\" class=\"dataframe\">\n",
       "  <thead>\n",
       "    <tr style=\"text-align: right;\">\n",
       "      <th></th>\n",
       "      <th>Class</th>\n",
       "      <th>F1</th>\n",
       "    </tr>\n",
       "  </thead>\n",
       "  <tbody>\n",
       "    <tr>\n",
       "      <th>0</th>\n",
       "      <td>Anatomy</td>\n",
       "      <td>0.027907</td>\n",
       "    </tr>\n",
       "    <tr>\n",
       "      <th>1</th>\n",
       "      <td>Biological Process</td>\n",
       "      <td>0.369803</td>\n",
       "    </tr>\n",
       "    <tr>\n",
       "      <th>2</th>\n",
       "      <td>Cellular Component</td>\n",
       "      <td>0.055556</td>\n",
       "    </tr>\n",
       "    <tr>\n",
       "      <th>3</th>\n",
       "      <td>Compound</td>\n",
       "      <td>0.103757</td>\n",
       "    </tr>\n",
       "    <tr>\n",
       "      <th>4</th>\n",
       "      <td>Disease</td>\n",
       "      <td>0.015228</td>\n",
       "    </tr>\n",
       "    <tr>\n",
       "      <th>5</th>\n",
       "      <td>Gene</td>\n",
       "      <td>0.331746</td>\n",
       "    </tr>\n",
       "    <tr>\n",
       "      <th>6</th>\n",
       "      <td>Molecular Function</td>\n",
       "      <td>0.282969</td>\n",
       "    </tr>\n",
       "    <tr>\n",
       "      <th>7</th>\n",
       "      <td>Pathway</td>\n",
       "      <td>0.214403</td>\n",
       "    </tr>\n",
       "    <tr>\n",
       "      <th>8</th>\n",
       "      <td>Pharmacologic Class</td>\n",
       "      <td>0.071264</td>\n",
       "    </tr>\n",
       "    <tr>\n",
       "      <th>9</th>\n",
       "      <td>Side Effect</td>\n",
       "      <td>0.023603</td>\n",
       "    </tr>\n",
       "    <tr>\n",
       "      <th>10</th>\n",
       "      <td>Symptom</td>\n",
       "      <td>0.036721</td>\n",
       "    </tr>\n",
       "    <tr>\n",
       "      <th>11</th>\n",
       "      <td>Mean</td>\n",
       "      <td>0.139360</td>\n",
       "    </tr>\n",
       "  </tbody>\n",
       "</table>\n",
       "</div>"
      ],
      "text/plain": [
       "                  Class        F1\n",
       "0               Anatomy  0.027907\n",
       "1    Biological Process  0.369803\n",
       "2    Cellular Component  0.055556\n",
       "3              Compound  0.103757\n",
       "4               Disease  0.015228\n",
       "5                  Gene  0.331746\n",
       "6    Molecular Function  0.282969\n",
       "7               Pathway  0.214403\n",
       "8   Pharmacologic Class  0.071264\n",
       "9           Side Effect  0.023603\n",
       "10              Symptom  0.036721\n",
       "11                 Mean  0.139360"
      ]
     },
     "execution_count": 27,
     "metadata": {},
     "output_type": "execute_result"
    }
   ],
   "source": [
    "features_by = 'engineered'\n",
    "n_epochs = 150\n",
    "model, validation_f1s = train(features_by, n_epochs)\n",
    "testing_f1 = test(features_by, model)\n",
    "pd.DataFrame(zip(list(labels_map.keys()), testing_f1), columns=['Class', 'F1']).append({'Class':'Mean', 'F1':testing_f1.mean()}, ignore_index=True)"
   ]
  },
  {
   "cell_type": "code",
   "execution_count": 28,
   "id": "a928006d",
   "metadata": {},
   "outputs": [
    {
     "data": {
      "image/png": "[encoded data removed]",
      "text/plain": [
       "<Figure size 432x288 with 1 Axes>"
      ]
     },
     "metadata": {
      "needs_background": "light"
     },
     "output_type": "display_data"
    }
   ],
   "source": [
    "plt.scatter(list(range(n_epochs)), validation_f1s)\n",
    "plt.xlabel('Epochs')\n",
    "plt.ylabel('Validation F1')\n",
    "plt.show()"
   ]
  },
  {
   "cell_type": "markdown",
   "id": "ccb0bea2",
   "metadata": {},
   "source": [
    "# Logistic Regression\n",
    "To test how robust GCN performed and remove the influence of feature engineering, I will perform node classification using these same features with a simple out-of-the-box logistic regressor. We can see that the features that performed relatively well (hand-crafted, node2vec and adjacency matrix) all performed very well with logistic regression, with the exception of a few classes that just cannot be separated with a linear regressor. These classes were able to be classified with GCN using the adjacency matrix and the engineered hand-crafted features (see the class-wise F1 scores), but as a result the performance of the other classes suffered. It would depend on the use case, whether we choose to optimize the overall performance or whether we want to improve the performance of these rare classes, to decide which classifier to use."
   ]
  },
  {
   "cell_type": "markdown",
   "id": "27bc9a1a",
   "metadata": {},
   "source": [
    "### Engineered Features"
   ]
  },
  {
   "cell_type": "code",
   "execution_count": 29,
   "id": "5cbec36c",
   "metadata": {},
   "outputs": [
    {
     "data": {
      "text/html": [
       "<div>\n",
       "<style scoped>\n",
       "    .dataframe tbody tr th:only-of-type {\n",
       "        vertical-align: middle;\n",
       "    }\n",
       "\n",
       "    .dataframe tbody tr th {\n",
       "        vertical-align: top;\n",
       "    }\n",
       "\n",
       "    .dataframe thead th {\n",
       "        text-align: right;\n",
       "    }\n",
       "</style>\n",
       "<table border=\"1\" class=\"dataframe\">\n",
       "  <thead>\n",
       "    <tr style=\"text-align: right;\">\n",
       "      <th></th>\n",
       "      <th>Class</th>\n",
       "      <th>F1</th>\n",
       "    </tr>\n",
       "  </thead>\n",
       "  <tbody>\n",
       "    <tr>\n",
       "      <th>0</th>\n",
       "      <td>Anatomy</td>\n",
       "      <td>0.361905</td>\n",
       "    </tr>\n",
       "    <tr>\n",
       "      <th>1</th>\n",
       "      <td>Biological Process</td>\n",
       "      <td>0.779976</td>\n",
       "    </tr>\n",
       "    <tr>\n",
       "      <th>2</th>\n",
       "      <td>Cellular Component</td>\n",
       "      <td>0.000000</td>\n",
       "    </tr>\n",
       "    <tr>\n",
       "      <th>3</th>\n",
       "      <td>Compound</td>\n",
       "      <td>0.823718</td>\n",
       "    </tr>\n",
       "    <tr>\n",
       "      <th>4</th>\n",
       "      <td>Disease</td>\n",
       "      <td>0.885246</td>\n",
       "    </tr>\n",
       "    <tr>\n",
       "      <th>5</th>\n",
       "      <td>Gene</td>\n",
       "      <td>0.986180</td>\n",
       "    </tr>\n",
       "    <tr>\n",
       "      <th>6</th>\n",
       "      <td>Molecular Function</td>\n",
       "      <td>0.000000</td>\n",
       "    </tr>\n",
       "    <tr>\n",
       "      <th>7</th>\n",
       "      <td>Pathway</td>\n",
       "      <td>0.000000</td>\n",
       "    </tr>\n",
       "    <tr>\n",
       "      <th>8</th>\n",
       "      <td>Pharmacologic Class</td>\n",
       "      <td>0.000000</td>\n",
       "    </tr>\n",
       "    <tr>\n",
       "      <th>9</th>\n",
       "      <td>Side Effect</td>\n",
       "      <td>0.872243</td>\n",
       "    </tr>\n",
       "    <tr>\n",
       "      <th>10</th>\n",
       "      <td>Symptom</td>\n",
       "      <td>0.000000</td>\n",
       "    </tr>\n",
       "    <tr>\n",
       "      <th>11</th>\n",
       "      <td>Mean</td>\n",
       "      <td>0.428115</td>\n",
       "    </tr>\n",
       "  </tbody>\n",
       "</table>\n",
       "</div>"
      ],
      "text/plain": [
       "                  Class        F1\n",
       "0               Anatomy  0.361905\n",
       "1    Biological Process  0.779976\n",
       "2    Cellular Component  0.000000\n",
       "3              Compound  0.823718\n",
       "4               Disease  0.885246\n",
       "5                  Gene  0.986180\n",
       "6    Molecular Function  0.000000\n",
       "7               Pathway  0.000000\n",
       "8   Pharmacologic Class  0.000000\n",
       "9           Side Effect  0.872243\n",
       "10              Symptom  0.000000\n",
       "11                 Mean  0.428115"
      ]
     },
     "execution_count": 29,
     "metadata": {},
     "output_type": "execute_result"
    }
   ],
   "source": [
    "features_by = 'engineered'\n",
    "\n",
    "features = all_features[features_by]\n",
    "lr = LogisticRegression(random_state=0).fit(features[training_mask], labels[training_mask])\n",
    "lr_preds = lr.predict(features)\n",
    "f1_lr = f1_score(lr_preds[testing_mask], labels[testing_mask], average=None)\n",
    "pd.DataFrame(zip(list(labels_map.keys()), f1_lr), columns=['Class', 'F1']).append({'Class':'Mean', 'F1':f1_lr.mean()}, ignore_index=True)"
   ]
  },
  {
   "cell_type": "markdown",
   "id": "3f01ef07",
   "metadata": {},
   "source": [
    "### Node2Vec Features"
   ]
  },
  {
   "cell_type": "code",
   "execution_count": 30,
   "id": "4b24f18f",
   "metadata": {},
   "outputs": [
    {
     "data": {
      "text/html": [
       "<div>\n",
       "<style scoped>\n",
       "    .dataframe tbody tr th:only-of-type {\n",
       "        vertical-align: middle;\n",
       "    }\n",
       "\n",
       "    .dataframe tbody tr th {\n",
       "        vertical-align: top;\n",
       "    }\n",
       "\n",
       "    .dataframe thead th {\n",
       "        text-align: right;\n",
       "    }\n",
       "</style>\n",
       "<table border=\"1\" class=\"dataframe\">\n",
       "  <thead>\n",
       "    <tr style=\"text-align: right;\">\n",
       "      <th></th>\n",
       "      <th>Class</th>\n",
       "      <th>F1</th>\n",
       "    </tr>\n",
       "  </thead>\n",
       "  <tbody>\n",
       "    <tr>\n",
       "      <th>0</th>\n",
       "      <td>Anatomy</td>\n",
       "      <td>0.000000</td>\n",
       "    </tr>\n",
       "    <tr>\n",
       "      <th>1</th>\n",
       "      <td>Biological Process</td>\n",
       "      <td>0.648101</td>\n",
       "    </tr>\n",
       "    <tr>\n",
       "      <th>2</th>\n",
       "      <td>Cellular Component</td>\n",
       "      <td>0.000000</td>\n",
       "    </tr>\n",
       "    <tr>\n",
       "      <th>3</th>\n",
       "      <td>Compound</td>\n",
       "      <td>0.000000</td>\n",
       "    </tr>\n",
       "    <tr>\n",
       "      <th>4</th>\n",
       "      <td>Disease</td>\n",
       "      <td>0.000000</td>\n",
       "    </tr>\n",
       "    <tr>\n",
       "      <th>5</th>\n",
       "      <td>Gene</td>\n",
       "      <td>0.750883</td>\n",
       "    </tr>\n",
       "    <tr>\n",
       "      <th>6</th>\n",
       "      <td>Molecular Function</td>\n",
       "      <td>0.032164</td>\n",
       "    </tr>\n",
       "    <tr>\n",
       "      <th>7</th>\n",
       "      <td>Pathway</td>\n",
       "      <td>0.010870</td>\n",
       "    </tr>\n",
       "    <tr>\n",
       "      <th>8</th>\n",
       "      <td>Pharmacologic Class</td>\n",
       "      <td>0.000000</td>\n",
       "    </tr>\n",
       "    <tr>\n",
       "      <th>9</th>\n",
       "      <td>Side Effect</td>\n",
       "      <td>0.018597</td>\n",
       "    </tr>\n",
       "    <tr>\n",
       "      <th>10</th>\n",
       "      <td>Symptom</td>\n",
       "      <td>0.000000</td>\n",
       "    </tr>\n",
       "    <tr>\n",
       "      <th>11</th>\n",
       "      <td>Mean</td>\n",
       "      <td>0.132783</td>\n",
       "    </tr>\n",
       "  </tbody>\n",
       "</table>\n",
       "</div>"
      ],
      "text/plain": [
       "                  Class        F1\n",
       "0               Anatomy  0.000000\n",
       "1    Biological Process  0.648101\n",
       "2    Cellular Component  0.000000\n",
       "3              Compound  0.000000\n",
       "4               Disease  0.000000\n",
       "5                  Gene  0.750883\n",
       "6    Molecular Function  0.032164\n",
       "7               Pathway  0.010870\n",
       "8   Pharmacologic Class  0.000000\n",
       "9           Side Effect  0.018597\n",
       "10              Symptom  0.000000\n",
       "11                 Mean  0.132783"
      ]
     },
     "execution_count": 30,
     "metadata": {},
     "output_type": "execute_result"
    }
   ],
   "source": [
    "features_by = 'node2vec'\n",
    "\n",
    "features = all_features[features_by]\n",
    "lr = LogisticRegression(random_state=0).fit(features[training_mask], labels[training_mask])\n",
    "lr_preds = lr.predict(features)\n",
    "f1_lr = f1_score(lr_preds[testing_mask], labels[testing_mask], average=None)\n",
    "pd.DataFrame(zip(list(labels_map.keys()), f1_lr), columns=['Class', 'F1']).append({'Class':'Mean', 'F1':f1_lr.mean()}, ignore_index=True)"
   ]
  },
  {
   "cell_type": "markdown",
   "id": "37e7814e",
   "metadata": {},
   "source": [
    "### Adjacency Matrix Features"
   ]
  },
  {
   "cell_type": "code",
   "execution_count": 31,
   "id": "40027798",
   "metadata": {},
   "outputs": [
    {
     "data": {
      "text/html": [
       "<div>\n",
       "<style scoped>\n",
       "    .dataframe tbody tr th:only-of-type {\n",
       "        vertical-align: middle;\n",
       "    }\n",
       "\n",
       "    .dataframe tbody tr th {\n",
       "        vertical-align: top;\n",
       "    }\n",
       "\n",
       "    .dataframe thead th {\n",
       "        text-align: right;\n",
       "    }\n",
       "</style>\n",
       "<table border=\"1\" class=\"dataframe\">\n",
       "  <thead>\n",
       "    <tr style=\"text-align: right;\">\n",
       "      <th></th>\n",
       "      <th>Class</th>\n",
       "      <th>F1</th>\n",
       "    </tr>\n",
       "  </thead>\n",
       "  <tbody>\n",
       "    <tr>\n",
       "      <th>0</th>\n",
       "      <td>Anatomy</td>\n",
       "      <td>0.635659</td>\n",
       "    </tr>\n",
       "    <tr>\n",
       "      <th>1</th>\n",
       "      <td>Biological Process</td>\n",
       "      <td>0.598701</td>\n",
       "    </tr>\n",
       "    <tr>\n",
       "      <th>2</th>\n",
       "      <td>Cellular Component</td>\n",
       "      <td>0.000000</td>\n",
       "    </tr>\n",
       "    <tr>\n",
       "      <th>3</th>\n",
       "      <td>Compound</td>\n",
       "      <td>0.924071</td>\n",
       "    </tr>\n",
       "    <tr>\n",
       "      <th>4</th>\n",
       "      <td>Disease</td>\n",
       "      <td>0.740741</td>\n",
       "    </tr>\n",
       "    <tr>\n",
       "      <th>5</th>\n",
       "      <td>Gene</td>\n",
       "      <td>0.928612</td>\n",
       "    </tr>\n",
       "    <tr>\n",
       "      <th>6</th>\n",
       "      <td>Molecular Function</td>\n",
       "      <td>0.000000</td>\n",
       "    </tr>\n",
       "    <tr>\n",
       "      <th>7</th>\n",
       "      <td>Pathway</td>\n",
       "      <td>0.000000</td>\n",
       "    </tr>\n",
       "    <tr>\n",
       "      <th>8</th>\n",
       "      <td>Pharmacologic Class</td>\n",
       "      <td>0.142857</td>\n",
       "    </tr>\n",
       "    <tr>\n",
       "      <th>9</th>\n",
       "      <td>Side Effect</td>\n",
       "      <td>0.000000</td>\n",
       "    </tr>\n",
       "    <tr>\n",
       "      <th>10</th>\n",
       "      <td>Symptom</td>\n",
       "      <td>0.000000</td>\n",
       "    </tr>\n",
       "    <tr>\n",
       "      <th>11</th>\n",
       "      <td>Mean</td>\n",
       "      <td>0.360967</td>\n",
       "    </tr>\n",
       "  </tbody>\n",
       "</table>\n",
       "</div>"
      ],
      "text/plain": [
       "                  Class        F1\n",
       "0               Anatomy  0.635659\n",
       "1    Biological Process  0.598701\n",
       "2    Cellular Component  0.000000\n",
       "3              Compound  0.924071\n",
       "4               Disease  0.740741\n",
       "5                  Gene  0.928612\n",
       "6    Molecular Function  0.000000\n",
       "7               Pathway  0.000000\n",
       "8   Pharmacologic Class  0.142857\n",
       "9           Side Effect  0.000000\n",
       "10              Symptom  0.000000\n",
       "11                 Mean  0.360967"
      ]
     },
     "execution_count": 31,
     "metadata": {},
     "output_type": "execute_result"
    }
   ],
   "source": [
    "features_by = 'adj_matrix'\n",
    "\n",
    "features = all_features[features_by]\n",
    "lr = LogisticRegression(random_state=0).fit(features[training_mask], labels[training_mask])\n",
    "lr_preds = lr.predict(features)\n",
    "f1_lr = f1_score(lr_preds[testing_mask], labels[testing_mask], average=None)\n",
    "pd.DataFrame(zip(list(labels_map.keys()), f1_lr), columns=['Class', 'F1']).append({'Class':'Mean', 'F1':f1_lr.mean()}, ignore_index=True)"
   ]
  },
  {
   "cell_type": "markdown",
   "id": "caa683be",
   "metadata": {},
   "source": [
    "# Conclusion\n",
    "In this project, we have demonstrated the use of a Graph Convolutional Network to perform node classification for a biomedical knowledge graph Hetionet. This work emphasizes the importance of feature engineering as well as the ability of GCN to classify nodes with features that are not linearly separable, as demonstrated by the difference in performance compared to logistic regression.\n",
    "\n",
    "Node classification is a smaller use case in biomedical knowledge graph. In most applications, we would already know the type of entity for the node of interest. What we would not know is whether this node is connected to other nodes with a specific type of relation -- this is the link prediction task which is an active area of research."
   ]
  },
  {
   "cell_type": "code",
   "execution_count": null,
   "id": "e5031f14",
   "metadata": {},
   "outputs": [],
   "source": []
  }
 ],
 "metadata": {
  "kernelspec": {
   "display_name": "env",
   "language": "python",
   "name": "env"
  },
  "language_info": {
   "codemirror_mode": {
    "name": "ipython",
    "version": 3
   },
   "file_extension": ".py",
   "mimetype": "text/x-python",
   "name": "python",
   "nbconvert_exporter": "python",
   "pygments_lexer": "ipython3",
   "version": "3.9.5"
  }
 },
 "nbformat": 4,
 "nbformat_minor": 5
}
