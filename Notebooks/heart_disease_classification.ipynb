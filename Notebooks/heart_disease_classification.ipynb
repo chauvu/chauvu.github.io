{
 "cells": [
  {
   "cell_type": "markdown",
   "metadata": {},
   "source": [
    "## Heart Disease Classification\n",
    "\n",
    "The purpose of this project is to classify whether a subject experiences cardiovascular disease (symptomatic narrowing of the arteries in the heart) based on different clinical and physiological variables. The full dataset can be downloaded at the UCI Machine Learning Repository [Heart Disease Data Set](https://archive.ics.uci.edu/ml/datasets/heart+disease). Most projects involving this dataset only incorporates the data from Cleveland Clinic; in this work we will include four available datasets:\n",
    "1. Cleveland Clinic, OH, USA\n",
    "2. University Hospital, Switzerland\n",
    "3. V.A. Medical Center, Long Beach, CA, USA\n",
    "4. Hungarian Institute of Cardiology, Hungary\n",
    "\n",
    "First, we will read in the data from the four text files available in the `Data/heart_disease/` folder. We will follow with data cleaning, data exploration and data analysis to classify heart disease on this dataset. We wish to perform classification on whether a subject has heart disease, as indicated by whether they experience vascular narrowing of the heart arteries (like caused by plague buildup). In this dataset, this variable is indicated with `diameter_narrowing`, so we will use other features to predict whether subjects have heart disease (`1`) or do not have heart disease (`0`)."
   ]
  },
  {
   "cell_type": "code",
   "execution_count": 1,
   "metadata": {},
   "outputs": [],
   "source": [
    "import pandas as pd\n",
    "import numpy as np\n",
    "import scipy as sp\n",
    "import seaborn as sns\n",
    "import matplotlib.pyplot as plt\n",
    "from sklearn import model_selection\n",
    "from sklearn import metrics\n",
    "from sklearn import preprocessing\n",
    "from sklearn import linear_model\n",
    "from sklearn import naive_bayes\n",
    "from sklearn import discriminant_analysis\n",
    "from sklearn import neighbors\n",
    "from sklearn import tree\n",
    "from sklearn import ensemble\n",
    "from sklearn import svm"
   ]
  },
  {
   "cell_type": "code",
   "execution_count": 2,
   "metadata": {},
   "outputs": [],
   "source": [
    "# reading in data\n",
    "def read_data(link, lines_per_subject, attrs_per_subject, database_id):\n",
    "    with open(link, 'r') as f:\n",
    "        content = f.read().splitlines()\n",
    "        f.close()\n",
    "    num_subjects = int(len(content) / lines_per_subject)\n",
    "    lines = [line.split() for line in content]\n",
    "    data = np.empty([num_subjects, attrs_per_subject])\n",
    "    for n in range(0,num_subjects):\n",
    "        line = lines[n*lines_per_subject : (n+1)*lines_per_subject]\n",
    "        data_n = []\n",
    "        for l in line:\n",
    "            data_n += l\n",
    "        data[n,:] = (data_n[:-1] + [database_id])\n",
    "    return data"
   ]
  },
  {
   "cell_type": "code",
   "execution_count": 3,
   "metadata": {},
   "outputs": [],
   "source": [
    "# based on documentation for this dataset, we set the number of lines, attributes and columns for each subject\n",
    "lines_per_subject = 10\n",
    "attrs_per_subject = 75 + 1 # add database_id\n",
    "columns = ['id_del','ccf_del','age','sex','pain_loc','exer_pain','relieved_rest','pncaden_del',\n",
    "           'chest_pain','rest_bp','htn_del','cholesterol','smoker_del','smoker_cigs_per_day_del',\n",
    "           'smoker_years_del','fast_bs','hist_diabetes_del','hist_heart_del','rest_ecg','ekgmo_del',\n",
    "           'ekgday_del','ekgyr_del','dig_del','prop_del','nitr_del','pro_del','diuretic_del',\n",
    "           'exer_protocol','exer_dur','thaltime_del','met_del','exer_hr','rest_hr','exer_bp1',\n",
    "           'exer_bp2','dummy_del','rest_bp_del','exer_angina','xhypo_del','oldpeak','exer_slope',\n",
    "           'rest_amp','exer_amp','vessels_flouro_del','restckm_del','exerckm_del','rest_ejection_del',\n",
    "           'rest_wall_del','exer_ejection_del','exer_wall_del','thal_del','thalsef_del','thalpul_del',\n",
    "           'earlobe_del','cmo_del','cday_del','cyr_del','diameter_narrowing','lmt_del','ladprox_del',\n",
    "           'laddist_del','diag_del','cxmain_del','ramus_del','om1_del','om2_del','rcaprox_del',\n",
    "           'rcadist_del','lvx1_del','lvx2_del','lvx3_del','lvx4_del','lvf_del','cathef_del','junk_del','center_id']"
   ]
  },
  {
   "cell_type": "code",
   "execution_count": 4,
   "metadata": {},
   "outputs": [],
   "source": [
    "link_switz = '../Data/heart_disease/switzerland.data'\n",
    "data_switz = read_data(link_switz, lines_per_subject, attrs_per_subject, 0)\n",
    "link_cleveland = '../Data/heart_disease/cleveland.data'\n",
    "data_cleveland = read_data(link_cleveland, lines_per_subject, attrs_per_subject, 1)\n",
    "link_longbeach = '../Data/heart_disease/long-beach-va.data'\n",
    "data_longbeach = read_data(link_longbeach, lines_per_subject, attrs_per_subject, 2)\n",
    "link_hungary = '../Data/heart_disease/hungarian.data'\n",
    "data_hungary = read_data(link_hungary, lines_per_subject, attrs_per_subject, 3)\n",
    "\n",
    "data_np = np.concatenate([data_switz, data_cleveland, data_longbeach, data_hungary], axis=0)\n",
    "# columns from the documentation\n",
    "data = pd.DataFrame(data_np, columns=columns)\n",
    "data.drop(list(data.filter(regex='_del')), axis=1, inplace=True)\n",
    "data.replace(-9, np.nan, inplace=True)"
   ]
  },
  {
   "cell_type": "markdown",
   "metadata": {},
   "source": [
    "# Data cleaning"
   ]
  },
  {
   "cell_type": "code",
   "execution_count": 5,
   "metadata": {},
   "outputs": [
    {
     "data": {
      "text/html": [
       "<div>\n",
       "<style scoped>\n",
       "    .dataframe tbody tr th:only-of-type {\n",
       "        vertical-align: middle;\n",
       "    }\n",
       "\n",
       "    .dataframe tbody tr th {\n",
       "        vertical-align: top;\n",
       "    }\n",
       "\n",
       "    .dataframe thead th {\n",
       "        text-align: right;\n",
       "    }\n",
       "</style>\n",
       "<table border=\"1\" class=\"dataframe\">\n",
       "  <thead>\n",
       "    <tr style=\"text-align: right;\">\n",
       "      <th></th>\n",
       "      <th>age</th>\n",
       "      <th>sex</th>\n",
       "      <th>pain_loc</th>\n",
       "      <th>exer_pain</th>\n",
       "      <th>relieved_rest</th>\n",
       "      <th>chest_pain</th>\n",
       "      <th>rest_bp</th>\n",
       "      <th>cholesterol</th>\n",
       "      <th>fast_bs</th>\n",
       "      <th>rest_ecg</th>\n",
       "      <th>...</th>\n",
       "      <th>rest_hr</th>\n",
       "      <th>exer_bp1</th>\n",
       "      <th>exer_bp2</th>\n",
       "      <th>exer_angina</th>\n",
       "      <th>oldpeak</th>\n",
       "      <th>exer_slope</th>\n",
       "      <th>rest_amp</th>\n",
       "      <th>exer_amp</th>\n",
       "      <th>diameter_narrowing</th>\n",
       "      <th>center_id</th>\n",
       "    </tr>\n",
       "  </thead>\n",
       "  <tbody>\n",
       "    <tr>\n",
       "      <th>0</th>\n",
       "      <td>65.0</td>\n",
       "      <td>1.0</td>\n",
       "      <td>1.0</td>\n",
       "      <td>1.0</td>\n",
       "      <td>1.0</td>\n",
       "      <td>4.0</td>\n",
       "      <td>115.0</td>\n",
       "      <td>0.0</td>\n",
       "      <td>0.0</td>\n",
       "      <td>0.0</td>\n",
       "      <td>...</td>\n",
       "      <td>56.0</td>\n",
       "      <td>185.0</td>\n",
       "      <td>80.0</td>\n",
       "      <td>1.0</td>\n",
       "      <td>0.0</td>\n",
       "      <td>2.0</td>\n",
       "      <td>NaN</td>\n",
       "      <td>NaN</td>\n",
       "      <td>1.0</td>\n",
       "      <td>0.0</td>\n",
       "    </tr>\n",
       "    <tr>\n",
       "      <th>1</th>\n",
       "      <td>32.0</td>\n",
       "      <td>1.0</td>\n",
       "      <td>0.0</td>\n",
       "      <td>0.0</td>\n",
       "      <td>0.0</td>\n",
       "      <td>1.0</td>\n",
       "      <td>95.0</td>\n",
       "      <td>0.0</td>\n",
       "      <td>NaN</td>\n",
       "      <td>0.0</td>\n",
       "      <td>...</td>\n",
       "      <td>74.0</td>\n",
       "      <td>160.0</td>\n",
       "      <td>75.0</td>\n",
       "      <td>0.0</td>\n",
       "      <td>0.7</td>\n",
       "      <td>1.0</td>\n",
       "      <td>8.0</td>\n",
       "      <td>10.0</td>\n",
       "      <td>1.0</td>\n",
       "      <td>0.0</td>\n",
       "    </tr>\n",
       "    <tr>\n",
       "      <th>2</th>\n",
       "      <td>61.0</td>\n",
       "      <td>1.0</td>\n",
       "      <td>1.0</td>\n",
       "      <td>1.0</td>\n",
       "      <td>1.0</td>\n",
       "      <td>4.0</td>\n",
       "      <td>105.0</td>\n",
       "      <td>0.0</td>\n",
       "      <td>NaN</td>\n",
       "      <td>0.0</td>\n",
       "      <td>...</td>\n",
       "      <td>70.0</td>\n",
       "      <td>155.0</td>\n",
       "      <td>90.0</td>\n",
       "      <td>1.0</td>\n",
       "      <td>1.5</td>\n",
       "      <td>1.0</td>\n",
       "      <td>24.0</td>\n",
       "      <td>20.0</td>\n",
       "      <td>1.0</td>\n",
       "      <td>0.0</td>\n",
       "    </tr>\n",
       "    <tr>\n",
       "      <th>3</th>\n",
       "      <td>50.0</td>\n",
       "      <td>1.0</td>\n",
       "      <td>1.0</td>\n",
       "      <td>1.0</td>\n",
       "      <td>1.0</td>\n",
       "      <td>4.0</td>\n",
       "      <td>145.0</td>\n",
       "      <td>0.0</td>\n",
       "      <td>NaN</td>\n",
       "      <td>0.0</td>\n",
       "      <td>...</td>\n",
       "      <td>82.0</td>\n",
       "      <td>180.0</td>\n",
       "      <td>95.0</td>\n",
       "      <td>1.0</td>\n",
       "      <td>0.7</td>\n",
       "      <td>2.0</td>\n",
       "      <td>12.0</td>\n",
       "      <td>13.0</td>\n",
       "      <td>1.0</td>\n",
       "      <td>0.0</td>\n",
       "    </tr>\n",
       "    <tr>\n",
       "      <th>4</th>\n",
       "      <td>57.0</td>\n",
       "      <td>1.0</td>\n",
       "      <td>1.0</td>\n",
       "      <td>1.0</td>\n",
       "      <td>1.0</td>\n",
       "      <td>4.0</td>\n",
       "      <td>110.0</td>\n",
       "      <td>0.0</td>\n",
       "      <td>NaN</td>\n",
       "      <td>1.0</td>\n",
       "      <td>...</td>\n",
       "      <td>71.0</td>\n",
       "      <td>145.0</td>\n",
       "      <td>80.0</td>\n",
       "      <td>1.0</td>\n",
       "      <td>1.4</td>\n",
       "      <td>1.0</td>\n",
       "      <td>18.0</td>\n",
       "      <td>18.0</td>\n",
       "      <td>3.0</td>\n",
       "      <td>0.0</td>\n",
       "    </tr>\n",
       "  </tbody>\n",
       "</table>\n",
       "<p>5 rows × 23 columns</p>\n",
       "</div>"
      ],
      "text/plain": [
       "    age  sex  pain_loc  exer_pain  relieved_rest  chest_pain  rest_bp  \\\n",
       "0  65.0  1.0       1.0        1.0            1.0         4.0    115.0   \n",
       "1  32.0  1.0       0.0        0.0            0.0         1.0     95.0   \n",
       "2  61.0  1.0       1.0        1.0            1.0         4.0    105.0   \n",
       "3  50.0  1.0       1.0        1.0            1.0         4.0    145.0   \n",
       "4  57.0  1.0       1.0        1.0            1.0         4.0    110.0   \n",
       "\n",
       "   cholesterol  fast_bs  rest_ecg  ...  rest_hr  exer_bp1  exer_bp2  \\\n",
       "0          0.0      0.0       0.0  ...     56.0     185.0      80.0   \n",
       "1          0.0      NaN       0.0  ...     74.0     160.0      75.0   \n",
       "2          0.0      NaN       0.0  ...     70.0     155.0      90.0   \n",
       "3          0.0      NaN       0.0  ...     82.0     180.0      95.0   \n",
       "4          0.0      NaN       1.0  ...     71.0     145.0      80.0   \n",
       "\n",
       "   exer_angina  oldpeak  exer_slope  rest_amp  exer_amp  diameter_narrowing  \\\n",
       "0          1.0      0.0         2.0       NaN       NaN                 1.0   \n",
       "1          0.0      0.7         1.0       8.0      10.0                 1.0   \n",
       "2          1.0      1.5         1.0      24.0      20.0                 1.0   \n",
       "3          1.0      0.7         2.0      12.0      13.0                 1.0   \n",
       "4          1.0      1.4         1.0      18.0      18.0                 3.0   \n",
       "\n",
       "   center_id  \n",
       "0        0.0  \n",
       "1        0.0  \n",
       "2        0.0  \n",
       "3        0.0  \n",
       "4        0.0  \n",
       "\n",
       "[5 rows x 23 columns]"
      ]
     },
     "execution_count": 5,
     "metadata": {},
     "output_type": "execute_result"
    }
   ],
   "source": [
    "data.head()"
   ]
  },
  {
   "cell_type": "code",
   "execution_count": 6,
   "metadata": {},
   "outputs": [
    {
     "name": "stdout",
     "output_type": "stream",
     "text": [
      "<class 'pandas.core.frame.DataFrame'>\n",
      "RangeIndex: 899 entries, 0 to 898\n",
      "Data columns (total 23 columns):\n",
      " #   Column              Non-Null Count  Dtype  \n",
      "---  ------              --------------  -----  \n",
      " 0   age                 899 non-null    float64\n",
      " 1   sex                 899 non-null    float64\n",
      " 2   pain_loc            617 non-null    float64\n",
      " 3   exer_pain           617 non-null    float64\n",
      " 4   relieved_rest       613 non-null    float64\n",
      " 5   chest_pain          899 non-null    float64\n",
      " 6   rest_bp             840 non-null    float64\n",
      " 7   cholesterol         869 non-null    float64\n",
      " 8   fast_bs             809 non-null    float64\n",
      " 9   rest_ecg            897 non-null    float64\n",
      " 10  exer_protocol       787 non-null    float64\n",
      " 11  exer_dur            843 non-null    float64\n",
      " 12  exer_hr             844 non-null    float64\n",
      " 13  rest_hr             843 non-null    float64\n",
      " 14  exer_bp1            836 non-null    float64\n",
      " 15  exer_bp2            836 non-null    float64\n",
      " 16  exer_angina         844 non-null    float64\n",
      " 17  oldpeak             837 non-null    float64\n",
      " 18  exer_slope          591 non-null    float64\n",
      " 19  rest_amp            474 non-null    float64\n",
      " 20  exer_amp            757 non-null    float64\n",
      " 21  diameter_narrowing  899 non-null    float64\n",
      " 22  center_id           899 non-null    float64\n",
      "dtypes: float64(23)\n",
      "memory usage: 161.7 KB\n"
     ]
    }
   ],
   "source": [
    "data.info()"
   ]
  },
  {
   "cell_type": "markdown",
   "metadata": {},
   "source": [
    "There are 899 rows in this dataset. Most columns have missing values, ranging from ~50 to more than 400 missing values. We will investigate each feature to decide whether we can keep the feature and apply imputation to fill in the missing values.\n",
    "\n",
    "The variable we can interested in for prediction is `diameter_narrowing`, which indicates cardiovascular narrowing of the arteries and is a biomarker of heart disease. This variable does not have any missing values and is a categorical variable with integers from 0 to 4. Looking at the bar graph, we see that most subjects are classified as `0`, which mean no arterial narrowing. The remaing values `1`, `2`, `3` and `4` indicate the severity of the narrowing.\n",
    "\n",
    "Since we are interested in classifying whether the subject has heart disease or not, instead of severity ratings, we will convert this `diameter_narrowing` variable to a binary variable, with `0` as no disease and `1` as heart disease."
   ]
  },
  {
   "cell_type": "code",
   "execution_count": 7,
   "metadata": {},
   "outputs": [
    {
     "data": {
      "text/plain": [
       "<matplotlib.axes._subplots.AxesSubplot at 0x123067438>"
      ]
     },
     "execution_count": 7,
     "metadata": {},
     "output_type": "execute_result"
    },
    {
     "data": {
      "image/png": "[encoded data removed]",
      "text/plain": [
       "<matplotlib.figure.Figure at 0x122dbee48>"
      ]
     },
     "metadata": {
      "needs_background": "light"
     },
     "output_type": "display_data"
    }
   ],
   "source": [
    "sns.countplot(x='diameter_narrowing',data=data)"
   ]
  },
  {
   "cell_type": "code",
   "execution_count": 8,
   "metadata": {},
   "outputs": [],
   "source": [
    "# binary variable\n",
    "data.loc[data['diameter_narrowing']>1, 'diameter_narrowing'] = 1"
   ]
  },
  {
   "cell_type": "markdown",
   "metadata": {},
   "source": [
    "Now let's move on to cleaning the predictors, starting with `age`, which does not have any missing entries. The distribution plot is only very slightly skewed left, so we do not perform any skewness correction."
   ]
  },
  {
   "cell_type": "code",
   "execution_count": 9,
   "metadata": {},
   "outputs": [
    {
     "data": {
      "text/plain": [
       "<matplotlib.axes._subplots.AxesSubplot at 0x123047a90>"
      ]
     },
     "execution_count": 9,
     "metadata": {},
     "output_type": "execute_result"
    },
    {
     "data": {
      "image/png": "[encoded data removed]",
      "text/plain": [
       "<matplotlib.figure.Figure at 0x122f962e8>"
      ]
     },
     "metadata": {
      "needs_background": "light"
     },
     "output_type": "display_data"
    }
   ],
   "source": [
    "sns.distplot(data['age'])"
   ]
  },
  {
   "cell_type": "markdown",
   "metadata": {},
   "source": [
    "For variables `pain_loc`, we see that the majority of non-null values is `1`, and only ~10% of the entries are `0`; this unbalanced feature can also be visualized in the bar graph below. Since the feature is so predominantly one value, we will drop this column."
   ]
  },
  {
   "cell_type": "code",
   "execution_count": 10,
   "metadata": {},
   "outputs": [
    {
     "data": {
      "text/plain": [
       "1.0    568\n",
       "0.0     49\n",
       "Name: pain_loc, dtype: int64"
      ]
     },
     "execution_count": 10,
     "metadata": {},
     "output_type": "execute_result"
    }
   ],
   "source": [
    "data['pain_loc'].value_counts()"
   ]
  },
  {
   "cell_type": "code",
   "execution_count": 11,
   "metadata": {},
   "outputs": [
    {
     "data": {
      "image/png": "[encoded data removed]",
      "text/plain": [
       "<matplotlib.figure.Figure at 0x122f3e9b0>"
      ]
     },
     "metadata": {
      "needs_background": "light"
     },
     "output_type": "display_data"
    }
   ],
   "source": [
    "sns.countplot(x='pain_loc',data=data)\n",
    "data.drop(columns=['pain_loc'], axis=1, inplace=True) # drop pain_loc column"
   ]
  },
  {
   "cell_type": "markdown",
   "metadata": {},
   "source": [
    "On the other hand, `exer_pain` (which indicates whether subject experiences pain during physical exercise) is more balanced, with around 60% answered yes and 40% answered no. One option is to impute all missing values with the mode, which is `1`. \n",
    "\n",
    "However, looking at the bar graph between `exer_pain` and `exer_angina` (which is the experience of chest pain caused by reduced blood flow to the heart), we see an expected relationship. Within subjects who experience angina, the majority have pain during exercise; on the other hand, without angina, there are more subjects who do not experience exercise pain. Therefore, we will impute `exer_pain` based on `exer_angina`."
   ]
  },
  {
   "cell_type": "code",
   "execution_count": 12,
   "metadata": {},
   "outputs": [
    {
     "name": "stdout",
     "output_type": "stream",
     "text": [
      "1.0    366\n",
      "0.0    251\n",
      "Name: exer_pain, dtype: int64\n"
     ]
    },
    {
     "data": {
      "text/plain": [
       "<matplotlib.axes._subplots.AxesSubplot at 0x125185438>"
      ]
     },
     "execution_count": 12,
     "metadata": {},
     "output_type": "execute_result"
    },
    {
     "data": {
      "image/png": "[encoded data removed]",
      "text/plain": [
       "<matplotlib.figure.Figure at 0x122fd9908>"
      ]
     },
     "metadata": {
      "needs_background": "light"
     },
     "output_type": "display_data"
    }
   ],
   "source": [
    "print(data['exer_pain'].value_counts())\n",
    "sns.countplot(x='exer_angina',hue='exer_pain',data=data) "
   ]
  },
  {
   "cell_type": "code",
   "execution_count": 13,
   "metadata": {},
   "outputs": [
    {
     "data": {
      "text/plain": [
       "1.0    458\n",
       "0.0    441\n",
       "Name: exer_pain, dtype: int64"
      ]
     },
     "execution_count": 13,
     "metadata": {},
     "output_type": "execute_result"
    }
   ],
   "source": [
    "# locations where exer_pain is null and exer_angina is not null\n",
    "data.loc[(data['exer_pain'].isnull()) & (data['exer_angina'].notnull()), 'exer_pain'] = data['exer_angina']\n",
    "data['exer_pain'].value_counts(dropna=False)"
   ]
  },
  {
   "cell_type": "markdown",
   "metadata": {},
   "source": [
    "Variable `relieved_rest` has around 300 missing entries; 2/3 of the non-null entries is `1`, which means the subjects is relieved during the post-exercise rest. But let's explore `relieved_rest` further to see which method of imputation is best for this feature."
   ]
  },
  {
   "cell_type": "code",
   "execution_count": 14,
   "metadata": {},
   "outputs": [
    {
     "name": "stdout",
     "output_type": "stream",
     "text": [
      "1.0    412\n",
      "0.0    201\n",
      "Name: relieved_rest, dtype: int64\n"
     ]
    },
    {
     "data": {
      "text/plain": [
       "<matplotlib.axes._subplots.AxesSubplot at 0x125185828>"
      ]
     },
     "execution_count": 14,
     "metadata": {},
     "output_type": "execute_result"
    },
    {
     "data": {
      "image/png": "[encoded data removed]",
      "text/plain": [
       "<matplotlib.figure.Figure at 0x12311fb70>"
      ]
     },
     "metadata": {
      "needs_background": "light"
     },
     "output_type": "display_data"
    }
   ],
   "source": [
    "print(data['relieved_rest'].value_counts())\n",
    "sns.countplot(x='relieved_rest', data=data)"
   ]
  },
  {
   "cell_type": "code",
   "execution_count": 15,
   "metadata": {},
   "outputs": [
    {
     "data": {
      "text/plain": [
       "<matplotlib.axes._subplots.AxesSubplot at 0x12519fb38>"
      ]
     },
     "execution_count": 15,
     "metadata": {},
     "output_type": "execute_result"
    },
    {
     "data": {
      "image/png": "[encoded data removed]",
      "text/plain": [
       "<matplotlib.figure.Figure at 0x1252cf9e8>"
      ]
     },
     "metadata": {
      "needs_background": "light"
     },
     "output_type": "display_data"
    }
   ],
   "source": [
    "sns.countplot(x='exer_angina', hue='relieved_rest', data=data)"
   ]
  },
  {
   "cell_type": "markdown",
   "metadata": {},
   "source": [
    "For the countplot above between `relieved_rest` and `exer_angina`, we see that if `exer_angina` is `1` then quite likely the subject will experience relieved-resting. Therefore, for the rows in which `relieved_rest` is null and `exer_angina` is `1`, we will fill with `1`.\n",
    "\n",
    "The following countplot between `relieved_rest` and `sex` shows that males (`sex`=1) is more likely to experience exercise pain. Therefore, remaining null values in male subjects are filled with 1 as well. There are still 73 null values remaining after this procedure.\n",
    "\n",
    "The remaining values, we will fill according to `exer_pain`, since most patients who experience exercise pain also experience relieved resting. We saved this procedure for last since `exer_pain` initially had a large number of missing rows and needed heavy imputation."
   ]
  },
  {
   "cell_type": "code",
   "execution_count": 16,
   "metadata": {},
   "outputs": [
    {
     "data": {
      "text/plain": [
       "<matplotlib.axes._subplots.AxesSubplot at 0x125525f60>"
      ]
     },
     "execution_count": 16,
     "metadata": {},
     "output_type": "execute_result"
    },
    {
     "data": {
      "image/png": "[encoded data removed]",
      "text/plain": [
       "<matplotlib.figure.Figure at 0x12552a4e0>"
      ]
     },
     "metadata": {
      "needs_background": "light"
     },
     "output_type": "display_data"
    }
   ],
   "source": [
    "sns.countplot(x='sex', hue='relieved_rest', data=data)"
   ]
  },
  {
   "cell_type": "code",
   "execution_count": 17,
   "metadata": {},
   "outputs": [
    {
     "data": {
      "text/plain": [
       "<matplotlib.axes._subplots.AxesSubplot at 0x1253c34e0>"
      ]
     },
     "execution_count": 17,
     "metadata": {},
     "output_type": "execute_result"
    },
    {
     "data": {
      "image/png": "[encoded data removed]",
      "text/plain": [
       "<matplotlib.figure.Figure at 0x122f3e860>"
      ]
     },
     "metadata": {
      "needs_background": "light"
     },
     "output_type": "display_data"
    }
   ],
   "source": [
    "sns.countplot(x='relieved_rest', hue='exer_pain', data=data)"
   ]
  },
  {
   "cell_type": "code",
   "execution_count": 18,
   "metadata": {},
   "outputs": [],
   "source": [
    "data.loc[(data['relieved_rest'].isnull()) & (data['exer_angina']==1), 'relieved_rest'] = 1\n",
    "data.loc[(data['relieved_rest'].isnull()) & (data['sex']==1), 'relieved_rest'] = 1\n",
    "data['relieved_rest'] = data['relieved_rest'].fillna(data['exer_pain'])"
   ]
  },
  {
   "cell_type": "markdown",
   "metadata": {},
   "source": [
    "Variable `rest_bp` has a fairly Gaussian shape, with one outlier with zero value. Since we know that blood pressures cannot be that low, we will replace these outliers with a null value. Afterward, we will impute missing values with the mean blood pressure."
   ]
  },
  {
   "cell_type": "code",
   "execution_count": 19,
   "metadata": {},
   "outputs": [
    {
     "data": {
      "text/plain": [
       "<matplotlib.axes._subplots.AxesSubplot at 0x12570e400>"
      ]
     },
     "execution_count": 19,
     "metadata": {},
     "output_type": "execute_result"
    },
    {
     "data": {
      "image/png": "[encoded data removed]",
      "text/plain": [
       "<matplotlib.figure.Figure at 0x125706be0>"
      ]
     },
     "metadata": {
      "needs_background": "light"
     },
     "output_type": "display_data"
    }
   ],
   "source": [
    "data['rest_bp'].plot.hist(bins=20)"
   ]
  },
  {
   "cell_type": "code",
   "execution_count": 20,
   "metadata": {},
   "outputs": [],
   "source": [
    "data.loc[data['rest_bp']<25, 'rest_bp'] = np.nan\n",
    "data['rest_bp'] = data['rest_bp'].fillna(data['rest_bp'].mean())"
   ]
  },
  {
   "cell_type": "markdown",
   "metadata": {},
   "source": [
    "The histogram of variable `cholesterol` shows ~170 entries of `cholesterol` = 0. Extremely healthy subjects can have very low cholesterol, but it is close to impossible to have cholesterol level at zero. Therefore, we conclude that these zero values are incorrect and need to be replaced by null values.\n",
    "\n",
    "After this process, we have around 200 null entries in this feature. Since the histogram looks fairly normal, we can impute these missing values with the mean."
   ]
  },
  {
   "cell_type": "code",
   "execution_count": 21,
   "metadata": {},
   "outputs": [
    {
     "name": "stdout",
     "output_type": "stream",
     "text": [
      "202\n"
     ]
    },
    {
     "data": {
      "image/png": "[encoded data removed]",
      "text/plain": [
       "<matplotlib.figure.Figure at 0x12570e320>"
      ]
     },
     "metadata": {
      "needs_background": "light"
     },
     "output_type": "display_data"
    }
   ],
   "source": [
    "data['cholesterol'].plot.hist(bins=20)\n",
    "data.loc[data['cholesterol']==0, 'cholesterol'] = np.nan\n",
    "print(data['cholesterol'].isnull().sum())"
   ]
  },
  {
   "cell_type": "code",
   "execution_count": 22,
   "metadata": {},
   "outputs": [],
   "source": [
    "data['cholesterol'] = data['cholesterol'].fillna(data['cholesterol'].mean())"
   ]
  },
  {
   "cell_type": "markdown",
   "metadata": {},
   "source": [
    "Variable `fast_bs` seems heavily unbalanced, with most of the subjects have value `0` (low fasting blood sugar). Since this feature heavily favors one value over another, we will drop this entire column."
   ]
  },
  {
   "cell_type": "code",
   "execution_count": 23,
   "metadata": {},
   "outputs": [
    {
     "data": {
      "image/png": "[encoded data removed]",
      "text/plain": [
       "<matplotlib.figure.Figure at 0x12570eef0>"
      ]
     },
     "metadata": {
      "needs_background": "light"
     },
     "output_type": "display_data"
    }
   ],
   "source": [
    "sns.countplot(x='fast_bs', data=data)\n",
    "data.drop(columns=['fast_bs'], axis=1, inplace=True)"
   ]
  },
  {
   "cell_type": "markdown",
   "metadata": {},
   "source": [
    "Variable `rest_ecg` only has 2 missing entries, so we will fill these 2 rows with the model `0`. This variable has 3 possible values from 0 to 2, with `0` as normal, `1` as ECG wave abnormality and `2` as left ventricle hypertrophy abnormality. Since both values `1` and `2` indicate abnormality, we will change this feature into a binary variable with value `1` that includes both types of abnormality."
   ]
  },
  {
   "cell_type": "code",
   "execution_count": 24,
   "metadata": {},
   "outputs": [
    {
     "name": "stdout",
     "output_type": "stream",
     "text": [
      "0.0    538\n",
      "2.0    182\n",
      "1.0    177\n",
      "NaN      2\n",
      "Name: rest_ecg, dtype: int64\n"
     ]
    }
   ],
   "source": [
    "print(data['rest_ecg'].value_counts(dropna=False))\n",
    "data['rest_ecg'] = data['rest_ecg'].fillna(0)\n",
    "data.loc[data['rest_ecg']==2, 'rest_ecg'] = 1"
   ]
  },
  {
   "cell_type": "markdown",
   "metadata": {},
   "source": [
    "Variable `exer_hr` looks fairly normally-distributed, so we will impute the missing values with the column mean.\n",
    "\n",
    "Variable `rest_hr` is right-skewed, but we assume this distribution is normal enough for our purposes. We will perform mean-imputation to fill in the missing entries for this column. Additionally, since we have both `rest_hr` and `exer_hr` columns, we can create a new column `diff_hr` that shows the difference in heart rate between rest and exercise."
   ]
  },
  {
   "cell_type": "code",
   "execution_count": 25,
   "metadata": {},
   "outputs": [
    {
     "data": {
      "text/plain": [
       "<matplotlib.axes._subplots.AxesSubplot at 0x125986780>"
      ]
     },
     "execution_count": 25,
     "metadata": {},
     "output_type": "execute_result"
    },
    {
     "data": {
      "image/png": "[encoded data removed]",
      "text/plain": [
       "<matplotlib.figure.Figure at 0x125996da0>"
      ]
     },
     "metadata": {
      "needs_background": "light"
     },
     "output_type": "display_data"
    }
   ],
   "source": [
    "data['exer_hr'].plot.hist()"
   ]
  },
  {
   "cell_type": "code",
   "execution_count": 26,
   "metadata": {},
   "outputs": [],
   "source": [
    "data['exer_hr'] = data['exer_hr'].fillna(data['exer_hr'].mean())"
   ]
  },
  {
   "cell_type": "code",
   "execution_count": 27,
   "metadata": {},
   "outputs": [
    {
     "data": {
      "image/png": "[encoded data removed]",
      "text/plain": [
       "<matplotlib.figure.Figure at 0x125a88048>"
      ]
     },
     "metadata": {
      "needs_background": "light"
     },
     "output_type": "display_data"
    }
   ],
   "source": [
    "data['rest_hr'].plot.hist()\n",
    "data['rest_hr'] = data['rest_hr'].fillna(data['rest_hr'].mean())\n",
    "data['diff_hr'] = data['exer_hr'] - data['rest_hr']"
   ]
  },
  {
   "cell_type": "markdown",
   "metadata": {},
   "source": [
    "There are two similar features `exer_bp1` and `exer_bp2`, which are two repeated measures of the blood pressure during the exercise protocol. These values are well correlated with each other (correlation = 0.42). Therefore, instead of keeping both variables in the dataset, we will take the average value to create a new feature `exer_bp`. After mean-imputation to fill in for missing values, we will drop the previous 2 columns of repeated blood pressure measures.\n",
    "\n",
    "Additionally, since we have both columns `rest_bp` and `exer_bp`, we can create a new column `diff_bp` with the difference in blood pressures between rest and exercise conditions."
   ]
  },
  {
   "cell_type": "code",
   "execution_count": 28,
   "metadata": {},
   "outputs": [
    {
     "name": "stdout",
     "output_type": "stream",
     "text": [
      "[[1.         0.42061912]\n",
      " [0.42061912 1.        ]]\n"
     ]
    },
    {
     "data": {
      "text/plain": [
       "<matplotlib.axes._subplots.AxesSubplot at 0x125d975f8>"
      ]
     },
     "execution_count": 28,
     "metadata": {},
     "output_type": "execute_result"
    },
    {
     "data": {
      "image/png": "[encoded data removed]",
      "text/plain": [
       "<matplotlib.figure.Figure at 0x125cc6c50>"
      ]
     },
     "metadata": {
      "needs_background": "light"
     },
     "output_type": "display_data"
    }
   ],
   "source": [
    "print(np.corrcoef(data.loc[data['exer_bp1'].notnull(), 'exer_bp1'], data.loc[data['exer_bp2'].notnull(), 'exer_bp2']))\n",
    "sns.regplot(x='exer_bp1', y='exer_bp2', data=data)"
   ]
  },
  {
   "cell_type": "code",
   "execution_count": 29,
   "metadata": {},
   "outputs": [],
   "source": [
    "data['exer_bp'] = (data['exer_bp1'] + data['exer_bp2']) / 2\n",
    "data['exer_bp'] = data['exer_bp'].fillna(data['exer_bp'].mean())\n",
    "data.drop(columns=['exer_bp1','exer_bp2'], axis=1, inplace=True)\n",
    "data['diff_bp'] = data['exer_bp'] - data['rest_bp']"
   ]
  },
  {
   "cell_type": "markdown",
   "metadata": {},
   "source": [
    "Variable `exer_angina` only has ~50 missing values, so we can do imputation using the mode `0` to fill in the missing entries."
   ]
  },
  {
   "cell_type": "code",
   "execution_count": 30,
   "metadata": {},
   "outputs": [],
   "source": [
    "data['exer_angina'].value_counts(dropna=False)\n",
    "data['exer_angina'] = data['exer_angina'].fillna(0)"
   ]
  },
  {
   "cell_type": "markdown",
   "metadata": {},
   "source": [
    "Variable `oldpeak` is an ECG measure, indicating the difference in the ST peak between rest and exercise. Negative values mean resting condition has a higher ST peak compared to exercise. Most values are positive, which makes sense because we expect a stronger heart signal during physical workout.\n",
    "\n",
    "The histogram shows that around 350 `oldpeak` entries have a zero value, which means that there is no difference in the heart's signal between rest and exercise. This does not make sense since for most living humans, we would expect the heart to beat in a slightly different way at baseline and during stress. More likely, these zero values are missing values and should be replaced by null.\n",
    "\n",
    "After removing the zero values, the shape of the histogram is fairly normal. Therefore, we will perform mean imputation to fill these null entries."
   ]
  },
  {
   "cell_type": "code",
   "execution_count": 31,
   "metadata": {},
   "outputs": [
    {
     "data": {
      "image/png": "[encoded data removed]",
      "text/plain": [
       "<matplotlib.figure.Figure at 0x125cbff98>"
      ]
     },
     "metadata": {
      "needs_background": "light"
     },
     "output_type": "display_data"
    }
   ],
   "source": [
    "data['oldpeak'].plot.hist(bins=20)\n",
    "data.loc[data['oldpeak']==0, 'oldpeak'] = np.nan\n",
    "data['oldpeak'] = data['oldpeak'].fillna(data['oldpeak'].mean())"
   ]
  },
  {
   "cell_type": "markdown",
   "metadata": {},
   "source": [
    "Variable `exer_slope` indicates the slope of the ST segment in the ECG, with `1` as upsloping, `2` as flat and `3` as downsloping. The one value zero is likely a null value. The 300 null entries are replaced with the mode of the column, which is `2`. \n",
    "\n",
    "Additionally, even though `exer_slope` is a categorical variable which theoretically needs to be dummified, it is more ordinal than nominal. Since a flat slope should be indicated by a value in between upslope and downslope, we have decided to leave these as ordinal variable instead of creating dummies for each of the category of slope."
   ]
  },
  {
   "cell_type": "code",
   "execution_count": 32,
   "metadata": {},
   "outputs": [
    {
     "name": "stdout",
     "output_type": "stream",
     "text": [
      "2.0    334\n",
      "NaN    308\n",
      "1.0    196\n",
      "3.0     60\n",
      "0.0      1\n",
      "Name: exer_slope, dtype: int64\n"
     ]
    }
   ],
   "source": [
    "print(data['exer_slope'].value_counts(dropna=False))\n",
    "data.loc[data['exer_slope']==0, 'exer_slope'] = np.nan\n",
    "data['exer_slope'] = data['exer_slope'].fillna(2)"
   ]
  },
  {
   "cell_type": "markdown",
   "metadata": {},
   "source": [
    "Variable `rest_amp` (height ECG R-wave at rest) only has 474 non-null entries, which is around half of total number of rows. Since we do not believe that imputation of half of the rows can yield robust results. We will drop this column.\n",
    "\n",
    "The histogram of feature `exer_amp` (height of ECG R-wave during exercise). We do not believe that there can be so many subjects with such low R-wave height, so any value < 30 should be replaced with null values. However, since there are almost 500 subjects with very low `exer_amp`, we will end up having to impute for more than half of the cohort. Therefore, we will also drop this column."
   ]
  },
  {
   "cell_type": "code",
   "execution_count": 33,
   "metadata": {},
   "outputs": [
    {
     "data": {
      "text/plain": [
       "<matplotlib.axes._subplots.AxesSubplot at 0x125dd15f8>"
      ]
     },
     "execution_count": 33,
     "metadata": {},
     "output_type": "execute_result"
    },
    {
     "data": {
      "image/png": "[encoded data removed]",
      "text/plain": [
       "<matplotlib.figure.Figure at 0x12600b5f8>"
      ]
     },
     "metadata": {
      "needs_background": "light"
     },
     "output_type": "display_data"
    }
   ],
   "source": [
    "data['exer_amp'].plot.hist()"
   ]
  },
  {
   "cell_type": "code",
   "execution_count": 34,
   "metadata": {},
   "outputs": [],
   "source": [
    "data.drop(columns=['exer_amp', 'rest_amp'], axis=1, inplace=True)"
   ]
  },
  {
   "cell_type": "markdown",
   "metadata": {},
   "source": [
    "The features `exer_protocol` and `exer_dur` are more complicated than the rest of the columns. Each patient is prescribed an exercise protocol:\n",
    "`1` = Bruce; `2` = Kottus; `3` = McHenry; `4` = fast Balke; `5` = Balke; `6` = Noughton; \n",
    "`7` = bike 150 kpa min/min; `8` = bike 125 kpa min/min; `9` = bike 100 kpa min/min;\n",
    "`10` = bike 75 kpa min/min; `11` = bike 50 kpa min/min; `12` = arm ergometer\n",
    "\n",
    "Even without knowing what some of the named protocols entail, we can already see that there are intensity differences between them, such as between the biking protocols of 50 kpa/min and 150 kpa/min. For the protocols that specify numerical intensity values, we can create an ordinal variable to represent them. However, for protocols such as `Bruce` or `Kottus` treadmill protocol, it is difficult to grade which is more intense.\n",
    "\n",
    "Additionally, we also see that the `exer_dur` feature varies with the protocol. In a biking exercise, higher intensity usually takes longer to perform, whereas treadmill exercises take around the same amount of time to complete. Additionally, we see that heart rate is similar between treadmill protocols but is proportional to the intensity of biking protocols. Afterward, we will drop both `exer_protocol` and `exer_dur` columns in the final dataset."
   ]
  },
  {
   "cell_type": "code",
   "execution_count": 35,
   "metadata": {},
   "outputs": [
    {
     "data": {
      "text/plain": [
       "<matplotlib.axes._subplots.AxesSubplot at 0x125ed30f0>"
      ]
     },
     "execution_count": 35,
     "metadata": {},
     "output_type": "execute_result"
    },
    {
     "data": {
      "image/png": "[encoded data removed]",
      "text/plain": [
       "<matplotlib.figure.Figure at 0x12600ba20>"
      ]
     },
     "metadata": {
      "needs_background": "light"
     },
     "output_type": "display_data"
    }
   ],
   "source": [
    "sns.countplot(x='exer_protocol', data=data)"
   ]
  },
  {
   "cell_type": "code",
   "execution_count": 36,
   "metadata": {},
   "outputs": [
    {
     "data": {
      "text/plain": [
       "<matplotlib.axes._subplots.AxesSubplot at 0x125edda20>"
      ]
     },
     "execution_count": 36,
     "metadata": {},
     "output_type": "execute_result"
    },
    {
     "data": {
      "image/png": "[encoded data removed]",
      "text/plain": [
       "<matplotlib.figure.Figure at 0x1261369e8>"
      ]
     },
     "metadata": {
      "needs_background": "light"
     },
     "output_type": "display_data"
    }
   ],
   "source": [
    "sns.barplot(x='exer_protocol',y='exer_dur',data=data)"
   ]
  },
  {
   "cell_type": "code",
   "execution_count": 37,
   "metadata": {},
   "outputs": [
    {
     "data": {
      "text/plain": [
       "<matplotlib.axes._subplots.AxesSubplot at 0x125f1a8d0>"
      ]
     },
     "execution_count": 37,
     "metadata": {},
     "output_type": "execute_result"
    },
    {
     "data": {
      "image/png": "[encoded data removed]",
      "text/plain": [
       "<matplotlib.figure.Figure at 0x125ce47b8>"
      ]
     },
     "metadata": {
      "needs_background": "light"
     },
     "output_type": "display_data"
    }
   ],
   "source": [
    "sns.barplot(x='exer_protocol',y='exer_hr',data=data)"
   ]
  },
  {
   "cell_type": "markdown",
   "metadata": {},
   "source": [
    "After considering the relationship between these different features, we will:\n",
    "* Create a new binary variable `protocol_type`, `0` for treadmill workout and `1` for biking workout\n",
    "* Create a continuous variable `protocol_intensity`, which stores the intensity values for biking protocol and has value `0` for treadmill"
   ]
  },
  {
   "cell_type": "code",
   "execution_count": 38,
   "metadata": {},
   "outputs": [],
   "source": [
    "data['protocol_type'] = 0\n",
    "data.loc[data['exer_protocol']>12, 'protocol_type'] = 1 # cutoff 12 based on documentation/histogram\n",
    "data['protocol_intensity'] = 0\n",
    "data.loc[data['protocol_type']==1, 'protocol_intensity'] = data['exer_protocol']\n",
    "data.drop(columns=['exer_protocol', 'exer_dur'], axis=1, inplace=True)"
   ]
  },
  {
   "cell_type": "markdown",
   "metadata": {},
   "source": [
    "Variable `chest_pain` is a categorical variable, with values from 1 to 4:\n",
    "`1` is a typical angina; `2` is atypical angina; `3` is non-angina pain; `4` is asymptomatic. In this study of heart disease, we only care whether the chest pain originates from an angina or not, so we will create a new binary variable `chest_pain_angina` in which `1` includes typical and atypical angina and `0` includes asymptomatic and non-angina pain."
   ]
  },
  {
   "cell_type": "code",
   "execution_count": 39,
   "metadata": {},
   "outputs": [],
   "source": [
    "data['chest_pain_angina'] = 0\n",
    "data.loc[data['chest_pain']<3, 'chest_pain_angina'] = 1\n",
    "data.drop(columns=['chest_pain'], axis=1, inplace=True)"
   ]
  },
  {
   "cell_type": "markdown",
   "metadata": {},
   "source": [
    "Lastly, we will drop `center_id` from the dataset and move our predicted variable `diameter_narrowing` to the beginning to simplify the data exploration and data analysis process."
   ]
  },
  {
   "cell_type": "code",
   "execution_count": 40,
   "metadata": {},
   "outputs": [],
   "source": [
    "data.drop(columns=['center_id'], axis=1, inplace=True)"
   ]
  },
  {
   "cell_type": "code",
   "execution_count": 41,
   "metadata": {},
   "outputs": [
    {
     "data": {
      "text/plain": [
       "array([12.,  1.,  2.,  3.,  4.,  5.,  6.,  7.,  8.,  9., 10., 11.,  0.,\n",
       "       13., 14., 15., 16., 17., 18.])"
      ]
     },
     "execution_count": 41,
     "metadata": {},
     "output_type": "execute_result"
    }
   ],
   "source": [
    "cols_order = np.linspace(0, len(data.columns)-1, len(data.columns))\n",
    "cols_order[12] = 0\n",
    "cols_order[0] = 12\n",
    "data = data.iloc[:, cols_order]\n",
    "cols_order"
   ]
  },
  {
   "cell_type": "markdown",
   "metadata": {},
   "source": [
    "# Data exploration"
   ]
  },
  {
   "cell_type": "code",
   "execution_count": 42,
   "metadata": {},
   "outputs": [],
   "source": [
    "y_label = 'diameter_narrowing'\n",
    "x_label = data.iloc[:,1:].columns\n",
    "x_label_cont = ['age', 'rest_bp', 'cholesterol', 'exer_hr', 'rest_hr', \n",
    "                'diff_hr', 'exer_bp', 'diff_bp', 'oldpeak','protocol_intensity']\n",
    "x_label_cat = [label for label in x_label if label not in x_label_cont]"
   ]
  },
  {
   "cell_type": "markdown",
   "metadata": {},
   "source": [
    "Let's explore the data before we perform any modeling. In continuous variables, we consider whether these variables are different in patients with heart disease and without heart disease. \n",
    "\n",
    "All variables show statistical significance between the two subgroups; therefore, we will not exclude any feature at this point. The less significant variables include `cholesterol`, `rest_bp` and `exer_bp`. Surprisingly, even though baseline blood pressures are not as good indicators of arterial narrowing, the difference `diff_bp` between rest and workout are different between patients and controls.\n",
    "\n",
    "The variable `protocol_intensity` shows that most subjects with value `0` (treadmill protocol) more likely do have heart disease, whereas value `1` in subjects that perform the biking protocol likely do not have heart disease. Since this is a derived variable, we need to keep an eye on this variable during the data analysis portion to see if it provides any additional benefit to the classification models."
   ]
  },
  {
   "cell_type": "code",
   "execution_count": 43,
   "metadata": {},
   "outputs": [
    {
     "name": "stdout",
     "output_type": "stream",
     "text": [
      "age with and without heart disease has p-value \t4.405509586541005e-17\n",
      "rest_bp with and without heart disease has p-value \t0.0008820006807615492\n",
      "cholesterol with and without heart disease has p-value \t0.0005727567725937645\n",
      "exer_hr with and without heart disease has p-value \t1.9366784805385024e-32\n",
      "rest_hr with and without heart disease has p-value \t4.6535495080039695e-10\n",
      "diff_hr with and without heart disease has p-value \t3.912223226737974e-18\n",
      "exer_bp with and without heart disease has p-value \t0.012757234109778429\n",
      "diff_bp with and without heart disease has p-value \t5.068285957035123e-08\n",
      "oldpeak with and without heart disease has p-value \t2.9301055765259298e-08\n",
      "protocol_intensity with and without heart disease has p-value \t1.1783236197844304e-16\n"
     ]
    },
    {
     "data": {
      "image/png": "[encoded data removed]",
      "text/plain": [
       "<matplotlib.figure.Figure at 0x125854b70>"
      ]
     },
     "metadata": {
      "needs_background": "light"
     },
     "output_type": "display_data"
    }
   ],
   "source": [
    "fig, ax = plt.subplots(figsize=(30,20))\n",
    "for i in range(0, len(x_label_cont)):\n",
    "    plt.subplot(2,5,i+1)\n",
    "    sns.boxplot(x=y_label, y=x_label_cont[i], data=data, width=0.5)\n",
    "    y_1 = data[data[y_label]>0][x_label_cont[i]]\n",
    "    y_0 = data[data[y_label]<1][x_label_cont[i]]\n",
    "    ttest = sp.stats.ttest_ind(y_1, y_0, equal_var=False)\n",
    "    pvalue = ttest.pvalue\n",
    "    print('{} with and without heart disease has p-value \\t{}'.format(x_label_cont[i], pvalue))"
   ]
  },
  {
   "cell_type": "markdown",
   "metadata": {},
   "source": [
    "For categorical variables, we will look at the contingency tables for each feature using `pd.crosstab` function. Similar to above, most categorical variables show statistical significance difference between subjects without and without diameter narrowing. For example, the `sex` parameter: females (`sex`=0) more likely do not have heart disease, whereas males (`sex`=1) show narrowing of the vascular arteries. This correspond this our general knowledge in which males are more at risk of cardiovascular dysfunction and tend to have a shorter lifespan compared to their female counterpart.\n",
    "\n",
    "The least significant variable is `rest_ecg` (abnormal ECG at rest), in which the abnormal ECG and the normal ECG subgroups are both more likely to have heart disease. The variable `protocol_type` shows that subject with treadmill protocol (`0`) are more likely to have heart disease, thus confirming our previous observation in the continuous variable `protocol_intensity`."
   ]
  },
  {
   "cell_type": "code",
   "execution_count": 44,
   "metadata": {},
   "outputs": [
    {
     "name": "stdout",
     "output_type": "stream",
     "text": [
      "sex with and without heart disease has p-value \t1.1248904361445055e-21\n",
      "exer_pain with and without heart disease has p-value \t2.778640368235245e-51\n",
      "relieved_rest with and without heart disease has p-value \t6.244015544596525e-34\n",
      "rest_ecg with and without heart disease has p-value \t0.009941151779457388\n",
      "exer_angina with and without heart disease has p-value \t4.036213815001233e-38\n",
      "exer_slope with and without heart disease has p-value \t1.4001833378431805e-08\n",
      "protocol_type with and without heart disease has p-value \t1.3915877851082008e-15\n",
      "chest_pain_angina with and without heart disease has p-value \t9.59717093722444e-32\n"
     ]
    },
    {
     "data": {
      "image/png": "[encoded data removed]",
      "text/plain": [
       "<matplotlib.figure.Figure at 0x12676aac8>"
      ]
     },
     "metadata": {
      "needs_background": "light"
     },
     "output_type": "display_data"
    }
   ],
   "source": [
    "fig, ax = plt.subplots(figsize=(30,20))\n",
    "for i in range(0, len(x_label_cat)):\n",
    "    plt.subplot(2,4,i+1)\n",
    "    sns.countplot(x=x_label_cat[i],hue=y_label,data=data)\n",
    "    # chi-squared test with contingency table\n",
    "    chi2test = sp.stats.chi2_contingency(pd.crosstab(data[y_label], data[x_label_cat[i]])) \n",
    "    pvalue = chi2test[1]\n",
    "    print('{} with and without heart disease has p-value \\t{}'.format(x_label_cat[i], pvalue))"
   ]
  },
  {
   "cell_type": "markdown",
   "metadata": {},
   "source": [
    "# Data analysis\n",
    "\n",
    "For data analysis, we will split our dataset into the train and test set (testing portion = 20%). We will also rescale all predictors and specify the 4 evaluation metrics: *accuracy*, *recall* (or sensitivity, true positive rate), *precision*, and *F1 score*."
   ]
  },
  {
   "cell_type": "code",
   "execution_count": 45,
   "metadata": {},
   "outputs": [],
   "source": [
    "x_data = data[x_label]\n",
    "y_data = data[y_label]\n",
    "x_train, x_test, y_train, y_test = model_selection.train_test_split(x_data, y_data, test_size=0.2, random_state=0)"
   ]
  },
  {
   "cell_type": "code",
   "execution_count": 46,
   "metadata": {},
   "outputs": [],
   "source": [
    "scaler = preprocessing.StandardScaler()\n",
    "scaler.fit(x_train)\n",
    "x_train = scaler.transform(x_train)\n",
    "x_test = scaler.transform(x_test)"
   ]
  },
  {
   "cell_type": "code",
   "execution_count": 47,
   "metadata": {},
   "outputs": [],
   "source": [
    "# evaluation metrics\n",
    "def evaluate_model(model, x_test, y_test):\n",
    "    y_predict = model.predict(x_test)\n",
    "    accuracy = metrics.accuracy_score(y_test, y_predict)\n",
    "    confusion = metrics.confusion_matrix(y_test, y_predict)\n",
    "    TN, FP, FN, TP = confusion.ravel()\n",
    "    sensitivity = TP / (TP+FN)\n",
    "    specificity = TN / (TN+FP)\n",
    "    recall = sensitivity\n",
    "    precision = TP / (TP+FP)\n",
    "    f1_score = 2*(sensitivity*precision)/(sensitivity+precision)\n",
    "    return [accuracy, recall, precision, f1_score]"
   ]
  },
  {
   "cell_type": "markdown",
   "metadata": {},
   "source": [
    "For this dataset, we will try 4 out-of-the-box classifiers:\n",
    "1. Logistic Regression\n",
    "2. K-Nearest Neighbors\n",
    "3. Support Vector Machine\n",
    "4. Random Forest"
   ]
  },
  {
   "cell_type": "markdown",
   "metadata": {},
   "source": [
    "**Logistic Regression**"
   ]
  },
  {
   "cell_type": "code",
   "execution_count": 48,
   "metadata": {},
   "outputs": [
    {
     "data": {
      "text/plain": [
       "[0.7944444444444444, 0.7857142857142857, 0.8279569892473119, 0.806282722513089]"
      ]
     },
     "execution_count": 48,
     "metadata": {},
     "output_type": "execute_result"
    }
   ],
   "source": [
    "logistic = linear_model.LogisticRegression() # out-of-the-box\n",
    "logistic.fit(x_train, y_train)\n",
    "evaluate_model(logistic, x_test, y_test)"
   ]
  },
  {
   "cell_type": "markdown",
   "metadata": {},
   "source": [
    "**K-Nearest Neighbors**"
   ]
  },
  {
   "cell_type": "code",
   "execution_count": 49,
   "metadata": {},
   "outputs": [
    {
     "data": {
      "text/plain": [
       "[0.7777777777777778, 0.8061224489795918, 0.79, 0.7979797979797979]"
      ]
     },
     "execution_count": 49,
     "metadata": {},
     "output_type": "execute_result"
    }
   ],
   "source": [
    "knn = neighbors.KNeighborsClassifier() # out-of-the-box\n",
    "knn.fit(x_train, y_train)\n",
    "evaluate_model(knn, x_test, y_test)"
   ]
  },
  {
   "cell_type": "markdown",
   "metadata": {},
   "source": [
    "**Support Vector Machine**"
   ]
  },
  {
   "cell_type": "code",
   "execution_count": 50,
   "metadata": {},
   "outputs": [
    {
     "data": {
      "text/plain": [
       "[0.7777777777777778, 0.8061224489795918, 0.79, 0.7979797979797979]"
      ]
     },
     "execution_count": 50,
     "metadata": {},
     "output_type": "execute_result"
    }
   ],
   "source": [
    "svc = svm.SVC() # out-of-the-box\n",
    "svc.fit(x_train, y_train)\n",
    "evaluate_model(svc, x_test, y_test)"
   ]
  },
  {
   "cell_type": "markdown",
   "metadata": {},
   "source": [
    "**Random Forest**"
   ]
  },
  {
   "cell_type": "code",
   "execution_count": 51,
   "metadata": {},
   "outputs": [
    {
     "data": {
      "text/plain": [
       "[0.8055555555555556,\n",
       " 0.8163265306122449,\n",
       " 0.8247422680412371,\n",
       " 0.8205128205128205]"
      ]
     },
     "execution_count": 51,
     "metadata": {},
     "output_type": "execute_result"
    }
   ],
   "source": [
    "forest = ensemble.RandomForestClassifier() # out-of-the-box\n",
    "forest.fit(x_train, y_train)\n",
    "evaluate_model(forest, x_test, y_test)"
   ]
  },
  {
   "cell_type": "markdown",
   "metadata": {},
   "source": [
    "It looks like all models perform very similar, most likely due to the set of features we have chosen. We can look at the `feature_importances_` in the Random Forest model in order to eliminate some unnecessary features."
   ]
  },
  {
   "cell_type": "code",
   "execution_count": 52,
   "metadata": {},
   "outputs": [
    {
     "data": {
      "text/plain": [
       "{'sex': 0.025018268077952998,\n",
       " 'exer_pain': 0.10647171669842281,\n",
       " 'relieved_rest': 0.038149979663106987,\n",
       " 'rest_bp': 0.04934356421809597,\n",
       " 'cholesterol': 0.07705171485876751,\n",
       " 'rest_ecg': 0.015119940437368648,\n",
       " 'exer_hr': 0.09835318747069458,\n",
       " 'rest_hr': 0.05823880774866926,\n",
       " 'exer_angina': 0.08243877791329589,\n",
       " 'oldpeak': 0.05919399569870567,\n",
       " 'exer_slope': 0.016154733850805056,\n",
       " 'age': 0.07361987397916808,\n",
       " 'diff_hr': 0.08279996467812299,\n",
       " 'exer_bp': 0.05100278368125804,\n",
       " 'diff_bp': 0.05832701991030197,\n",
       " 'protocol_type': 0.02994152122189536,\n",
       " 'protocol_intensity': 0.03322438298474176,\n",
       " 'chest_pain_angina': 0.045549766908626554}"
      ]
     },
     "execution_count": 52,
     "metadata": {},
     "output_type": "execute_result"
    }
   ],
   "source": [
    "feature_importance_dict = dict(zip(x_label, forest.feature_importances_))\n",
    "feature_importance_dict"
   ]
  },
  {
   "cell_type": "code",
   "execution_count": 53,
   "metadata": {},
   "outputs": [
    {
     "data": {
      "text/plain": [
       "(array([2., 0., 1., 2., 0., 1., 1., 2., 0., 3., 0., 0., 1., 1., 2., 0., 0.,\n",
       "        0., 1., 1.]),\n",
       " array([0.01511994, 0.01968753, 0.02425512, 0.02882271, 0.0333903 ,\n",
       "        0.03795788, 0.04252547, 0.04709306, 0.05166065, 0.05622824,\n",
       "        0.06079583, 0.06536342, 0.06993101, 0.0744986 , 0.07906618,\n",
       "        0.08363377, 0.08820136, 0.09276895, 0.09733654, 0.10190413,\n",
       "        0.10647172]),\n",
       " <a list of 20 Patch objects>)"
      ]
     },
     "execution_count": 53,
     "metadata": {},
     "output_type": "execute_result"
    },
    {
     "data": {
      "image/png": "[encoded data removed]",
      "text/plain": [
       "<matplotlib.figure.Figure at 0x1265a50f0>"
      ]
     },
     "metadata": {
      "needs_background": "light"
     },
     "output_type": "display_data"
    }
   ],
   "source": [
    "plt.hist(list(feature_importance_dict.values()), bins=20)"
   ]
  },
  {
   "cell_type": "markdown",
   "metadata": {},
   "source": [
    "Based on the histogram, if we choose a cutoff at 0.04 importance, we see that there are 6 features that contribute the least to the classification. As predicted from our data exploration, `rest_ecg` is not a salient feature. Additionally, both `protocol_type` and `protocol_intensity` do not predict heart disease. This confirms that doctors do not prescribe the protocol based on the observed patient's health, but more likely each doctor has a *favorite* exercise protocol they usually perform.\n",
    "\n",
    "Let's try to exclude these features and then perform the out-of-the-box classifications again using the four classifiers."
   ]
  },
  {
   "cell_type": "code",
   "execution_count": 54,
   "metadata": {},
   "outputs": [
    {
     "data": {
      "text/plain": [
       "['sex',\n",
       " 'relieved_rest',\n",
       " 'rest_ecg',\n",
       " 'exer_slope',\n",
       " 'protocol_type',\n",
       " 'protocol_intensity']"
      ]
     },
     "execution_count": 54,
     "metadata": {},
     "output_type": "execute_result"
    }
   ],
   "source": [
    "[col for col in feature_importance_dict.keys() if feature_importance_dict[col] <= 0.04]"
   ]
  },
  {
   "cell_type": "code",
   "execution_count": 55,
   "metadata": {},
   "outputs": [],
   "source": [
    "x_label_subset = [col for col in feature_importance_dict.keys() if feature_importance_dict[col] > 0.04]\n",
    "x_label_subset_idx = [i for i in range(len(x_label)) if x_label[i] in x_label_subset]\n",
    "x_train_subset = x_train[:, x_label_subset_idx]\n",
    "x_test_subset = x_test[:, x_label_subset_idx]"
   ]
  },
  {
   "cell_type": "code",
   "execution_count": 56,
   "metadata": {},
   "outputs": [
    {
     "name": "stdout",
     "output_type": "stream",
     "text": [
      "[0.7666666666666667, 0.7551020408163265, 0.8043478260869565, 0.7789473684210526]\n",
      "[0.7555555555555555, 0.7653061224489796, 0.78125, 0.7731958762886597]\n",
      "[0.7777777777777778, 0.7755102040816326, 0.8085106382978723, 0.7916666666666665]\n",
      "[0.8, 0.7959183673469388, 0.8297872340425532, 0.8125]\n"
     ]
    }
   ],
   "source": [
    "def out_of_the_box(x_train_subset, x_test_subset):\n",
    "    logistic = linear_model.LogisticRegression(random_state=0) # out-of-the-box\n",
    "    logistic.fit(x_train_subset, y_train)\n",
    "    print(evaluate_model(logistic, x_test_subset, y_test))\n",
    "    \n",
    "    knn = neighbors.KNeighborsClassifier() # out-of-the-box\n",
    "    knn.fit(x_train_subset, y_train)\n",
    "    print(evaluate_model(knn, x_test_subset, y_test))\n",
    "    \n",
    "    svc = svm.SVC(random_state=0) # out-of-the-box\n",
    "    svc.fit(x_train_subset, y_train)\n",
    "    print(evaluate_model(svc, x_test_subset, y_test))\n",
    "    \n",
    "    forest = ensemble.RandomForestClassifier(random_state=0) # out-of-the-box\n",
    "    forest.fit(x_train_subset, y_train)\n",
    "    print(evaluate_model(forest, x_test_subset, y_test))\n",
    "out_of_the_box(x_train_subset, x_test_subset)"
   ]
  },
  {
   "cell_type": "markdown",
   "metadata": {},
   "source": [
    "It looks like Random Forest Classifier has improved significantly after better feature selection. Using this subset of features, we now try to optimize these 4 classifiers by tuning hyperparameters with cross-validation to see if we can attain even better performance. "
   ]
  },
  {
   "cell_type": "markdown",
   "metadata": {},
   "source": [
    "**Model tuning: Logistic Regression**"
   ]
  },
  {
   "cell_type": "code",
   "execution_count": 57,
   "metadata": {},
   "outputs": [
    {
     "data": {
      "text/plain": [
       "[0.7611111111111111,\n",
       " 0.7142857142857143,\n",
       " 0.8235294117647058,\n",
       " 0.7650273224043717]"
      ]
     },
     "execution_count": 57,
     "metadata": {},
     "output_type": "execute_result"
    }
   ],
   "source": [
    "solver_values = ['newton-cg', 'lbfgs', 'liblinear']\n",
    "C_values = [1e-4, 1e-3, 1e-2, 1e-1, 1] # regularization coefficient\n",
    "param_grid = {'solver': solver_values, 'C': C_values}\n",
    "logistic = linear_model.LogisticRegression(class_weight='balanced', random_state=0)\n",
    "logistic_cv = model_selection.GridSearchCV(logistic, param_grid, cv=10)\n",
    "logistic_cv.fit(x_train_subset, y_train)\n",
    "evaluate_model(logistic_cv, x_test_subset, y_test)"
   ]
  },
  {
   "cell_type": "markdown",
   "metadata": {},
   "source": [
    "**Model tuning: K-Nearest Neighbors**"
   ]
  },
  {
   "cell_type": "code",
   "execution_count": 58,
   "metadata": {},
   "outputs": [
    {
     "data": {
      "text/plain": [
       "[0.7611111111111111,\n",
       " 0.7755102040816326,\n",
       " 0.7835051546391752,\n",
       " 0.7794871794871796]"
      ]
     },
     "execution_count": 58,
     "metadata": {},
     "output_type": "execute_result"
    }
   ],
   "source": [
    "n_neighbors_values = np.linspace(1,20,20).astype(int)\n",
    "param_grid = {'n_neighbors': n_neighbors_values}\n",
    "knn = neighbors.KNeighborsClassifier()\n",
    "knn_cv = model_selection.GridSearchCV(knn, param_grid, cv=10)\n",
    "knn_cv.fit(x_train_subset, y_train)\n",
    "evaluate_model(knn_cv, x_test_subset, y_test)"
   ]
  },
  {
   "cell_type": "markdown",
   "metadata": {},
   "source": [
    "**Model tuning: SVM**"
   ]
  },
  {
   "cell_type": "code",
   "execution_count": 59,
   "metadata": {},
   "outputs": [
    {
     "data": {
      "text/plain": [
       "[0.7777777777777778,\n",
       " 0.7755102040816326,\n",
       " 0.8085106382978723,\n",
       " 0.7916666666666665]"
      ]
     },
     "execution_count": 59,
     "metadata": {},
     "output_type": "execute_result"
    }
   ],
   "source": [
    "C_values = [0.1, 1, 10, 100]\n",
    "kernel_values = ['rbf', 'poly', 'sigmoid']\n",
    "param_grid = {'C': C_values, 'kernel': kernel_values}\n",
    "svc = svm.SVC(random_state=0)\n",
    "svc_cv = model_selection.GridSearchCV(svc, param_grid, cv=10)\n",
    "svc_cv.fit(x_train_subset, y_train)\n",
    "evaluate_model(svc_cv, x_test_subset, y_test)"
   ]
  },
  {
   "cell_type": "markdown",
   "metadata": {},
   "source": [
    "**Model tuning: Random Forest**"
   ]
  },
  {
   "cell_type": "code",
   "execution_count": 60,
   "metadata": {},
   "outputs": [
    {
     "data": {
      "text/plain": [
       "[0.7888888888888889,\n",
       " 0.7857142857142857,\n",
       " 0.8191489361702128,\n",
       " 0.8020833333333333]"
      ]
     },
     "execution_count": 60,
     "metadata": {},
     "output_type": "execute_result"
    }
   ],
   "source": [
    "max_depth_values = [4,8,12]\n",
    "n_estimators_values = [200, 300, 400]\n",
    "criterion_values = ['gini', 'entropy']\n",
    "param_grid = {'max_depth': max_depth_values, 'n_estimators': n_estimators_values, 'criterion': criterion_values}\n",
    "forest = ensemble.RandomForestClassifier(random_state=0)\n",
    "forest_cv = model_selection.GridSearchCV(forest, param_grid, cv=10)\n",
    "forest_cv.fit(x_train_subset, y_train)\n",
    "evaluate_model(forest_cv, x_test_subset, y_test)"
   ]
  },
  {
   "cell_type": "code",
   "execution_count": 61,
   "metadata": {},
   "outputs": [
    {
     "data": {
      "text/plain": [
       "[0.9374130737134909, 0.947103274559194, 0.94, 0.9435382685069009]"
      ]
     },
     "execution_count": 61,
     "metadata": {},
     "output_type": "execute_result"
    }
   ],
   "source": [
    "evaluate_model(forest_cv, x_train_subset, y_train)"
   ]
  },
  {
   "cell_type": "markdown",
   "metadata": {},
   "source": [
    "Overall, we see that no matter how much we tune the hyperparameters, all classifiers are performing almost equally well, with both `accuracy` and `f1_score` around 80%. At this point, since we are unable to improve these evaluation metrics with tuning, we will stop here. Tuning tends to improve overfitting, but if we look at the metrics for the training set, we see that the `accuracy` and `f1_score` is ~94%, which is higher than the testing metrics but within the expected range. Therefore, we can assume that we are not overfitting much, but rather the choice of features that influence our results.\n",
    "\n",
    "If we wish to improve this classification model further, our options include improved feature selection, maybe with recursive feature elimination or delving into the science of cardiovascular health to understand which features we would expect to be a biomarker for vascular narrowing. Additional domain knowledge can give us a better idea if we need to derive more meaningful features. As we have seen with `rest_hr` and `exer_hr`, these absolute values do not contribute much to the classification results; however, by evaluating the difference in heart rate between rest and exercise states, our `diff_hr` is one of the more important features in classification.\n",
    "\n",
    "Other projects that use this dataset usually only include the dataset from Cleveland Clinic. However, in this work, we wish to include data from the 3 additional centers, Switzerland, Hungary and Long Beach. These datasets are less clean with more missing parameters; with more parameter imputation in these datasets, we are more prone the errors. Additionally, as we have stated, the type of protocol `protocol_type` and subsequently `protocol_intensity` do not have a significant impact on the classification, suggesting that the choice of protocol is more dependent on which doctor you have. It is more likely that the choice of protocol is dependent on which center/institution you go to, since doctors in the same hospital tend to perform the same test to synchronize the procedure. Therefore, the heterogeneity of our data could negatively impact the classification: the data is noisy and heterogenous from 4 institutions but not heterogenous enough to even out the biases that originate from a multi-center study."
   ]
  }
 ],
 "metadata": {
  "kernelspec": {
   "display_name": "Python 3",
   "language": "python",
   "name": "python3"
  },
  "language_info": {
   "codemirror_mode": {
    "name": "ipython",
    "version": 3
   },
   "file_extension": ".py",
   "mimetype": "text/x-python",
   "name": "python",
   "nbconvert_exporter": "python",
   "pygments_lexer": "ipython3",
   "version": "3.6.1"
  }
 },
 "nbformat": 4,
 "nbformat_minor": 4
}
