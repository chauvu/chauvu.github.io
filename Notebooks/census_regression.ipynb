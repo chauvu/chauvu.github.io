{
 "cells": [
  {
   "cell_type": "markdown",
   "metadata": {},
   "source": [
    "# Census and Behavioral Risk Factor regression analysis\n",
    "\n",
    "Following the preprocessing and merging of the 9 Census and BRFSS datasets in `census_data_cleaning.ipynb`, I will now perform analysis on the datasets. I wish to perform regression analysis to predict the **rate of poverty** in each county. \n",
    "\n",
    "The regression is performed in 2 datasets:\n",
    "1. The larger census dataset, without BRFSS\n",
    "2. The shortened dataset, including census and BRFSS data"
   ]
  },
  {
   "cell_type": "code",
   "execution_count": 1,
   "metadata": {},
   "outputs": [],
   "source": [
    "import numpy as np\n",
    "import scipy as sp\n",
    "import pandas as pd\n",
    "from sklearn import linear_model\n",
    "from sklearn import svm\n",
    "from sklearn import tree\n",
    "from sklearn import ensemble\n",
    "from sklearn import model_selection\n",
    "from sklearn import metrics\n",
    "from sklearn import preprocessing\n",
    "import seaborn as sns\n",
    "import matplotlib.pyplot as plt"
   ]
  },
  {
   "cell_type": "code",
   "execution_count": 2,
   "metadata": {},
   "outputs": [],
   "source": [
    "data_census = pd.read_pickle('../Data/census/data_census.pkl')\n",
    "data_brfss = pd.read_pickle('../Data/census/data_brfss.pkl')"
   ]
  },
  {
   "cell_type": "markdown",
   "metadata": {},
   "source": [
    "# Data cleaning on `data_census`"
   ]
  },
  {
   "cell_type": "code",
   "execution_count": 3,
   "metadata": {},
   "outputs": [
    {
     "data": {
      "text/html": [
       "<div>\n",
       "<style scoped>\n",
       "    .dataframe tbody tr th:only-of-type {\n",
       "        vertical-align: middle;\n",
       "    }\n",
       "\n",
       "    .dataframe tbody tr th {\n",
       "        vertical-align: top;\n",
       "    }\n",
       "\n",
       "    .dataframe thead th {\n",
       "        text-align: right;\n",
       "    }\n",
       "</style>\n",
       "<table border=\"1\" class=\"dataframe\">\n",
       "  <thead>\n",
       "    <tr style=\"text-align: right;\">\n",
       "      <th></th>\n",
       "      <th>FIPS</th>\n",
       "      <th>State</th>\n",
       "      <th>County_Name</th>\n",
       "      <th>CENSUS_2010_POP</th>\n",
       "      <th>FIPS_int</th>\n",
       "      <th>AVE_POP_CHG</th>\n",
       "      <th>AVE_BIRTHS</th>\n",
       "      <th>AVE_DEATHS</th>\n",
       "      <th>AVE_INTERNATIONAL_MIG</th>\n",
       "      <th>AVE_DOMESTIC_MIG</th>\n",
       "      <th>...</th>\n",
       "      <th>Associate</th>\n",
       "      <th>Bachelor_GT</th>\n",
       "      <th>Percent_LT_HighSchool</th>\n",
       "      <th>Percent_HighSchool</th>\n",
       "      <th>Percent_Associate</th>\n",
       "      <th>Percent_Bachelor_GT</th>\n",
       "      <th>Heart_mortality_rate</th>\n",
       "      <th>Stroke_mortality_rate</th>\n",
       "      <th>AVE_BIRTH_RATE</th>\n",
       "      <th>Percent_High_Speed</th>\n",
       "    </tr>\n",
       "  </thead>\n",
       "  <tbody>\n",
       "    <tr>\n",
       "      <th>0</th>\n",
       "      <td>01001</td>\n",
       "      <td>AL</td>\n",
       "      <td>Autauga County</td>\n",
       "      <td>54571</td>\n",
       "      <td>1001</td>\n",
       "      <td>105.875</td>\n",
       "      <td>637.000</td>\n",
       "      <td>550.500</td>\n",
       "      <td>4.000</td>\n",
       "      <td>16.875</td>\n",
       "      <td>...</td>\n",
       "      <td>10552.0</td>\n",
       "      <td>10291.0</td>\n",
       "      <td>11.3</td>\n",
       "      <td>32.6</td>\n",
       "      <td>28.4</td>\n",
       "      <td>27.7</td>\n",
       "      <td>425.0</td>\n",
       "      <td>96.5</td>\n",
       "      <td>34.31875</td>\n",
       "      <td>0.75</td>\n",
       "    </tr>\n",
       "    <tr>\n",
       "      <th>1</th>\n",
       "      <td>01003</td>\n",
       "      <td>AL</td>\n",
       "      <td>Baldwin County</td>\n",
       "      <td>182265</td>\n",
       "      <td>1003</td>\n",
       "      <td>4363.875</td>\n",
       "      <td>2218.875</td>\n",
       "      <td>2006.750</td>\n",
       "      <td>170.500</td>\n",
       "      <td>3934.375</td>\n",
       "      <td>...</td>\n",
       "      <td>46025.0</td>\n",
       "      <td>46075.0</td>\n",
       "      <td>9.7</td>\n",
       "      <td>27.6</td>\n",
       "      <td>31.3</td>\n",
       "      <td>31.3</td>\n",
       "      <td>383.5</td>\n",
       "      <td>83.5</td>\n",
       "      <td>38.39375</td>\n",
       "      <td>0.92</td>\n",
       "    </tr>\n",
       "    <tr>\n",
       "      <th>2</th>\n",
       "      <td>01005</td>\n",
       "      <td>AL</td>\n",
       "      <td>Barbour County</td>\n",
       "      <td>27457</td>\n",
       "      <td>1005</td>\n",
       "      <td>-306.125</td>\n",
       "      <td>282.875</td>\n",
       "      <td>306.375</td>\n",
       "      <td>4.750</td>\n",
       "      <td>-288.750</td>\n",
       "      <td>...</td>\n",
       "      <td>4566.0</td>\n",
       "      <td>2220.0</td>\n",
       "      <td>27.0</td>\n",
       "      <td>35.7</td>\n",
       "      <td>25.1</td>\n",
       "      <td>12.2</td>\n",
       "      <td>493.8</td>\n",
       "      <td>88.0</td>\n",
       "      <td>57.95625</td>\n",
       "      <td>0.54</td>\n",
       "    </tr>\n",
       "    <tr>\n",
       "      <th>3</th>\n",
       "      <td>01007</td>\n",
       "      <td>AL</td>\n",
       "      <td>Bibb County</td>\n",
       "      <td>22915</td>\n",
       "      <td>1007</td>\n",
       "      <td>-59.000</td>\n",
       "      <td>258.625</td>\n",
       "      <td>253.250</td>\n",
       "      <td>13.875</td>\n",
       "      <td>-77.250</td>\n",
       "      <td>...</td>\n",
       "      <td>3846.0</td>\n",
       "      <td>1813.0</td>\n",
       "      <td>16.8</td>\n",
       "      <td>47.3</td>\n",
       "      <td>24.4</td>\n",
       "      <td>11.5</td>\n",
       "      <td>433.8</td>\n",
       "      <td>110.1</td>\n",
       "      <td>46.21250</td>\n",
       "      <td>NaN</td>\n",
       "    </tr>\n",
       "    <tr>\n",
       "      <th>4</th>\n",
       "      <td>01009</td>\n",
       "      <td>AL</td>\n",
       "      <td>Blount County</td>\n",
       "      <td>57322</td>\n",
       "      <td>1009</td>\n",
       "      <td>58.375</td>\n",
       "      <td>684.750</td>\n",
       "      <td>623.375</td>\n",
       "      <td>19.500</td>\n",
       "      <td>-16.875</td>\n",
       "      <td>...</td>\n",
       "      <td>13267.0</td>\n",
       "      <td>5010.0</td>\n",
       "      <td>19.8</td>\n",
       "      <td>34.0</td>\n",
       "      <td>33.5</td>\n",
       "      <td>12.6</td>\n",
       "      <td>416.5</td>\n",
       "      <td>89.1</td>\n",
       "      <td>42.26875</td>\n",
       "      <td>0.62</td>\n",
       "    </tr>\n",
       "  </tbody>\n",
       "</table>\n",
       "<p>5 rows × 31 columns</p>\n",
       "</div>"
      ],
      "text/plain": [
       "    FIPS State     County_Name  CENSUS_2010_POP  FIPS_int  AVE_POP_CHG  \\\n",
       "0  01001    AL  Autauga County            54571      1001      105.875   \n",
       "1  01003    AL  Baldwin County           182265      1003     4363.875   \n",
       "2  01005    AL  Barbour County            27457      1005     -306.125   \n",
       "3  01007    AL     Bibb County            22915      1007      -59.000   \n",
       "4  01009    AL   Blount County            57322      1009       58.375   \n",
       "\n",
       "   AVE_BIRTHS  AVE_DEATHS  AVE_INTERNATIONAL_MIG  AVE_DOMESTIC_MIG  ...  \\\n",
       "0     637.000     550.500                  4.000            16.875  ...   \n",
       "1    2218.875    2006.750                170.500          3934.375  ...   \n",
       "2     282.875     306.375                  4.750          -288.750  ...   \n",
       "3     258.625     253.250                 13.875           -77.250  ...   \n",
       "4     684.750     623.375                 19.500           -16.875  ...   \n",
       "\n",
       "   Associate  Bachelor_GT  Percent_LT_HighSchool  Percent_HighSchool  \\\n",
       "0    10552.0      10291.0                   11.3                32.6   \n",
       "1    46025.0      46075.0                    9.7                27.6   \n",
       "2     4566.0       2220.0                   27.0                35.7   \n",
       "3     3846.0       1813.0                   16.8                47.3   \n",
       "4    13267.0       5010.0                   19.8                34.0   \n",
       "\n",
       "   Percent_Associate  Percent_Bachelor_GT  Heart_mortality_rate  \\\n",
       "0               28.4                 27.7                 425.0   \n",
       "1               31.3                 31.3                 383.5   \n",
       "2               25.1                 12.2                 493.8   \n",
       "3               24.4                 11.5                 433.8   \n",
       "4               33.5                 12.6                 416.5   \n",
       "\n",
       "   Stroke_mortality_rate  AVE_BIRTH_RATE  Percent_High_Speed  \n",
       "0                   96.5        34.31875                0.75  \n",
       "1                   83.5        38.39375                0.92  \n",
       "2                   88.0        57.95625                0.54  \n",
       "3                  110.1        46.21250                 NaN  \n",
       "4                   89.1        42.26875                0.62  \n",
       "\n",
       "[5 rows x 31 columns]"
      ]
     },
     "execution_count": 3,
     "metadata": {},
     "output_type": "execute_result"
    }
   ],
   "source": [
    "data_census.head()"
   ]
  },
  {
   "cell_type": "code",
   "execution_count": 4,
   "metadata": {},
   "outputs": [
    {
     "name": "stdout",
     "output_type": "stream",
     "text": [
      "<class 'pandas.core.frame.DataFrame'>\n",
      "Int64Index: 3114 entries, 0 to 3113\n",
      "Data columns (total 31 columns):\n",
      " #   Column                      Non-Null Count  Dtype  \n",
      "---  ------                      --------------  -----  \n",
      " 0   FIPS                        3114 non-null   object \n",
      " 1   State                       3114 non-null   object \n",
      " 2   County_Name                 3114 non-null   object \n",
      " 3   CENSUS_2010_POP             3114 non-null   int64  \n",
      " 4   FIPS_int                    3114 non-null   int64  \n",
      " 5   AVE_POP_CHG                 3114 non-null   float64\n",
      " 6   AVE_BIRTHS                  3114 non-null   float64\n",
      " 7   AVE_DEATHS                  3114 non-null   float64\n",
      " 8   AVE_INTERNATIONAL_MIG       3114 non-null   float64\n",
      " 9   AVE_DOMESTIC_MIG            3114 non-null   float64\n",
      " 10  ABS_POVERTY                 3114 non-null   int64  \n",
      " 11  PERCENT_POVERTY             3114 non-null   float64\n",
      " 12  ABS_POVERTY_CHILDREN        3114 non-null   int64  \n",
      " 13  PERCENT_POVERTY_CHILDREN    3114 non-null   float64\n",
      " 14  MEDIAN_HH_INCOME            3114 non-null   int64  \n",
      " 15  Metropolitan                3114 non-null   int64  \n",
      " 16  Med_HH_Income               3114 non-null   float64\n",
      " 17  Median_HH_Income_pct_state  3114 non-null   float64\n",
      " 18  Ave_Unemployed_Rate         3114 non-null   float64\n",
      " 19  LT_HighSchool               3114 non-null   float64\n",
      " 20  HighSchool                  3114 non-null   float64\n",
      " 21  Associate                   3114 non-null   float64\n",
      " 22  Bachelor_GT                 3114 non-null   float64\n",
      " 23  Percent_LT_HighSchool       3114 non-null   float64\n",
      " 24  Percent_HighSchool          3114 non-null   float64\n",
      " 25  Percent_Associate           3114 non-null   float64\n",
      " 26  Percent_Bachelor_GT         3114 non-null   float64\n",
      " 27  Heart_mortality_rate        3114 non-null   float64\n",
      " 28  Stroke_mortality_rate       3114 non-null   float64\n",
      " 29  AVE_BIRTH_RATE              3114 non-null   float64\n",
      " 30  Percent_High_Speed          2904 non-null   float64\n",
      "dtypes: float64(22), int64(6), object(3)\n",
      "memory usage: 778.5+ KB\n"
     ]
    }
   ],
   "source": [
    "data_census.info()"
   ]
  },
  {
   "cell_type": "markdown",
   "metadata": {},
   "source": [
    "Now that we have a complete dataset, we do not need identifier columns such as `FIPS`, `State` and `County_Name` anymore. We will drop these columns. We also see that there are 3 columns of median household incomes `Median_HH_Income_pct_state`, `MEDIAN_HH_INCOME` and `Med_HH_Income`; we prefer to keep the normalized column `Median_HH_Income_pct_state` instead of the absolute median incomes.\n",
    "\n",
    "The dependent variable we are interested is `PERCENT_POVERTY`. We see that `PERCENT_POVERTY` is highly correlated with other poverty-related variables, such as `PERCENT_POVERTY_CHILDREN`. Therefore, we will also drop these poverty columns.\n",
    "\n",
    "From the education data, we have both the absolute column and percent column, such as the pair `LT_HighSchool` for absolute number of people with less than a high school degree and `Percent_LT_HighSchool` for percentage of people with less than a high school degree. Therefore, we will drop all absolute value columns."
   ]
  },
  {
   "cell_type": "code",
   "execution_count": 5,
   "metadata": {},
   "outputs": [
    {
     "data": {
      "image/png": "[encoded data removed]",
      "text/plain": [
       "<matplotlib.figure.Figure at 0x122e7d0f0>"
      ]
     },
     "metadata": {
      "needs_background": "light"
     },
     "output_type": "display_data"
    }
   ],
   "source": [
    "data_census.plot.scatter(x='PERCENT_POVERTY_CHILDREN', y='PERCENT_POVERTY')\n",
    "plt.show()"
   ]
  },
  {
   "cell_type": "code",
   "execution_count": 6,
   "metadata": {},
   "outputs": [],
   "source": [
    "data_census.drop(columns=['FIPS','State','County_Name','FIPS_int','PERCENT_POVERTY_CHILDREN','ABS_POVERTY_CHILDREN','ABS_POVERTY','MEDIAN_HH_INCOME','Med_HH_Income'], axis=1, inplace=True)\n",
    "data_census.drop(columns=['LT_HighSchool', 'HighSchool', 'Associate', 'Bachelor_GT'], axis=1, inplace=True)"
   ]
  },
  {
   "cell_type": "markdown",
   "metadata": {},
   "source": [
    "There are several columns that are in *absolute* population count instead of *rates* or *percentages*, such as the `AVE_POP_CHG` column shown below. We will normalize these columns by the total county population `CENSUS_2010_POP`.\n",
    "* `AVE_POP_CHG` to `Pop_change_rate`\n",
    "* `AVE_DEATHS` to `Death_rate`\n",
    "* `AVE_INTERNATIONAL_MIG` to `Intl_migration_rate`\n",
    "* `AVE_DOMESTIC_MIG` to `Domestic_migration_rate`\n",
    "* `AVE_BIRTHS` is removed because duplicate `AVE_BIRTH_RATE`"
   ]
  },
  {
   "cell_type": "code",
   "execution_count": 7,
   "metadata": {},
   "outputs": [
    {
     "data": {
      "image/png": "[encoded data removed]",
      "text/plain": [
       "<matplotlib.figure.Figure at 0x1258e6a20>"
      ]
     },
     "metadata": {
      "needs_background": "light"
     },
     "output_type": "display_data"
    }
   ],
   "source": [
    "data_census['AVE_POP_CHG'].hist()\n",
    "plt.show()"
   ]
  },
  {
   "cell_type": "code",
   "execution_count": 8,
   "metadata": {},
   "outputs": [],
   "source": [
    "data_census['Pop_change_rate'] = data_census['AVE_POP_CHG'] / data_census['CENSUS_2010_POP']\n",
    "data_census['Death_rate'] = data_census['AVE_DEATHS'] / data_census['CENSUS_2010_POP']\n",
    "data_census['Intl_migration_rate'] = data_census['AVE_INTERNATIONAL_MIG'] / data_census['CENSUS_2010_POP']\n",
    "data_census['Domestic_migration_rate'] = data_census['AVE_DOMESTIC_MIG'] / data_census['CENSUS_2010_POP']\n",
    "data_census.drop(columns=['AVE_POP_CHG','AVE_DEATHS','AVE_BIRTHS','AVE_INTERNATIONAL_MIG','AVE_DOMESTIC_MIG'], axis=1, inplace=True)"
   ]
  },
  {
   "cell_type": "code",
   "execution_count": 9,
   "metadata": {},
   "outputs": [
    {
     "name": "stdout",
     "output_type": "stream",
     "text": [
      "<class 'pandas.core.frame.DataFrame'>\n",
      "Int64Index: 3114 entries, 0 to 3113\n",
      "Data columns (total 17 columns):\n",
      " #   Column                      Non-Null Count  Dtype  \n",
      "---  ------                      --------------  -----  \n",
      " 0   PERCENT_POVERTY             3114 non-null   float64\n",
      " 1   CENSUS_2010_POP             3114 non-null   int64  \n",
      " 2   Metropolitan                3114 non-null   int64  \n",
      " 3   Median_HH_Income_pct_state  3114 non-null   float64\n",
      " 4   Ave_Unemployed_Rate         3114 non-null   float64\n",
      " 5   Percent_LT_HighSchool       3114 non-null   float64\n",
      " 6   Percent_HighSchool          3114 non-null   float64\n",
      " 7   Percent_Associate           3114 non-null   float64\n",
      " 8   Percent_Bachelor_GT         3114 non-null   float64\n",
      " 9   Heart_mortality_rate        3114 non-null   float64\n",
      " 10  Stroke_mortality_rate       3114 non-null   float64\n",
      " 11  AVE_BIRTH_RATE              3114 non-null   float64\n",
      " 12  Percent_High_Speed          2904 non-null   float64\n",
      " 13  Pop_change_rate             3114 non-null   float64\n",
      " 14  Death_rate                  3114 non-null   float64\n",
      " 15  Intl_migration_rate         3114 non-null   float64\n",
      " 16  Domestic_migration_rate     3114 non-null   float64\n",
      "dtypes: float64(15), int64(2)\n",
      "memory usage: 437.9 KB\n"
     ]
    }
   ],
   "source": [
    "# move dependent column PERCENT_POVERTY to the front, index=0\n",
    "col_order = np.linspace(0,16,17)\n",
    "col_order[1] = 0\n",
    "col_order[0] = 1\n",
    "data_census = data_census.iloc[:,col_order]\n",
    "data_census.info()"
   ]
  },
  {
   "cell_type": "markdown",
   "metadata": {},
   "source": [
    "We notice that all columns have 3114 non-null rows, except for `Percent_High_Speed` for the percentage of households with high-speed Internet connections. Let's investigate the histogram of this column and see if we can impute the missing ~200 values.\n",
    "\n",
    "The distribution in the histogram below looks normal, with a few outliers. We will assume normality for this feature and use mean-imputation to fill in the missing values."
   ]
  },
  {
   "cell_type": "code",
   "execution_count": 10,
   "metadata": {},
   "outputs": [
    {
     "data": {
      "text/plain": [
       "<matplotlib.axes._subplots.AxesSubplot at 0x1259b6cc0>"
      ]
     },
     "execution_count": 10,
     "metadata": {},
     "output_type": "execute_result"
    },
    {
     "data": {
      "image/png": "[encoded data removed]",
      "text/plain": [
       "<matplotlib.figure.Figure at 0x125983668>"
      ]
     },
     "metadata": {
      "needs_background": "light"
     },
     "output_type": "display_data"
    }
   ],
   "source": [
    "data_census['Percent_High_Speed'].hist(bins=30)"
   ]
  },
  {
   "cell_type": "code",
   "execution_count": 11,
   "metadata": {},
   "outputs": [],
   "source": [
    "data_census['Percent_High_Speed'] = data_census['Percent_High_Speed'].fillna(data_census['Percent_High_Speed'].mean())"
   ]
  },
  {
   "cell_type": "markdown",
   "metadata": {},
   "source": [
    "# Data exploration on `data_census`"
   ]
  },
  {
   "cell_type": "markdown",
   "metadata": {},
   "source": [
    "Let's look at the correlation heatmap between `PERCENT_POVERTY` and the rest of the predictors."
   ]
  },
  {
   "cell_type": "code",
   "execution_count": 12,
   "metadata": {},
   "outputs": [],
   "source": [
    "correlations = data_census.corr()"
   ]
  },
  {
   "cell_type": "code",
   "execution_count": 13,
   "metadata": {},
   "outputs": [
    {
     "data": {
      "text/plain": [
       "<matplotlib.axes._subplots.AxesSubplot at 0x125bec6d8>"
      ]
     },
     "execution_count": 13,
     "metadata": {},
     "output_type": "execute_result"
    },
    {
     "data": {
      "image/png": "[encoded data removed]",
      "text/plain": [
       "<matplotlib.figure.Figure at 0x125bc2da0>"
      ]
     },
     "metadata": {
      "needs_background": "light"
     },
     "output_type": "display_data"
    }
   ],
   "source": [
    "f, ax = plt.subplots(figsize=(11, 9))\n",
    "sns.heatmap(correlations, xticklabels=data_census.columns, yticklabels=data_census.columns,\n",
    "           mask=np.triu(np.ones_like(correlations, dtype=bool)))"
   ]
  },
  {
   "cell_type": "code",
   "execution_count": 14,
   "metadata": {},
   "outputs": [
    {
     "data": {
      "text/plain": [
       "<matplotlib.axes._subplots.AxesSubplot at 0x125e41390>"
      ]
     },
     "execution_count": 14,
     "metadata": {},
     "output_type": "execute_result"
    },
    {
     "data": {
      "image/png": "[encoded data removed]",
      "text/plain": [
       "<matplotlib.figure.Figure at 0x125e4e710>"
      ]
     },
     "metadata": {
      "needs_background": "light"
     },
     "output_type": "display_data"
    }
   ],
   "source": [
    "f, ax = plt.subplots(figsize=(11, 9))\n",
    "correlations['PERCENT_POVERTY'][1:].plot.bar() # exclude autocorr"
   ]
  },
  {
   "cell_type": "markdown",
   "metadata": {},
   "source": [
    "These variables have > 0.4 |correlations| with `PERCENT_POVERTY`:\n",
    "* `Median_HH_Income_pct_state`\n",
    "* `Ave_Unemployed_Rate`\n",
    "* `Percent_LT_HighSchool`\n",
    "* `Percent_Bachelor_GT`\n",
    "* `Heart_mortality_rate`\n",
    "* `Stroke_mortality_rate`\n",
    "* `AVE_BIRTH_RATE`\n",
    "* `Percent_High_Speed`\n",
    "\n",
    "Let's perform regression modeling with all predictors first, then compare it with this subset of predictors.\n",
    "We will start off with 4 out-of-the-box linear regression models from sklearn:\n",
    "* Ordinary Least Squares linear regression\n",
    "* ElasticNet regression\n",
    "* Support Vector regression\n",
    "* Random Forest regression"
   ]
  },
  {
   "cell_type": "markdown",
   "metadata": {},
   "source": [
    "# Data analysis on `data_census`"
   ]
  },
  {
   "cell_type": "markdown",
   "metadata": {},
   "source": [
    "We now standardize all columns and split the data into training and testing (20%) sets. "
   ]
  },
  {
   "cell_type": "code",
   "execution_count": 15,
   "metadata": {},
   "outputs": [],
   "source": [
    "y_data = data_census.iloc[:,0] # first column PERCENT_POVERTY\n",
    "x_data = data_census.iloc[:,1:] # remaining columns\n",
    "features = data_census.iloc[:,1:].columns"
   ]
  },
  {
   "cell_type": "code",
   "execution_count": 16,
   "metadata": {},
   "outputs": [],
   "source": [
    "scaler = preprocessing.StandardScaler()\n",
    "scaler.fit(x_data)\n",
    "x_data = scaler.transform(x_data) # no scaling y"
   ]
  },
  {
   "cell_type": "code",
   "execution_count": 17,
   "metadata": {},
   "outputs": [],
   "source": [
    "x_train, x_test, y_train, y_test = model_selection.train_test_split(x_data, y_data, test_size=0.2, random_state=0)"
   ]
  },
  {
   "cell_type": "markdown",
   "metadata": {},
   "source": [
    "**OLS Regression**"
   ]
  },
  {
   "cell_type": "code",
   "execution_count": 18,
   "metadata": {},
   "outputs": [],
   "source": [
    "ols = linear_model.LinearRegression() # out-of-the-box\n",
    "ols.fit(x_train, y_train)\n",
    "y_preds = ols.predict(x_test)"
   ]
  },
  {
   "cell_type": "code",
   "execution_count": 19,
   "metadata": {},
   "outputs": [],
   "source": [
    "# calculate r_squared and rmse\n",
    "def evaluate_model(model, x_test, y_test):\n",
    "    y_preds = model.predict(x_test)\n",
    "    r_squared = model.score(x_test,y_test)\n",
    "    rmse = metrics.mean_squared_error(y_test,y_preds)\n",
    "    return r_squared, rmse"
   ]
  },
  {
   "cell_type": "code",
   "execution_count": 20,
   "metadata": {},
   "outputs": [
    {
     "data": {
      "text/plain": [
       "(0.7411923852963731, 9.712207380975489)"
      ]
     },
     "execution_count": 20,
     "metadata": {},
     "output_type": "execute_result"
    }
   ],
   "source": [
    "evaluate_model(ols, x_test, y_test)"
   ]
  },
  {
   "cell_type": "markdown",
   "metadata": {},
   "source": [
    "OLS seems to perform fairly well, with `r_squared` of 0.74 and `rmse` of 9.7."
   ]
  },
  {
   "cell_type": "markdown",
   "metadata": {},
   "source": [
    "**ElasticNet Regression**\n",
    "\n",
    "This is linear regression with combined L1 and L2 regularizers. ElasticNet is basically the combination of Ridge Regression and Lasso Regression. ElasticNet performs with `r_squared` of 0.65 and `rmse` of 12.9, which is worse than the OLS regression."
   ]
  },
  {
   "cell_type": "code",
   "execution_count": 21,
   "metadata": {},
   "outputs": [
    {
     "data": {
      "text/plain": [
       "(0.657233471131947, 12.862912149767594)"
      ]
     },
     "execution_count": 21,
     "metadata": {},
     "output_type": "execute_result"
    }
   ],
   "source": [
    "enet = linear_model.ElasticNet() # out-of-the-box\n",
    "enet.fit(x_train, y_train)\n",
    "evaluate_model(enet, x_test, y_test)"
   ]
  },
  {
   "cell_type": "markdown",
   "metadata": {},
   "source": [
    "**Support Vector Regression**\n",
    "\n",
    "This is similar to support vector machine, but used for regression analysis purposes. SVR yields similar results with OLS, with `r_squared` of 0.76 and `rmse` of 8.9."
   ]
  },
  {
   "cell_type": "code",
   "execution_count": 22,
   "metadata": {},
   "outputs": [
    {
     "data": {
      "text/plain": [
       "(0.7637786384825718, 8.864618815411905)"
      ]
     },
     "execution_count": 22,
     "metadata": {},
     "output_type": "execute_result"
    }
   ],
   "source": [
    "svr = svm.SVR() # out-of-the-box\n",
    "svr.fit(x_train, y_train)\n",
    "evaluate_model(svr, x_test, y_test)"
   ]
  },
  {
   "cell_type": "markdown",
   "metadata": {},
   "source": [
    "**Random Forest Regression**\n",
    "\n",
    "Random Forest does the best out of all the regression models, yielding `r_squared` 0.82 and `rmse` 6.5."
   ]
  },
  {
   "cell_type": "code",
   "execution_count": 23,
   "metadata": {},
   "outputs": [
    {
     "data": {
      "text/plain": [
       "(0.8192313532485916, 6.783658924558589)"
      ]
     },
     "execution_count": 23,
     "metadata": {},
     "output_type": "execute_result"
    }
   ],
   "source": [
    "forest = ensemble.RandomForestRegressor(random_state=0) # out-of-the-box\n",
    "forest.fit(x_train, y_train)\n",
    "evaluate_model(forest, x_test, y_test)"
   ]
  },
  {
   "cell_type": "markdown",
   "metadata": {},
   "source": [
    "Now let us repeat this entire experiment again, but this time with the smaller subset of predictors we identified with high univariate correlations with `PERCENT_POVERTY`."
   ]
  },
  {
   "cell_type": "code",
   "execution_count": 24,
   "metadata": {},
   "outputs": [],
   "source": [
    "subset_cols = ['Median_HH_Income_pct_state','Ave_Unemployed_Rate','Percent_LT_HighSchool','Percent_Bachelor_GT',\n",
    "               'Heart_mortality_rate','Stroke_mortality_rate','AVE_BIRTH_RATE','Percent_High_Speed']\n",
    "subset_cols_idx = [i for i in range(len(features)) if features[i] in subset_cols]\n",
    "x_train_subset = x_train[:,subset_cols_idx]\n",
    "x_test_subset = x_test[:,subset_cols_idx]"
   ]
  },
  {
   "cell_type": "code",
   "execution_count": 25,
   "metadata": {},
   "outputs": [
    {
     "name": "stdout",
     "output_type": "stream",
     "text": [
      "OLS: (r_squared, rmse) = (0.7305849724699622, 10.110269058038961) \n",
      "ElasticNet: (r_squared, rmse) = (0.6453509386660249, 13.308824916485706) \n",
      "SVR: (r_squared, rmse) = (0.7597783470143918, 9.014736733572086) \n",
      "Forest: (r_squared, rmse) = (0.7959061324501806, 7.658978539325843) \n"
     ]
    }
   ],
   "source": [
    "def out_of_the_box(x_train_subset, x_test_subset):\n",
    "    ols = linear_model.LinearRegression() # out-of-the-box\n",
    "    ols.fit(x_train_subset, y_train)\n",
    "    print('OLS: (r_squared, rmse) = {} '.format(evaluate_model(ols, x_test_subset, y_test)))\n",
    "\n",
    "    enet = linear_model.ElasticNet() # out-of-the-box\n",
    "    enet.fit(x_train_subset, y_train)\n",
    "    print('ElasticNet: (r_squared, rmse) = {} '.format(evaluate_model(enet, x_test_subset, y_test)))\n",
    "\n",
    "    svr = svm.SVR() # out-of-the-box\n",
    "    svr.fit(x_train_subset, y_train)\n",
    "    print('SVR: (r_squared, rmse) = {} '.format(evaluate_model(svr, x_test_subset, y_test)))\n",
    "\n",
    "    forest = ensemble.RandomForestRegressor(random_state=0) # out-of-the-box\n",
    "    forest.fit(x_train_subset, y_train)\n",
    "    print('Forest: (r_squared, rmse) = {} '.format(evaluate_model(forest, x_test_subset, y_test)))\n",
    "out_of_the_box(x_train_subset, x_test_subset)"
   ]
  },
  {
   "cell_type": "markdown",
   "metadata": {},
   "source": [
    "It looks like we might have removed too many features, since all 4 regression models show a decrease in `r_squared` and `rmse` evaluation measures. \n",
    "\n",
    "Since removal of features using univariate correlation coefficients did not work, let's determine prominent features using:\n",
    "1. ElasticNet attribute `coef_`. ElasticNet uses L1 regularization which forces some coefficients to 0 and has embedded feature selection characteristic.\n",
    "2. RandomForest attribute `feature_importances_`. RandomForest uses the reduction of entropy to determine which feature minimizes data entropy."
   ]
  },
  {
   "cell_type": "code",
   "execution_count": 26,
   "metadata": {},
   "outputs": [
    {
     "data": {
      "text/plain": [
       "{'CENSUS_2010_POP': -0.0,\n",
       " 'Metropolitan': -0.0,\n",
       " 'Median_HH_Income_pct_state': -1.3680464535461168,\n",
       " 'Ave_Unemployed_Rate': 0.7107503102499959,\n",
       " 'Percent_LT_HighSchool': 0.8598900303575654,\n",
       " 'Percent_HighSchool': -0.0,\n",
       " 'Percent_Associate': -0.27040398294974416,\n",
       " 'Percent_Bachelor_GT': -0.0,\n",
       " 'Heart_mortality_rate': 0.44789019151728343,\n",
       " 'Stroke_mortality_rate': 0.23180620026144724,\n",
       " 'AVE_BIRTH_RATE': 0.9983040207916795,\n",
       " 'Percent_High_Speed': -0.22908077306328614,\n",
       " 'Pop_change_rate': -0.0,\n",
       " 'Death_rate': 0.0,\n",
       " 'Intl_migration_rate': 0.0,\n",
       " 'Domestic_migration_rate': -0.18040678578395022}"
      ]
     },
     "execution_count": 26,
     "metadata": {},
     "output_type": "execute_result"
    }
   ],
   "source": [
    "# ElasticNet\n",
    "enet = linear_model.ElasticNet() # out-of-the-box\n",
    "enet.fit(x_train, y_train)\n",
    "enet_coefs_dict = dict(zip(features, enet.coef_))\n",
    "enet_coefs_dict"
   ]
  },
  {
   "cell_type": "markdown",
   "metadata": {},
   "source": [
    "This list of features chosen from ElasticNet `coef_` are quite similar to the subset of features we have chosen before from the univariate correlation coefficients. We will still try to evaluate whether this subset improves our regression analysis."
   ]
  },
  {
   "cell_type": "code",
   "execution_count": 27,
   "metadata": {},
   "outputs": [
    {
     "data": {
      "text/plain": [
       "['Median_HH_Income_pct_state',\n",
       " 'Ave_Unemployed_Rate',\n",
       " 'Percent_LT_HighSchool',\n",
       " 'Percent_Associate',\n",
       " 'Heart_mortality_rate',\n",
       " 'Stroke_mortality_rate',\n",
       " 'AVE_BIRTH_RATE',\n",
       " 'Percent_High_Speed',\n",
       " 'Domestic_migration_rate']"
      ]
     },
     "execution_count": 27,
     "metadata": {},
     "output_type": "execute_result"
    }
   ],
   "source": [
    "features_enet = [k for (k,v) in enet_coefs_dict.items() if np.abs(v) > 0.01]\n",
    "features_enet"
   ]
  },
  {
   "cell_type": "code",
   "execution_count": 28,
   "metadata": {},
   "outputs": [
    {
     "data": {
      "text/plain": [
       "{'CENSUS_2010_POP': 0.015242713909985207,\n",
       " 'Metropolitan': 0.0010871870303429526,\n",
       " 'Median_HH_Income_pct_state': 0.2886838830799487,\n",
       " 'Ave_Unemployed_Rate': 0.037256776928654686,\n",
       " 'Percent_LT_HighSchool': 0.17688979389000886,\n",
       " 'Percent_HighSchool': 0.01377338439965478,\n",
       " 'Percent_Associate': 0.017305615054154677,\n",
       " 'Percent_Bachelor_GT': 0.018927828716246774,\n",
       " 'Heart_mortality_rate': 0.02761315415193154,\n",
       " 'Stroke_mortality_rate': 0.021827100212980313,\n",
       " 'AVE_BIRTH_RATE': 0.27166310437372754,\n",
       " 'Percent_High_Speed': 0.012373290116588186,\n",
       " 'Pop_change_rate': 0.01697436942189417,\n",
       " 'Death_rate': 0.021214725669864296,\n",
       " 'Intl_migration_rate': 0.020119055558046824,\n",
       " 'Domestic_migration_rate': 0.039048017485970546}"
      ]
     },
     "execution_count": 28,
     "metadata": {},
     "output_type": "execute_result"
    }
   ],
   "source": [
    "# Random Forest\n",
    "forest = ensemble.RandomForestRegressor() # out-of-the-box\n",
    "forest.fit(x_train, y_train)\n",
    "forest_importance_dict = dict(zip(features, forest.feature_importances_))\n",
    "forest_importance_dict"
   ]
  },
  {
   "cell_type": "code",
   "execution_count": 29,
   "metadata": {},
   "outputs": [
    {
     "data": {
      "image/png": "[encoded data removed]",
      "text/plain": [
       "<matplotlib.figure.Figure at 0x125ea3630>"
      ]
     },
     "metadata": {
      "needs_background": "light"
     },
     "output_type": "display_data"
    }
   ],
   "source": [
    "plt.hist(forest_importance_dict.values(), bins=50)\n",
    "plt.xlim(0,0.05)\n",
    "plt.show()"
   ]
  },
  {
   "cell_type": "markdown",
   "metadata": {},
   "source": [
    "From the histogram of the feature importance, we will choose the cutoff of 0.025 for feature importance. If the cutoff is too high, we do not have enough features, but if it is too low the increased variance will affect the goodness of fit. With this cutoff, we retain **6** features from the Random Forest model."
   ]
  },
  {
   "cell_type": "code",
   "execution_count": 30,
   "metadata": {},
   "outputs": [
    {
     "data": {
      "text/plain": [
       "['Median_HH_Income_pct_state',\n",
       " 'Ave_Unemployed_Rate',\n",
       " 'Percent_LT_HighSchool',\n",
       " 'Heart_mortality_rate',\n",
       " 'AVE_BIRTH_RATE',\n",
       " 'Domestic_migration_rate']"
      ]
     },
     "execution_count": 30,
     "metadata": {},
     "output_type": "execute_result"
    }
   ],
   "source": [
    "features_forest = [k for (k,v) in forest_importance_dict.items() if np.abs(v) > 0.025]\n",
    "features_forest"
   ]
  },
  {
   "cell_type": "code",
   "execution_count": 31,
   "metadata": {},
   "outputs": [
    {
     "name": "stdout",
     "output_type": "stream",
     "text": [
      "All:\n",
      "OLS: (r_squared, rmse) = (0.7411923852963731, 9.712207380975489) \n",
      "ElasticNet: (r_squared, rmse) = (0.657233471131947, 12.862912149767594) \n",
      "SVR: (r_squared, rmse) = (0.7637786384825718, 8.864618815411905) \n",
      "Forest: (r_squared, rmse) = (0.8192313532485916, 6.783658924558589) \n",
      "\n",
      "ElasticNet:\n",
      "OLS: (r_squared, rmse) = (0.729812350933414, 10.139263029482024) \n",
      "ElasticNet: (r_squared, rmse) = (0.6572333747242664, 12.862915767634048) \n",
      "SVR: (r_squared, rmse) = (0.7586476717562117, 9.057167295750709) \n",
      "Forest: (r_squared, rmse) = (0.8109698482173906, 7.093686317817016) \n",
      "\n",
      "RandomForest:\n",
      "OLS: (r_squared, rmse) = (0.7064376208338092, 11.016440567174113) \n",
      "ElasticNet: (r_squared, rmse) = (0.6403110032101835, 13.497957289541716) \n",
      "SVR: (r_squared, rmse) = (0.762256888926798, 8.921725123062503) \n",
      "Forest: (r_squared, rmse) = (0.7919698380577762, 7.80669485553772) \n"
     ]
    }
   ],
   "source": [
    "# All features\n",
    "# ElasticNet features\n",
    "print('All:')\n",
    "out_of_the_box(x_train, x_test)\n",
    "\n",
    "# ElasticNet features\n",
    "subset_cols_idx = [i for i in range(len(features)) if features[i] in features_enet]\n",
    "x_train_subset = x_train[:,subset_cols_idx]\n",
    "x_test_subset = x_test[:,subset_cols_idx]\n",
    "print('\\nElasticNet:')\n",
    "out_of_the_box(x_train_subset, x_test_subset)\n",
    "\n",
    "# RandomForest features\n",
    "subset_cols_idx = [i for i in range(len(features)) if features[i] in features_forest]\n",
    "x_train_subset = x_train[:,subset_cols_idx]\n",
    "x_test_subset = x_test[:,subset_cols_idx]\n",
    "print('\\nRandomForest:')\n",
    "out_of_the_box(x_train_subset, x_test_subset)"
   ]
  },
  {
   "cell_type": "markdown",
   "metadata": {},
   "source": [
    "Looking at the `r_squared` and `rmse` from the 3 sets of features, we have shown that using all 16 features yields `r_squared` of 0.82, but decreasing the number of features 6 and the `r_squared` only decreased slightly to 0.79. Therefore, from this point on, we will perform analysis with our 6 most important features."
   ]
  },
  {
   "cell_type": "markdown",
   "metadata": {},
   "source": [
    "**Model tuning**\n",
    "\n",
    "We will tune each of the regression models using cross-validation instead of using the out-of-the-box regressors. Let's see if tuning the hyperparameters will show improvement to our `PERCENT_POVERTY` predictions. The OLS model does not have hyperparameters to tune, so this section only applies to the ElasticNet, SVR and RandomForest models."
   ]
  },
  {
   "cell_type": "markdown",
   "metadata": {},
   "source": [
    "**Model tuning: ElasticNet**\n",
    "\n",
    "Model tuning improves performance from `r_squared` and `rmse` of `(0.64, 13.5)` to `(0.70, 11.1)`."
   ]
  },
  {
   "cell_type": "code",
   "execution_count": 32,
   "metadata": {},
   "outputs": [
    {
     "name": "stdout",
     "output_type": "stream",
     "text": [
      "ElasticNet(alpha=0.1)\n"
     ]
    },
    {
     "data": {
      "text/plain": [
       "(0.7033915102330941, 11.13075118316357)"
      ]
     },
     "execution_count": 32,
     "metadata": {},
     "output_type": "execute_result"
    }
   ],
   "source": [
    "enet = linear_model.ElasticNet()\n",
    "alpha_values = [0.1, 1, 10] # weight of regularization penalty term\n",
    "l1_ratio_values = [0.3, 0.5, 0.7] # mixing between L1 and L2 coefficient\n",
    "param_grid = {'alpha': alpha_values, 'l1_ratio': l1_ratio_values}\n",
    "enet_cv = model_selection.GridSearchCV(enet, param_grid, cv=10)\n",
    "enet_cv.fit(x_train_subset, y_train)\n",
    "print(enet_cv.best_estimator_)\n",
    "evaluate_model(enet_cv, x_test_subset, y_test)"
   ]
  },
  {
   "cell_type": "markdown",
   "metadata": {},
   "source": [
    "**Model tuning: SVR**\n",
    "\n",
    "Model tuning improves performance from `r_squared` and `rmse` of `(0.76, 8.9)` to `(0.78, 8.2)`. This improvement is quite modest despite tuning."
   ]
  },
  {
   "cell_type": "code",
   "execution_count": 33,
   "metadata": {},
   "outputs": [
    {
     "name": "stdout",
     "output_type": "stream",
     "text": [
      "SVR(C=10, gamma=0.1)\n"
     ]
    },
    {
     "data": {
      "text/plain": [
       "(0.7812671014932184, 8.208333722222415)"
      ]
     },
     "execution_count": 33,
     "metadata": {},
     "output_type": "execute_result"
    }
   ],
   "source": [
    "svr = svm.SVR()\n",
    "C_values = [0.1, 1, 10, 100] # regularization parameter\n",
    "gamma_values = [1, 0.1, 0.01]\n",
    "# kernel_values = ['rbf', 'poly', 'sigmoid'] # type of kernel\n",
    "param_grid = {'C': C_values, 'gamma': gamma_values}\n",
    "svr_cv = model_selection.GridSearchCV(svr, param_grid, cv=10)\n",
    "svr_cv.fit(x_train_subset, y_train)\n",
    "print(svr_cv.best_estimator_)\n",
    "evaluate_model(svr_cv, x_test_subset, y_test)"
   ]
  },
  {
   "cell_type": "markdown",
   "metadata": {},
   "source": [
    "**Model tuning: Random Forest**\n",
    "\n",
    "Model tuning improves performance from `r_squared` and `rmse` of `(0.79, 7.6)` to `(0.80, 7.6)`."
   ]
  },
  {
   "cell_type": "code",
   "execution_count": 34,
   "metadata": {},
   "outputs": [
    {
     "name": "stdout",
     "output_type": "stream",
     "text": [
      "RandomForestRegressor(max_depth=10, n_estimators=300, random_state=0)\n"
     ]
    },
    {
     "data": {
      "text/plain": [
       "(0.7970989562796329, 7.614215743556185)"
      ]
     },
     "execution_count": 34,
     "metadata": {},
     "output_type": "execute_result"
    }
   ],
   "source": [
    "forest = ensemble.RandomForestRegressor(random_state=0)\n",
    "n_estimators_values = [200, 300, 400]\n",
    "max_depth_values = [8, 10, 12]\n",
    "param_grid = {'n_estimators': n_estimators_values, 'max_depth': max_depth_values}\n",
    "forest_cv = model_selection.GridSearchCV(forest, param_grid, cv=10)\n",
    "forest_cv.fit(x_train_subset, y_train)\n",
    "print(forest_cv.best_estimator_)\n",
    "evaluate_model(forest_cv, x_test_subset, y_test)"
   ]
  },
  {
   "cell_type": "markdown",
   "metadata": {},
   "source": [
    "Therefore, with this subset of 6 features, Random Forest yields the highest performance of `(0.80, 7.6)` in prediction of our dependent variable `PERCENT_POVERTY`.\n",
    "\n",
    "Next, we will look at prediction of `PERCENT_POVERTY` using the smaller subset of data which includes the BRFSS data. We will be able to see if the same features are predictors of poverty rates and if behavioral risk factors are related to poverty in different regions of the United States."
   ]
  },
  {
   "cell_type": "markdown",
   "metadata": {},
   "source": [
    "# Data cleaning on `data_brfss`"
   ]
  },
  {
   "cell_type": "code",
   "execution_count": 35,
   "metadata": {},
   "outputs": [
    {
     "data": {
      "text/html": [
       "<div>\n",
       "<style scoped>\n",
       "    .dataframe tbody tr th:only-of-type {\n",
       "        vertical-align: middle;\n",
       "    }\n",
       "\n",
       "    .dataframe tbody tr th {\n",
       "        vertical-align: top;\n",
       "    }\n",
       "\n",
       "    .dataframe thead th {\n",
       "        text-align: right;\n",
       "    }\n",
       "</style>\n",
       "<table border=\"1\" class=\"dataframe\">\n",
       "  <thead>\n",
       "    <tr style=\"text-align: right;\">\n",
       "      <th></th>\n",
       "      <th>FIPS</th>\n",
       "      <th>State</th>\n",
       "      <th>County_Name</th>\n",
       "      <th>CENSUS_2010_POP</th>\n",
       "      <th>FIPS_int</th>\n",
       "      <th>AVE_POP_CHG</th>\n",
       "      <th>AVE_BIRTHS</th>\n",
       "      <th>AVE_DEATHS</th>\n",
       "      <th>AVE_INTERNATIONAL_MIG</th>\n",
       "      <th>AVE_DOMESTIC_MIG</th>\n",
       "      <th>...</th>\n",
       "      <th>Heathcare_Coverage</th>\n",
       "      <th>Current_Smokers</th>\n",
       "      <th>Disability_Status</th>\n",
       "      <th>Flu_Shot</th>\n",
       "      <th>Obesity</th>\n",
       "      <th>Dentist_Visit</th>\n",
       "      <th>Binge_Drinkers</th>\n",
       "      <th>Asthma</th>\n",
       "      <th>Diabetes</th>\n",
       "      <th>Physical_Exercise</th>\n",
       "    </tr>\n",
       "  </thead>\n",
       "  <tbody>\n",
       "    <tr>\n",
       "      <th>0</th>\n",
       "      <td>01073</td>\n",
       "      <td>AL</td>\n",
       "      <td>Jefferson County</td>\n",
       "      <td>658466</td>\n",
       "      <td>1073</td>\n",
       "      <td>142.750</td>\n",
       "      <td>8749.125</td>\n",
       "      <td>7049.375</td>\n",
       "      <td>654.250</td>\n",
       "      <td>-2156.125</td>\n",
       "      <td>...</td>\n",
       "      <td>85.144444</td>\n",
       "      <td>21.983333</td>\n",
       "      <td>20.833333</td>\n",
       "      <td>66.875000</td>\n",
       "      <td>30.042857</td>\n",
       "      <td>71.50</td>\n",
       "      <td>13.74</td>\n",
       "      <td>11.955556</td>\n",
       "      <td>10.671429</td>\n",
       "      <td>21.625</td>\n",
       "    </tr>\n",
       "    <tr>\n",
       "      <th>1</th>\n",
       "      <td>01097</td>\n",
       "      <td>AL</td>\n",
       "      <td>Mobile County</td>\n",
       "      <td>412992</td>\n",
       "      <td>1097</td>\n",
       "      <td>54.750</td>\n",
       "      <td>5554.875</td>\n",
       "      <td>4284.125</td>\n",
       "      <td>586.125</td>\n",
       "      <td>-1778.000</td>\n",
       "      <td>...</td>\n",
       "      <td>79.575000</td>\n",
       "      <td>25.250000</td>\n",
       "      <td>27.650000</td>\n",
       "      <td>66.233333</td>\n",
       "      <td>31.375000</td>\n",
       "      <td>NaN</td>\n",
       "      <td>12.90</td>\n",
       "      <td>12.525000</td>\n",
       "      <td>11.525000</td>\n",
       "      <td>19.900</td>\n",
       "    </tr>\n",
       "    <tr>\n",
       "      <th>2</th>\n",
       "      <td>01101</td>\n",
       "      <td>AL</td>\n",
       "      <td>Montgomery County</td>\n",
       "      <td>229363</td>\n",
       "      <td>1101</td>\n",
       "      <td>-468.375</td>\n",
       "      <td>3134.500</td>\n",
       "      <td>2092.625</td>\n",
       "      <td>404.875</td>\n",
       "      <td>-1925.500</td>\n",
       "      <td>...</td>\n",
       "      <td>90.600000</td>\n",
       "      <td>15.900000</td>\n",
       "      <td>21.400000</td>\n",
       "      <td>NaN</td>\n",
       "      <td>35.550000</td>\n",
       "      <td>NaN</td>\n",
       "      <td>9.50</td>\n",
       "      <td>11.000000</td>\n",
       "      <td>10.550000</td>\n",
       "      <td>26.800</td>\n",
       "    </tr>\n",
       "    <tr>\n",
       "      <th>3</th>\n",
       "      <td>01125</td>\n",
       "      <td>AL</td>\n",
       "      <td>Tuscaloosa County</td>\n",
       "      <td>194656</td>\n",
       "      <td>1125</td>\n",
       "      <td>1739.375</td>\n",
       "      <td>2478.875</td>\n",
       "      <td>1706.500</td>\n",
       "      <td>301.000</td>\n",
       "      <td>667.750</td>\n",
       "      <td>...</td>\n",
       "      <td>82.966667</td>\n",
       "      <td>22.833333</td>\n",
       "      <td>24.266667</td>\n",
       "      <td>71.000000</td>\n",
       "      <td>31.800000</td>\n",
       "      <td>NaN</td>\n",
       "      <td>13.30</td>\n",
       "      <td>8.533333</td>\n",
       "      <td>10.366667</td>\n",
       "      <td>20.500</td>\n",
       "    </tr>\n",
       "    <tr>\n",
       "      <th>4</th>\n",
       "      <td>02020</td>\n",
       "      <td>AK</td>\n",
       "      <td>Anchorage Municipality</td>\n",
       "      <td>291826</td>\n",
       "      <td>2020</td>\n",
       "      <td>-221.500</td>\n",
       "      <td>4588.125</td>\n",
       "      <td>1642.875</td>\n",
       "      <td>1079.250</td>\n",
       "      <td>-4271.125</td>\n",
       "      <td>...</td>\n",
       "      <td>85.828571</td>\n",
       "      <td>17.825000</td>\n",
       "      <td>20.420000</td>\n",
       "      <td>NaN</td>\n",
       "      <td>25.320000</td>\n",
       "      <td>69.25</td>\n",
       "      <td>17.90</td>\n",
       "      <td>14.871429</td>\n",
       "      <td>5.820000</td>\n",
       "      <td>37.875</td>\n",
       "    </tr>\n",
       "  </tbody>\n",
       "</table>\n",
       "<p>5 rows × 48 columns</p>\n",
       "</div>"
      ],
      "text/plain": [
       "    FIPS State             County_Name  CENSUS_2010_POP  FIPS_int  \\\n",
       "0  01073    AL        Jefferson County           658466      1073   \n",
       "1  01097    AL           Mobile County           412992      1097   \n",
       "2  01101    AL       Montgomery County           229363      1101   \n",
       "3  01125    AL       Tuscaloosa County           194656      1125   \n",
       "4  02020    AK  Anchorage Municipality           291826      2020   \n",
       "\n",
       "   AVE_POP_CHG  AVE_BIRTHS  AVE_DEATHS  AVE_INTERNATIONAL_MIG  \\\n",
       "0      142.750    8749.125    7049.375                654.250   \n",
       "1       54.750    5554.875    4284.125                586.125   \n",
       "2     -468.375    3134.500    2092.625                404.875   \n",
       "3     1739.375    2478.875    1706.500                301.000   \n",
       "4     -221.500    4588.125    1642.875               1079.250   \n",
       "\n",
       "   AVE_DOMESTIC_MIG  ...  Heathcare_Coverage  Current_Smokers  \\\n",
       "0         -2156.125  ...           85.144444        21.983333   \n",
       "1         -1778.000  ...           79.575000        25.250000   \n",
       "2         -1925.500  ...           90.600000        15.900000   \n",
       "3           667.750  ...           82.966667        22.833333   \n",
       "4         -4271.125  ...           85.828571        17.825000   \n",
       "\n",
       "   Disability_Status   Flu_Shot    Obesity  Dentist_Visit  Binge_Drinkers  \\\n",
       "0          20.833333  66.875000  30.042857          71.50           13.74   \n",
       "1          27.650000  66.233333  31.375000            NaN           12.90   \n",
       "2          21.400000        NaN  35.550000            NaN            9.50   \n",
       "3          24.266667  71.000000  31.800000            NaN           13.30   \n",
       "4          20.420000        NaN  25.320000          69.25           17.90   \n",
       "\n",
       "      Asthma   Diabetes  Physical_Exercise  \n",
       "0  11.955556  10.671429             21.625  \n",
       "1  12.525000  11.525000             19.900  \n",
       "2  11.000000  10.550000             26.800  \n",
       "3   8.533333  10.366667             20.500  \n",
       "4  14.871429   5.820000             37.875  \n",
       "\n",
       "[5 rows x 48 columns]"
      ]
     },
     "execution_count": 35,
     "metadata": {},
     "output_type": "execute_result"
    }
   ],
   "source": [
    "data_brfss.head()"
   ]
  },
  {
   "cell_type": "code",
   "execution_count": 36,
   "metadata": {},
   "outputs": [
    {
     "name": "stdout",
     "output_type": "stream",
     "text": [
      "<class 'pandas.core.frame.DataFrame'>\n",
      "Int64Index: 403 entries, 0 to 402\n",
      "Data columns (total 48 columns):\n",
      " #   Column                          Non-Null Count  Dtype  \n",
      "---  ------                          --------------  -----  \n",
      " 0   FIPS                            403 non-null    object \n",
      " 1   State                           403 non-null    object \n",
      " 2   County_Name                     403 non-null    object \n",
      " 3   CENSUS_2010_POP                 403 non-null    int64  \n",
      " 4   FIPS_int                        403 non-null    int64  \n",
      " 5   AVE_POP_CHG                     403 non-null    float64\n",
      " 6   AVE_BIRTHS                      403 non-null    float64\n",
      " 7   AVE_DEATHS                      403 non-null    float64\n",
      " 8   AVE_INTERNATIONAL_MIG           403 non-null    float64\n",
      " 9   AVE_DOMESTIC_MIG                403 non-null    float64\n",
      " 10  ABS_POVERTY                     403 non-null    int64  \n",
      " 11  PERCENT_POVERTY                 403 non-null    float64\n",
      " 12  ABS_POVERTY_CHILDREN            403 non-null    int64  \n",
      " 13  PERCENT_POVERTY_CHILDREN        403 non-null    float64\n",
      " 14  MEDIAN_HH_INCOME                403 non-null    int64  \n",
      " 15  Metropolitan                    403 non-null    int64  \n",
      " 16  Med_HH_Income                   403 non-null    float64\n",
      " 17  Median_HH_Income_pct_state      403 non-null    float64\n",
      " 18  Ave_Unemployed_Rate             403 non-null    float64\n",
      " 19  LT_HighSchool                   403 non-null    float64\n",
      " 20  HighSchool                      403 non-null    float64\n",
      " 21  Associate                       403 non-null    float64\n",
      " 22  Bachelor_GT                     403 non-null    float64\n",
      " 23  Percent_LT_HighSchool           403 non-null    float64\n",
      " 24  Percent_HighSchool              403 non-null    float64\n",
      " 25  Percent_Associate               403 non-null    float64\n",
      " 26  Percent_Bachelor_GT             403 non-null    float64\n",
      " 27  Heart_mortality_rate            403 non-null    float64\n",
      " 28  Stroke_mortality_rate           403 non-null    float64\n",
      " 29  AVE_BIRTH_RATE                  403 non-null    float64\n",
      " 30  Percent_High_Speed              354 non-null    float64\n",
      " 31  State_Name                      403 non-null    object \n",
      " 32  Percent_Good_Health             396 non-null    float64\n",
      " 33  Percent_Ever_Had_Heart_Attack   368 non-null    float64\n",
      " 34  Percent_Ever_Had_Stroke         391 non-null    float64\n",
      " 35  Percent_Ever_Had_Heart_Disease  264 non-null    float64\n",
      " 36  Percent_High_BP                 152 non-null    float64\n",
      " 37  Percent_Cholesterol_Checked     363 non-null    float64\n",
      " 38  Heathcare_Coverage              402 non-null    float64\n",
      " 39  Current_Smokers                 391 non-null    float64\n",
      " 40  Disability_Status               387 non-null    float64\n",
      " 41  Flu_Shot                        335 non-null    float64\n",
      " 42  Obesity                         393 non-null    float64\n",
      " 43  Dentist_Visit                   221 non-null    float64\n",
      " 44  Binge_Drinkers                  374 non-null    float64\n",
      " 45  Asthma                          402 non-null    float64\n",
      " 46  Diabetes                        395 non-null    float64\n",
      " 47  Physical_Exercise               364 non-null    float64\n",
      "dtypes: float64(38), int64(6), object(4)\n",
      "memory usage: 154.3+ KB\n"
     ]
    }
   ],
   "source": [
    "data_brfss.info()"
   ]
  },
  {
   "cell_type": "markdown",
   "metadata": {},
   "source": [
    "Columns are calculated, dropped and imputed similar to `data_census`. Since two features `Dentist_Visit` and `Percent_High_BP` have only ~half of the number of non-null rows compared to other features, we will remove these columns instead of imputation.\n",
    "\n",
    "Afterward, let's look at histograms for the features that require imputation."
   ]
  },
  {
   "cell_type": "code",
   "execution_count": 37,
   "metadata": {},
   "outputs": [],
   "source": [
    "data_brfss['Pop_change_rate'] = data_brfss['AVE_POP_CHG'] / data_brfss['CENSUS_2010_POP']\n",
    "data_brfss['Death_rate'] = data_brfss['AVE_DEATHS'] / data_brfss['CENSUS_2010_POP']\n",
    "data_brfss['Intl_migration_rate'] = data_brfss['AVE_INTERNATIONAL_MIG'] / data_brfss['CENSUS_2010_POP']\n",
    "data_brfss['Domestic_migration_rate'] = data_brfss['AVE_DOMESTIC_MIG'] / data_brfss['CENSUS_2010_POP']\n",
    "data_brfss.drop(columns=['AVE_POP_CHG','AVE_DEATHS','AVE_BIRTHS','AVE_INTERNATIONAL_MIG','AVE_DOMESTIC_MIG'], axis=1, inplace=True)\n",
    "data_brfss.drop(columns=['FIPS','State','State_Name','County_Name','FIPS_int','PERCENT_POVERTY_CHILDREN','ABS_POVERTY_CHILDREN','ABS_POVERTY','MEDIAN_HH_INCOME','Med_HH_Income'], axis=1, inplace=True)\n",
    "data_brfss.drop(columns=['LT_HighSchool', 'HighSchool', 'Associate', 'Bachelor_GT'], axis=1, inplace=True)\n",
    "data_brfss.drop(columns=['Dentist_Visit','Percent_High_BP'], axis=1, inplace=True)\n",
    "data_brfss['Percent_High_Speed'] = data_brfss['Percent_High_Speed'].fillna(data_brfss['Percent_High_Speed'].mean())"
   ]
  },
  {
   "cell_type": "code",
   "execution_count": 38,
   "metadata": {},
   "outputs": [
    {
     "data": {
      "image/png": "[encoded data removed]",
      "text/plain": [
       "<matplotlib.figure.Figure at 0x12588ca20>"
      ]
     },
     "metadata": {
      "needs_background": "light"
     },
     "output_type": "display_data"
    }
   ],
   "source": [
    "incomplete_cols = [col for col in data_brfss.columns if data_brfss[col].isnull().sum()>0] # columns with missing values\n",
    "fig = plt.figure(figsize=(15,12))\n",
    "for i in range(len(incomplete_cols)):\n",
    "    col = incomplete_cols[i]\n",
    "    plt.subplot(3,5,i+1)\n",
    "    sns.distplot(data_brfss.loc[data_brfss[col].notnull(), col])\n",
    "    plt.xlabel(col)\n",
    "plt.show() "
   ]
  },
  {
   "cell_type": "markdown",
   "metadata": {},
   "source": [
    "There is some skewness to the data, such as `Percent_Ever_Had_Stroke` is skewed right and `Percent_Cholesterol_Checked` is skewed left. We could correct for skewness by manipulating the data using logarithm or squared, but since the histograms do not look heavily skewed, we have decided to skip this.\n",
    "\n",
    "Instead of mean-imputation, due to slight divergence from the normal distribution, we will fill in missing values with the **median** of each feature."
   ]
  },
  {
   "cell_type": "code",
   "execution_count": 39,
   "metadata": {},
   "outputs": [],
   "source": [
    "for col in incomplete_cols:\n",
    "    data_brfss[col] = data_brfss[col].fillna(data_brfss[col].median())"
   ]
  },
  {
   "cell_type": "code",
   "execution_count": 40,
   "metadata": {},
   "outputs": [
    {
     "name": "stdout",
     "output_type": "stream",
     "text": [
      "<class 'pandas.core.frame.DataFrame'>\n",
      "Int64Index: 403 entries, 0 to 402\n",
      "Data columns (total 31 columns):\n",
      " #   Column                          Non-Null Count  Dtype  \n",
      "---  ------                          --------------  -----  \n",
      " 0   PERCENT_POVERTY                 403 non-null    float64\n",
      " 1   CENSUS_2010_POP                 403 non-null    int64  \n",
      " 2   Metropolitan                    403 non-null    int64  \n",
      " 3   Median_HH_Income_pct_state      403 non-null    float64\n",
      " 4   Ave_Unemployed_Rate             403 non-null    float64\n",
      " 5   Percent_LT_HighSchool           403 non-null    float64\n",
      " 6   Percent_HighSchool              403 non-null    float64\n",
      " 7   Percent_Associate               403 non-null    float64\n",
      " 8   Percent_Bachelor_GT             403 non-null    float64\n",
      " 9   Heart_mortality_rate            403 non-null    float64\n",
      " 10  Stroke_mortality_rate           403 non-null    float64\n",
      " 11  AVE_BIRTH_RATE                  403 non-null    float64\n",
      " 12  Percent_High_Speed              403 non-null    float64\n",
      " 13  Percent_Good_Health             403 non-null    float64\n",
      " 14  Percent_Ever_Had_Heart_Attack   403 non-null    float64\n",
      " 15  Percent_Ever_Had_Stroke         403 non-null    float64\n",
      " 16  Percent_Ever_Had_Heart_Disease  403 non-null    float64\n",
      " 17  Percent_Cholesterol_Checked     403 non-null    float64\n",
      " 18  Heathcare_Coverage              403 non-null    float64\n",
      " 19  Current_Smokers                 403 non-null    float64\n",
      " 20  Disability_Status               403 non-null    float64\n",
      " 21  Flu_Shot                        403 non-null    float64\n",
      " 22  Obesity                         403 non-null    float64\n",
      " 23  Binge_Drinkers                  403 non-null    float64\n",
      " 24  Asthma                          403 non-null    float64\n",
      " 25  Diabetes                        403 non-null    float64\n",
      " 26  Physical_Exercise               403 non-null    float64\n",
      " 27  Pop_change_rate                 403 non-null    float64\n",
      " 28  Death_rate                      403 non-null    float64\n",
      " 29  Intl_migration_rate             403 non-null    float64\n",
      " 30  Domestic_migration_rate         403 non-null    float64\n",
      "dtypes: float64(29), int64(2)\n",
      "memory usage: 100.8 KB\n"
     ]
    }
   ],
   "source": [
    "col_order = np.linspace(0,len(data_brfss.columns)-1,len(data_brfss.columns))\n",
    "col_order[1] = 0\n",
    "col_order[0] = 1\n",
    "data_brfss = data_brfss.iloc[:,col_order]\n",
    "data_brfss.info()"
   ]
  },
  {
   "cell_type": "markdown",
   "metadata": {},
   "source": [
    "# Data analysis on `data_brfss`"
   ]
  },
  {
   "cell_type": "markdown",
   "metadata": {},
   "source": [
    "We will now perform analysis on this dataset, first splitting into train and test data, and then fitting to 4 regression models like above:\n",
    "* OLS\n",
    "* ElasticNet\n",
    "* SVR\n",
    "* RandomForest"
   ]
  },
  {
   "cell_type": "code",
   "execution_count": 41,
   "metadata": {},
   "outputs": [],
   "source": [
    "y_data = data_brfss.iloc[:,0] # first column PERCENT_POVERTY\n",
    "x_data = data_brfss.iloc[:,1:] # remaining columns\n",
    "features = data_brfss.iloc[:,1:].columns"
   ]
  },
  {
   "cell_type": "code",
   "execution_count": 42,
   "metadata": {},
   "outputs": [],
   "source": [
    "scaler = preprocessing.StandardScaler()\n",
    "scaler.fit(x_data)\n",
    "x_data = scaler.transform(x_data) # no scaling y"
   ]
  },
  {
   "cell_type": "code",
   "execution_count": 43,
   "metadata": {},
   "outputs": [],
   "source": [
    "x_train, x_test, y_train, y_test = model_selection.train_test_split(x_data, y_data, test_size=0.2, random_state=0)"
   ]
  },
  {
   "cell_type": "code",
   "execution_count": 44,
   "metadata": {},
   "outputs": [
    {
     "name": "stdout",
     "output_type": "stream",
     "text": [
      "OLS: (r_squared, rmse) = (0.7453164229476731, 5.459666708487621) \n",
      "ElasticNet: (r_squared, rmse) = (0.6389726253525414, 7.739364905379983) \n",
      "SVR: (r_squared, rmse) = (0.5858186312042443, 8.878830180814601) \n",
      "Forest: (r_squared, rmse) = (0.6985211587621174, 6.462819518518516) \n"
     ]
    }
   ],
   "source": [
    "out_of_the_box(x_train, x_test)"
   ]
  },
  {
   "cell_type": "markdown",
   "metadata": {},
   "source": [
    "In contrast to the previous dataset, in `data_brfss` we see ordinary-least-squares linear regression perform the best with `r_squared` and `rmse` of `(0.74, 5.5)`. We will also take a look at the ElasticNet's `coef_` and RandomForest `feature_importances_` to determine features for our regression."
   ]
  },
  {
   "cell_type": "code",
   "execution_count": 45,
   "metadata": {},
   "outputs": [
    {
     "data": {
      "text/plain": [
       "{'CENSUS_2010_POP': 0.0,\n",
       " 'Metropolitan': -0.0,\n",
       " 'Median_HH_Income_pct_state': -0.8504831086673422,\n",
       " 'Ave_Unemployed_Rate': 0.09202313544041239,\n",
       " 'Percent_LT_HighSchool': 0.4718532959384948,\n",
       " 'Percent_HighSchool': -0.0,\n",
       " 'Percent_Associate': -0.0,\n",
       " 'Percent_Bachelor_GT': -0.0,\n",
       " 'Heart_mortality_rate': 0.006630205767664256,\n",
       " 'Stroke_mortality_rate': 0.1982211125047354,\n",
       " 'AVE_BIRTH_RATE': 0.6530351314865225,\n",
       " 'Percent_High_Speed': -0.4086702309007468,\n",
       " 'Percent_Good_Health': -0.3893529461284095,\n",
       " 'Percent_Ever_Had_Heart_Attack': 0.0,\n",
       " 'Percent_Ever_Had_Stroke': 0.003652189001432888,\n",
       " 'Percent_Ever_Had_Heart_Disease': -0.0,\n",
       " 'Percent_Cholesterol_Checked': -0.0,\n",
       " 'Heathcare_Coverage': -0.546074131903817,\n",
       " 'Current_Smokers': 0.001018807198112372,\n",
       " 'Disability_Status': 0.0,\n",
       " 'Flu_Shot': -0.0,\n",
       " 'Obesity': 0.0,\n",
       " 'Binge_Drinkers': 0.0,\n",
       " 'Asthma': -0.0,\n",
       " 'Diabetes': 0.3474224530365317,\n",
       " 'Physical_Exercise': -0.0,\n",
       " 'Pop_change_rate': -0.0,\n",
       " 'Death_rate': 0.0,\n",
       " 'Intl_migration_rate': 0.06868422440673297,\n",
       " 'Domestic_migration_rate': -0.21231827979547954}"
      ]
     },
     "execution_count": 45,
     "metadata": {},
     "output_type": "execute_result"
    }
   ],
   "source": [
    "enet = linear_model.ElasticNet()\n",
    "enet.fit(x_train, y_train)\n",
    "features_enet = dict(zip(features, enet.coef_))\n",
    "features_enet"
   ]
  },
  {
   "cell_type": "markdown",
   "metadata": {},
   "source": [
    "For ElasticNet `coef_`, we see that a large number of BRFSS variables have zero coefficients, such as `Asthma` or `Physical_Exercise`. Looking at the features that have high coefficients, they are all features from the census dataset. And most importantly, these are the same features that were important in the previous `data_census` section!"
   ]
  },
  {
   "cell_type": "code",
   "execution_count": 46,
   "metadata": {},
   "outputs": [
    {
     "data": {
      "text/plain": [
       "['Median_HH_Income_pct_state',\n",
       " 'Ave_Unemployed_Rate',\n",
       " 'Percent_LT_HighSchool',\n",
       " 'Percent_Associate',\n",
       " 'Heart_mortality_rate',\n",
       " 'Stroke_mortality_rate',\n",
       " 'AVE_BIRTH_RATE',\n",
       " 'Percent_High_Speed',\n",
       " 'Domestic_migration_rate']"
      ]
     },
     "execution_count": 46,
     "metadata": {},
     "output_type": "execute_result"
    }
   ],
   "source": [
    "features_enet = [k for (k,v) in enet_coefs_dict.items() if np.abs(v) > 0.01]\n",
    "features_enet"
   ]
  },
  {
   "cell_type": "markdown",
   "metadata": {},
   "source": [
    "We can also repeat with Random Forest `feature_importances_` to confirm our observation from above."
   ]
  },
  {
   "cell_type": "code",
   "execution_count": 47,
   "metadata": {},
   "outputs": [
    {
     "data": {
      "text/plain": [
       "{'CENSUS_2010_POP': 0.010861781408553772,\n",
       " 'Metropolitan': 8.930143225797269e-05,\n",
       " 'Median_HH_Income_pct_state': 0.18788517837587246,\n",
       " 'Ave_Unemployed_Rate': 0.007973817552683884,\n",
       " 'Percent_LT_HighSchool': 0.044258248084350034,\n",
       " 'Percent_HighSchool': 0.01392315670962613,\n",
       " 'Percent_Associate': 0.02271141017713687,\n",
       " 'Percent_Bachelor_GT': 0.008798902880147862,\n",
       " 'Heart_mortality_rate': 0.015717400726398604,\n",
       " 'Stroke_mortality_rate': 0.028123106122400765,\n",
       " 'AVE_BIRTH_RATE': 0.31199397676779284,\n",
       " 'Percent_High_Speed': 0.03207382097044905,\n",
       " 'Percent_Good_Health': 0.15608538978949282,\n",
       " 'Percent_Ever_Had_Heart_Attack': 0.004276909456963551,\n",
       " 'Percent_Ever_Had_Stroke': 0.006752621495742688,\n",
       " 'Percent_Ever_Had_Heart_Disease': 0.005156945943223639,\n",
       " 'Percent_Cholesterol_Checked': 0.006446625678468615,\n",
       " 'Heathcare_Coverage': 0.020271694914212914,\n",
       " 'Current_Smokers': 0.004677244036083837,\n",
       " 'Disability_Status': 0.00908896521849244,\n",
       " 'Flu_Shot': 0.00564443208814534,\n",
       " 'Obesity': 0.0067153145655090415,\n",
       " 'Binge_Drinkers': 0.007120265511026725,\n",
       " 'Asthma': 0.005355298991627888,\n",
       " 'Diabetes': 0.014125451964822256,\n",
       " 'Physical_Exercise': 0.004803186703844488,\n",
       " 'Pop_change_rate': 0.011009055349152199,\n",
       " 'Death_rate': 0.009439268820146753,\n",
       " 'Intl_migration_rate': 0.015385405666011338,\n",
       " 'Domestic_migration_rate': 0.02323582259936335}"
      ]
     },
     "execution_count": 47,
     "metadata": {},
     "output_type": "execute_result"
    }
   ],
   "source": [
    "forest = ensemble.RandomForestRegressor(random_state=0) # out-of-the-box\n",
    "forest.fit(x_train, y_train)\n",
    "forest_importance_dict = dict(zip(features, forest.feature_importances_))\n",
    "forest_importance_dict"
   ]
  },
  {
   "cell_type": "code",
   "execution_count": 49,
   "metadata": {},
   "outputs": [
    {
     "data": {
      "text/plain": [
       "['Median_HH_Income_pct_state',\n",
       " 'Percent_LT_HighSchool',\n",
       " 'Stroke_mortality_rate',\n",
       " 'AVE_BIRTH_RATE',\n",
       " 'Percent_High_Speed',\n",
       " 'Percent_Good_Health']"
      ]
     },
     "execution_count": 49,
     "metadata": {},
     "output_type": "execute_result"
    }
   ],
   "source": [
    "features_forest = [k for (k,v) in forest_importance_dict.items() if np.abs(v) > 0.025]\n",
    "features_forest"
   ]
  },
  {
   "cell_type": "markdown",
   "metadata": {},
   "source": [
    "For feature importance, setting the same threshold as in the previous `data_census` case, we see almost the same set of important features. The only variable from BRFSS that made it into our list is `Percent_Good_Health`, which is still on the lower end of the importance spectrum compared to other predictors.\n",
    "\n",
    "Let's try to compare the OLS regressor (which was the best *out-of-the-box*) and the optimized Random Forest regressor (which was the best for `data_census`, using cross-validation to tune hyperparameter), to see if we can improve performance in this subset of features."
   ]
  },
  {
   "cell_type": "code",
   "execution_count": 50,
   "metadata": {},
   "outputs": [
    {
     "name": "stdout",
     "output_type": "stream",
     "text": [
      "\n",
      "RandomForest:\n",
      "OLS: (r_squared, rmse) = (0.670860576819407, 7.0557810283177185) \n",
      "ElasticNet: (r_squared, rmse) = (0.6064806995923628, 8.435896214625142) \n",
      "SVR: (r_squared, rmse) = (0.5960482383624527, 8.659537495008236) \n",
      "Forest: (r_squared, rmse) = (0.6204882135143388, 8.135616320987651) \n"
     ]
    }
   ],
   "source": [
    "# Out of the box with subset of features\n",
    "subset_cols_idx = [i for i in range(len(features)) if features[i] in features_forest]\n",
    "x_train_subset = x_train[:,subset_cols_idx]\n",
    "x_test_subset = x_test[:,subset_cols_idx]\n",
    "print('\\nRandomForest:')\n",
    "out_of_the_box(x_train_subset, x_test_subset)"
   ]
  },
  {
   "cell_type": "markdown",
   "metadata": {},
   "source": [
    "**Model tuning: Random Forest**\n",
    "\n",
    "Tuning has provided slight improvement using the subset of features. However, the performance is still much lower compared to models using `data_census` for prediction of `PERCENT_POVERTY`."
   ]
  },
  {
   "cell_type": "code",
   "execution_count": 51,
   "metadata": {},
   "outputs": [
    {
     "name": "stdout",
     "output_type": "stream",
     "text": [
      "RandomForestRegressor(max_depth=10, n_estimators=300, random_state=0)\n"
     ]
    },
    {
     "data": {
      "text/plain": [
       "(0.6278709453423155, 7.977352267822515)"
      ]
     },
     "execution_count": 51,
     "metadata": {},
     "output_type": "execute_result"
    }
   ],
   "source": [
    "forest = ensemble.RandomForestRegressor(random_state=0)\n",
    "n_estimators_values = [200, 300, 400]\n",
    "max_depth_values = [8, 10, 12]\n",
    "param_grid = {'n_estimators': n_estimators_values, 'max_depth': max_depth_values}\n",
    "forest_cv = model_selection.GridSearchCV(forest, param_grid, cv=10)\n",
    "forest_cv.fit(x_train_subset, y_train)\n",
    "print(forest_cv.best_estimator_)\n",
    "evaluate_model(forest_cv, x_test_subset, y_test)"
   ]
  },
  {
   "cell_type": "markdown",
   "metadata": {},
   "source": [
    "# Summary\n",
    "\n",
    "In summary, the smaller BRFSS data on behavioral risk do not include good features for prediction of the poverty rate of countries across the United States.\n",
    "\n",
    "Even though we are enticed to draw conclusions regarding the relationship between mental health and poverty, we should be careful. Firstly, the BRFSS dataset is quite small (only 300-400 entries of data). Secondly, there is likely a selection bias in which counties with better resources have funding to conduct BRFSS surveys and underfunded counties where we expect high behavioral risk factors do not even carry out the BRFSS surveys. More BRFSS data on the missing counties is required to draw any substantive claims regarding the relationship of mental health and poverty rates.\n",
    "\n",
    "We are reaffirmed by similar salient features in both the `data_census` and the small set `data_brfss` that contribute to poverty rates. Additionally, these features can only explain approximately 80% of the variability in `PERCENT_POVERTY`, so there must be other economic and social factors that affect difference in poverty between countries. Some of these features could include: number of companies based in county, availability of housing, state and local funding, social advance programs, percentage of people of color, etc. Future work can explore these features by scraping them from government data resources."
   ]
  }
 ],
 "metadata": {
  "kernelspec": {
   "display_name": "Python 3",
   "language": "python",
   "name": "python3"
  },
  "language_info": {
   "codemirror_mode": {
    "name": "ipython",
    "version": 3
   },
   "file_extension": ".py",
   "mimetype": "text/x-python",
   "name": "python",
   "nbconvert_exporter": "python",
   "pygments_lexer": "ipython3",
   "version": "3.6.1"
  }
 },
 "nbformat": 4,
 "nbformat_minor": 4
}
