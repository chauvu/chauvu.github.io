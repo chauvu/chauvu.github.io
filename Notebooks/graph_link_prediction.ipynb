{
 "cells": [
  {
   "cell_type": "markdown",
   "id": "5c7a1078",
   "metadata": {},
   "source": [
    "# Link Prediction using Graph Convolutional Network\n",
    "In the previous project, I have explored the use of Graph Convolutional Network (GCN) for node classification in a biomedical Knowledge Graph (KG) [link](https://github.com/chauvu/chauvu.github.io/blob/main/Notebooks/graph_node_classification.ipynb). However, the node classification task is usually not of significant interest since we generally know what class a vertex belongs to in a graph. An active area of development is in knowledge graph completion, aka novel link prediction. For example, the task of drug repurposing requires predicting a link that has not been previously discovered between a *drug* node and a *disease* node, usually based on the connections between these two vertices with the rest of the graph.\n",
    "\n",
    "These tasks are usually performed using reasoning models (e.g. from `(remdesivir, treats, viral disease)` and `(covid, is, viral disease)` can reason that (remdesivir, treats, covid)) or embedding models, which are low-dimensional representations of a node or relation. Similar to the idea of Word2Vec in NLP, for example in a translational embedding model [TransE](https://proceedings.neurips.cc/paper/2013/file/1cecc7a77928ca8133fa24680a88d2f9-Paper.pdf), `vector(remdesivir) + vector(treats)` is approximately `vector(covid)`. GCN has also been used in these embedding models as a relational-GCN [rGCN](https://arxiv.org/pdf/1703.06103.pdf), in which the node embeddings are propagated through the neighborhood using the message passing features of GCN. \n",
    "\n",
    "In this work, instead of the complex rGCN, I want to explore a very simple use of GCN: generate low-dimensional vectors for each node then use a *dot product* to calculate the score for each edge, subsequently using this score to perform binary classification whether an edge exists or not. I will be using the Deep Graph Library (DGL) to implement a GCN model.\n",
    "\n",
    "Ideally, I would have performed this link prediction on Hetionet, the biomedical knowledge graph used in the previous [project](https://github.com/chauvu/chauvu.github.io/blob/main/Notebooks/graph_node_classification.ipynb). However, node classification is a smaller task at `O(E)`, whereas edge classification is significantly larger at `O(E^2)`. Hetionet has around 45k nodes, which has approximately 1 billion possible edges. Even if the edge doesn't exist, the size of the data is still extremely large, since the adjacency matrix is 1B x 1B. This would be a perfect candidate to perform sub-batching in GCN using subgraphs [link](https://arxiv.org/pdf/2002.07206.pdf). \n",
    "\n",
    "In this work, however, to simplify the training process, I will be using the Cora Citation Dataset, which is much smaller, to perform a proof-of-concept of the link prediction task with GCN."
   ]
  },
  {
   "cell_type": "code",
   "execution_count": 1,
   "id": "92d489b0",
   "metadata": {},
   "outputs": [
    {
     "name": "stderr",
     "output_type": "stream",
     "text": [
      "Using backend: pytorch\n"
     ]
    }
   ],
   "source": [
    "import numpy as np\n",
    "import pandas as pd\n",
    "import torch\n",
    "import torch.nn as nn\n",
    "from torch import Tensor, nn\n",
    "import torch.nn.functional as F\n",
    "from torch.utils.data import Dataset, DataLoader\n",
    "import networkx as nx\n",
    "import dgl\n",
    "from dgl.nn.pytorch import GraphConv\n",
    "from dgl.data import citation_graph as citegrh\n",
    "from node2vec import Node2Vec\n",
    "from sklearn.preprocessing import MinMaxScaler\n",
    "from sklearn.metrics import f1_score, accuracy_score, roc_auc_score, average_precision_score\n",
    "from sklearn.model_selection import train_test_split\n",
    "import matplotlib.pyplot as plt\n",
    "from typing import Optional, Sequence\n",
    "import warnings\n",
    "warnings.filterwarnings(\"ignore\")\n",
    "import random\n",
    "random.seed(100)"
   ]
  },
  {
   "cell_type": "markdown",
   "id": "0978fa29",
   "metadata": {},
   "source": [
    "First, we will load the Cora Dataset from the DGL module. The dataset does split the nodes into training, validation and testing datasets; however, this is specifically for node classification tasks. Since we are interested in edge classification, we will have to use the original graph and perform train-test-validation-split on the edges instead."
   ]
  },
  {
   "cell_type": "code",
   "execution_count": 2,
   "id": "affddfb9",
   "metadata": {},
   "outputs": [
    {
     "name": "stdout",
     "output_type": "stream",
     "text": [
      "  NumNodes: 2708\n",
      "  NumEdges: 10556\n",
      "  NumFeats: 1433\n",
      "  NumClasses: 7\n",
      "  NumTrainingSamples: 140\n",
      "  NumValidationSamples: 500\n",
      "  NumTestSamples: 1000\n",
      "Done loading data from cached files.\n"
     ]
    }
   ],
   "source": [
    "G_dgl = citegrh.load_cora()\n",
    "G_nx = G_dgl.graph\n",
    "data = pd.DataFrame(G_nx.edges(), columns=['head', 'tail'])\n",
    "entities = set(list(data['head'].unique()) + list(data['tail'].unique()))"
   ]
  },
  {
   "cell_type": "markdown",
   "id": "c8edc139",
   "metadata": {},
   "source": [
    "Train-test-validation split is performed on the edges. Care was taken to make sure that there are no unseen nodes from the testing and validation sets compared to the training set, so the validation and testing can be performed on the same training NetworkX/DGL graph (just with different sets of edges). Finally, we have approximately 2k edges in each test and valid set, and 8k edges in the training set."
   ]
  },
  {
   "cell_type": "code",
   "execution_count": 3,
   "id": "1e8e9c0f",
   "metadata": {},
   "outputs": [],
   "source": [
    "data_train, data_test = train_test_split(data, test_size=0.2, random_state=100)\n",
    "data_train, data_valid = train_test_split(data, test_size=0.2, random_state=101)\n",
    "entities_train = set(list(data_train['head'].unique()) + list(data_train['tail'].unique()))\n",
    "\n",
    "entities_test = set(list(data_test['head'].unique()) + list(data_test['tail'].unique()))\n",
    "entities_test_diff = entities_test - entities_train\n",
    "data_test_head_diff = data_test['head'].apply(lambda x: x in entities_test_diff)\n",
    "data_test_tail_diff = data_test['tail'].apply(lambda x: x in entities_test_diff)\n",
    "data_test_diff = data_test[data_test_head_diff | data_test_tail_diff]\n",
    "data_test = data_test[~data_test_head_diff & ~data_test_tail_diff]\n",
    "data_train = data_train.append(data_test_diff).drop_duplicates(ignore_index=True)\n",
    "\n",
    "entities_valid = set(list(data_valid['head'].unique()) + list(data_valid['tail'].unique()))\n",
    "entities_valid_diff = entities_valid - entities_train\n",
    "data_valid_head_diff = data_valid['head'].apply(lambda x: x in entities_valid_diff)\n",
    "data_valid_tail_diff = data_valid['tail'].apply(lambda x: x in entities_valid_diff)\n",
    "data_valid_diff = data_valid[data_valid_head_diff | data_valid_tail_diff]\n",
    "data_valid = data_valid[~data_valid_head_diff & ~data_valid_tail_diff]\n",
    "data_train = data_train.append(data_valid_diff).drop_duplicates(ignore_index=True)"
   ]
  },
  {
   "cell_type": "code",
   "execution_count": 4,
   "id": "267df46f",
   "metadata": {},
   "outputs": [
    {
     "name": "stdout",
     "output_type": "stream",
     "text": [
      "Train\t 8480 edges\n",
      "Valid\t 2076 edges\n",
      "Test\t 2103 edges\n"
     ]
    }
   ],
   "source": [
    "print('Train\\t', len(data_train), 'edges')\n",
    "print('Valid\\t', len(data_valid), 'edges')\n",
    "print('Test\\t', len(data_test), 'edges')"
   ]
  },
  {
   "cell_type": "code",
   "execution_count": 5,
   "id": "cd3723a2",
   "metadata": {},
   "outputs": [],
   "source": [
    "G_nx_train = nx.Graph() # undirected\n",
    "G_nx_train.add_nodes_from(entities)\n",
    "G_nx_train.add_edges_from(list(data_train[['head','tail']].to_records(index=False)))\n",
    "G_nx_valid = nx.Graph() # undirected\n",
    "G_nx_valid.add_nodes_from(entities)\n",
    "G_nx_valid.add_edges_from(list(data_valid[['head','tail']].to_records(index=False)))\n",
    "G_nx_test = nx.Graph() # undirected\n",
    "G_nx_test.add_nodes_from(entities)\n",
    "G_nx_test.add_edges_from(list(data_test[['head','tail']].to_records(index=False)))"
   ]
  },
  {
   "cell_type": "markdown",
   "id": "cf06055d",
   "metadata": {},
   "source": [
    "Next, GCN requires a feature extraction step for each node. These features are considered the initial message that will be passed between connecting nodes to generate low-dimensional embeddings for each node. We have explored different feature engineering techniques in the node classification [project](https://github.com/chauvu/chauvu.github.io/blob/main/Notebooks/graph_node_classification.ipynb), including identity matrix, adjacency matrix and carefully hand-crafted features.\n",
    "\n",
    "In this project, I will be using:\n",
    "1. The already-extracted features for Cora (each feature is encoded by whether a specific word exists in the scientific publication)\n",
    "2. The Node2Vec [algorithm](https://snap.stanford.edu/node2vec/), in which biased random walk is performed from a node, with specified probability of returning to the previous node or exploring unseen neighboring nodes."
   ]
  },
  {
   "cell_type": "markdown",
   "id": "8f17ee51",
   "metadata": {},
   "source": [
    "### 1. Cora Existing Features"
   ]
  },
  {
   "cell_type": "code",
   "execution_count": 6,
   "id": "821b4ebd",
   "metadata": {},
   "outputs": [],
   "source": [
    "all_features = {}"
   ]
  },
  {
   "cell_type": "code",
   "execution_count": 7,
   "id": "f2684492",
   "metadata": {},
   "outputs": [],
   "source": [
    "cora_features = G_dgl.features\n",
    "features_train = cora_features[torch.tensor(list(G_nx_train.nodes))]\n",
    "\n",
    "all_features['cora'] = features_train"
   ]
  },
  {
   "cell_type": "markdown",
   "id": "98a1e3d5",
   "metadata": {},
   "source": [
    "### 2. Node2Vec Features"
   ]
  },
  {
   "cell_type": "code",
   "execution_count": 8,
   "id": "000ec360",
   "metadata": {},
   "outputs": [],
   "source": [
    "already_generated = True\n",
    "if not already_generated:\n",
    "    random_walk_length = 100\n",
    "    random_walk_num = 10\n",
    "    random_walk_dimensions = 500\n",
    "\n",
    "    model_n2v = Node2Vec(G_nx_train, dimensions=random_walk_dimensions, walk_length=random_walk_length, num_walks=random_walk_num).fit(window=10, min_count=1)\n",
    "    features_train_np = model_n2v.wv.vectors\n",
    "    features_train = torch.tensor(features_train_np)\n",
    "    scaler = MinMaxScaler()\n",
    "    features_train = torch.tensor(scaler.fit_transform(features_train)).float()\n",
    "    n_features = features_train_np.shape[1]\n",
    "    torch.save(features_train, 'features_cora_node2vec.pt')\n",
    "else:\n",
    "    features_train = torch.load('features_cora_node2vec.pt')\n",
    "    \n",
    "all_features['node2vec'] = features_train"
   ]
  },
  {
   "cell_type": "markdown",
   "id": "3890936b",
   "metadata": {},
   "source": [
    "# Preparation steps\n",
    "### Focal Loss\n",
    "Focal Loss is usually used for unbalanced data. In this case, the number of non-existing possible edges dominates, whereas only a few are actual edges between two nodes. Therefore, I will be using Focal Loss for my GCN training. The following focal loss function is taken from AdeelH's [github](https://github.com/AdeelH/pytorch-multi-class-focal-loss)."
   ]
  },
  {
   "cell_type": "markdown",
   "id": "81ca8623",
   "metadata": {},
   "source": [
    "### Dot Product\n",
    "Each node in the GCN is represented as a vector of fixed size `n_hidden` (number of hidden features). Our score function is calculated as the dot product between a pair of nodes to determine whether an edge exists between these two nodes. To perform this calculation on the entire set of nodes, I will perform `dot(x, x.t())`, where `x` is the matrix representation of size `(n_nodes, n_hidden)`. This dot product will yield a final matrix of size `n_nodes x n_nodes`.\n",
    "\n",
    "This final matrix is symmetric across the diagonal axis, so we are only interested in the scores on the upper triangle or lower triangle. It is possible to use the `triu_indices` function, but this function includes the diagonal (whose scores should represent if there is an edge between a node with itself). Therefore, I will use this modified `triu_indices` function instead, taken from this [link](https://www.py4u.net/discuss/206235)."
   ]
  },
  {
   "cell_type": "code",
   "execution_count": 10,
   "id": "af24834f",
   "metadata": {},
   "outputs": [],
   "source": [
    "def upper_tri_indexing(A):\n",
    "    m = A.shape[0]\n",
    "    r,c = np.triu_indices(m,1)\n",
    "    return A[r,c]"
   ]
  },
  {
   "cell_type": "markdown",
   "id": "01e9bd55",
   "metadata": {},
   "source": [
    "### Masks and Labels"
   ]
  },
  {
   "cell_type": "code",
   "execution_count": 11,
   "id": "eb41152c",
   "metadata": {},
   "outputs": [],
   "source": [
    "def preparation(features_by):\n",
    "    features_train = all_features[features_by]\n",
    "    n_features = features_train.shape[1]\n",
    "    \n",
    "    n_nodes_train = features_train.shape[0]\n",
    "    adj_train = nx.adjacency_matrix(G_nx_train, nodelist=G_nx_train.nodes()).toarray() # ordered\n",
    "    labels_train = upper_tri_indexing(adj_train)\n",
    "    labels_train = torch.tensor(labels_train).float()\n",
    "\n",
    "    n_nodes_valid = features_train.shape[0]\n",
    "    adj_valid = nx.adjacency_matrix(G_nx_valid, nodelist=G_nx_valid.nodes()).toarray() # ordered\n",
    "    labels_valid = upper_tri_indexing(adj_valid)\n",
    "    labels_valid = torch.tensor(labels_valid).float()\n",
    "    labels_valid_save = labels_valid.clone()\n",
    "\n",
    "    n_nodes_test = features_train.shape[0]\n",
    "    adj_test = nx.adjacency_matrix(G_nx_test, nodelist=G_nx_test.nodes()).toarray() # ordered\n",
    "    labels_test = upper_tri_indexing(adj_test)\n",
    "    labels_test = torch.tensor(labels_test).float()\n",
    "    labels_test_save = labels_test.clone()\n",
    "\n",
    "    # TEST masks\n",
    "    mask_test = labels_test.clone()\n",
    "    labels_test_indices_nonedge = np.where(labels_test.detach().numpy()==0)[0]\n",
    "    indices = torch.tensor(random.sample(range(labels_test_indices_nonedge.shape[0]), round(mask_test.sum().item())*5))\n",
    "    labels_test_indices_nonedge_sample = labels_test_indices_nonedge[indices]\n",
    "    mask_test[labels_test_indices_nonedge_sample] = 1\n",
    "\n",
    "    # VALID masks\n",
    "    mask_valid = labels_valid.clone()\n",
    "    labels_valid_indices_nonedge = np.where(labels_valid.detach().numpy()==0)[0]\n",
    "    indices = torch.tensor(random.sample(range(labels_valid_indices_nonedge.shape[0]), round(mask_valid.sum().item())*5))\n",
    "    labels_valid_indices_nonedge_sample = labels_valid_indices_nonedge[indices]\n",
    "    mask_valid[labels_valid_indices_nonedge_sample] = 1\n",
    "    \n",
    "    return features_train, n_features, labels_train, labels_valid, labels_valid_save, mask_valid, labels_test, labels_test_save, mask_test\n"
   ]
  },
  {
   "cell_type": "code",
   "execution_count": 12,
   "id": "43592806",
   "metadata": {},
   "outputs": [],
   "source": [
    "G_dgl_train = dgl.from_networkx(G_nx_train)\n",
    "G_dgl_train = dgl.add_self_loop(G_dgl_train)"
   ]
  },
  {
   "cell_type": "markdown",
   "id": "596a483d",
   "metadata": {},
   "source": [
    "# Graph Convolutional Network\n",
    "For our GCN model, we will create two graph convolutional layers. Since we want to perform binary classification of an edge existence, we need to generate two separate features, one for edge=0 and one for edge=1. Focal loss is used with the weights as the probability whether a random edge exists or not (99% of the time an edge is non-existant)."
   ]
  },
  {
   "cell_type": "code",
   "execution_count": 13,
   "id": "7ad528d2",
   "metadata": {},
   "outputs": [],
   "source": [
    "class GCN(nn.Module):\n",
    "    def __init__(self, n_features, n_hidden, activation):\n",
    "        super(GCN, self).__init__()\n",
    "        self.n_features = n_features\n",
    "        self.n_hidden = n_hidden\n",
    "        self.activation = activation\n",
    "\n",
    "        # layers\n",
    "        self.layer1_1 = GraphConv(self.n_features, self.n_hidden, activation=self.activation)\n",
    "        self.layer1_2 = GraphConv(self.n_hidden, self.n_hidden, activation=self.activation)\n",
    "\n",
    "        self.layer2_1 = GraphConv(self.n_features, self.n_hidden, activation=self.activation)\n",
    "        self.layer2_2 = GraphConv(self.n_hidden, self.n_hidden, activation=self.activation)\n",
    "\n",
    "    def forward(self, G, x):\n",
    "        x1 = self.layer1_1(G, x)\n",
    "        x1 = nn.LayerNorm(x1.shape)(x1)\n",
    "        x1 = self.layer1_2(G, x1)\n",
    "        x1 = nn.LayerNorm(x1.shape)(x1)\n",
    "        x1 = torch.mm(x1, x1.t())\n",
    "        x1 = upper_tri_indexing(x1) # x1 = x1[torch.triu_indices(len(x1), len(x1)).unbind()]\n",
    "\n",
    "        x2 = self.layer2_1(G, x)\n",
    "        x2 = nn.LayerNorm(x2.shape)(x2)\n",
    "        x2 = self.layer2_2(G, x2)\n",
    "        x2 = nn.LayerNorm(x2.shape)(x2)\n",
    "        x2 = torch.mm(x2, x2.t())\n",
    "        x2 = upper_tri_indexing(x2) # x2 = x2[torch.triu_indices(len(x2), len(x2)).unbind()]\n",
    "\n",
    "        x = torch.stack((x1,x2), dim=1)\n",
    "        return x"
   ]
  },
  {
   "cell_type": "code",
   "execution_count": 14,
   "id": "0422b2f9",
   "metadata": {},
   "outputs": [],
   "source": [
    "def train(features_train, n_features, n_hidden=16, n_epochs=20, activation=None):\n",
    "    G_dgl_train = dgl.from_networkx(G_nx_train)\n",
    "    G_dgl_train = dgl.add_self_loop(G_dgl_train)\n",
    "    G_dgl_valid = dgl.from_networkx(G_nx_valid)\n",
    "    G_dgl_valid = dgl.add_self_loop(G_dgl_valid)\n",
    "    G_dgl_test = dgl.from_networkx(G_nx_test)\n",
    "    G_dgl_test = dgl.add_self_loop(G_dgl_test)\n",
    "\n",
    "\n",
    "    model = GCN(n_features, n_hidden, activation)\n",
    "    optimizer = torch.optim.Adam(params=model.parameters(), lr=0.01)\n",
    "    alpha = torch.tensor([labels_train.sum() / len(labels_train), 1-labels_train.sum() / len(labels_train)])\n",
    "    criterion = FocalLoss(gamma=20, alpha=alpha)\n",
    "\n",
    "    # TRAIN and VALIDATION\n",
    "    losses_train = []\n",
    "    f1_valid, roc_valid, ap_valid = [], [], []\n",
    "    for epoch in range(n_epochs):\n",
    "        # training\n",
    "        model.train()\n",
    "        optimizer.zero_grad()\n",
    "        output_train = model(G_dgl_train, features_train)\n",
    "\n",
    "        loss = criterion(output_train, labels_train.long())\n",
    "        loss.backward()\n",
    "        optimizer.step()\n",
    "        # print('Epoch {}, Loss {}'.format(epoch, loss.item()))\n",
    "        losses_train.append(loss.item())\n",
    "\n",
    "        # validation\n",
    "        model.eval()\n",
    "        output_valid = model(G_dgl_train, features_train)\n",
    "        output_valid = output_valid[mask_valid==1]\n",
    "        labels_valid = labels_valid_save.clone()\n",
    "        labels_valid = labels_valid[mask_valid==1]\n",
    "        o = output_valid.argmax(1).cpu().detach().numpy().astype(dtype='bool')\n",
    "        l = labels_valid.cpu().detach().numpy().astype(dtype='bool')\n",
    "        f1_valid.append(f1_score(o, l, average='macro'))\n",
    "        roc_valid.append(roc_auc_score(o, l))\n",
    "        ap_valid.append(average_precision_score(o, l))\n",
    "        \n",
    "    return model, losses_train, f1_valid, roc_valid, ap_valid"
   ]
  },
  {
   "cell_type": "code",
   "execution_count": 15,
   "id": "54cc207b",
   "metadata": {},
   "outputs": [],
   "source": [
    "def test(model, G, features_train, labels_test, mask_test):\n",
    "    labels_test = labels_test_save.clone()\n",
    "    model.eval()\n",
    "    with torch.no_grad():\n",
    "        output_test = model(G, features_train)\n",
    "\n",
    "        # only count test edges not in training set\n",
    "        output_test = output_test[mask_test==1]\n",
    "        labels_test = labels_test[mask_test==1]\n",
    "\n",
    "        # calculate accuracy, sensitivity, specificity, roc\n",
    "        o = output_test.argmax(1).cpu().detach().numpy().astype(dtype='bool')\n",
    "        l = labels_test.cpu().detach().numpy().astype(dtype='bool')\n",
    "        accuracy = (o==l).sum() / len(o) \n",
    "        sensitivity = (o & l).sum() / ((o & l).sum() + (~o & l).sum())\n",
    "        specificity = (~o & ~l).sum() / ((~o & ~l).sum() + (o & ~l).sum())\n",
    "        f1 = f1_score(o, l, average='macro')\n",
    "        roc = roc_auc_score(o, l)\n",
    "        ap = average_precision_score(o, l)\n",
    "        \n",
    "        test_results = pd.Series({'accuracy': np.round(accuracy,3), \n",
    "                          'sensitivity': np.round(sensitivity,3), \n",
    "                          'specificity': np.round(specificity,3), \n",
    "                          'F1': np.round(f1,3), \n",
    "                          'ROC': np.round(roc,3), \n",
    "                          'AP': np.round(ap,3),\n",
    "                         })\n",
    "        return test_results"
   ]
  },
  {
   "cell_type": "markdown",
   "id": "627d3543",
   "metadata": {},
   "source": [
    "### 1. Cora Features\n",
    "It looks like at around 20 epochs, the validation metrics start decreasing. Therefore, we will train this for only 20 epochs. Most of the metrics fall around the range between 0.5 to 0.6, which shows that this simple algorithm performs only slightly better than randomly guessing whether an edge exists or not."
   ]
  },
  {
   "cell_type": "code",
   "execution_count": 16,
   "id": "caf78c3e",
   "metadata": {},
   "outputs": [],
   "source": [
    "features_train, n_features, labels_train, labels_valid, labels_valid_save, mask_valid, labels_test, labels_test_save, mask_test = preparation('cora')\n",
    "model, losses_train, f1_valid, roc_valid, ap_valid = train(features_train, n_features, n_epochs=50)"
   ]
  },
  {
   "cell_type": "code",
   "execution_count": 17,
   "id": "2497a8d1",
   "metadata": {},
   "outputs": [
    {
     "data": {
      "text/plain": [
       "Text(0, 0.5, 'Training Loss')"
      ]
     },
     "execution_count": 17,
     "metadata": {},
     "output_type": "execute_result"
    },
    {
     "data": {
      "image/png": "[encoded data removed]",
      "text/plain": [
       "<Figure size 432x288 with 1 Axes>"
      ]
     },
     "metadata": {
      "needs_background": "light"
     },
     "output_type": "display_data"
    }
   ],
   "source": [
    "plt.plot(losses_train)\n",
    "plt.xlabel('Epochs')\n",
    "plt.ylabel('Training Loss')"
   ]
  },
  {
   "cell_type": "code",
   "execution_count": 18,
   "id": "d16a381b",
   "metadata": {},
   "outputs": [
    {
     "data": {
      "text/plain": [
       "<matplotlib.legend.Legend at 0x174486a00>"
      ]
     },
     "execution_count": 18,
     "metadata": {},
     "output_type": "execute_result"
    },
    {
     "data": {
      "image/png": "[encoded data removed]",
      "text/plain": [
       "<Figure size 432x288 with 1 Axes>"
      ]
     },
     "metadata": {
      "needs_background": "light"
     },
     "output_type": "display_data"
    }
   ],
   "source": [
    "plt.plot(f1_valid)\n",
    "plt.plot(roc_valid)\n",
    "plt.plot(ap_valid)\n",
    "plt.xlabel('Epochs')\n",
    "plt.ylabel('Validation Metrics')\n",
    "plt.legend(['F1', 'ROC', 'AP'])"
   ]
  },
  {
   "cell_type": "code",
   "execution_count": 19,
   "id": "d26afcd8",
   "metadata": {},
   "outputs": [
    {
     "name": "stdout",
     "output_type": "stream",
     "text": [
      "accuracy       0.555\n",
      "sensitivity    0.641\n",
      "specificity    0.537\n",
      "F1             0.496\n",
      "ROC            0.549\n",
      "AP             0.524\n",
      "dtype: float64\n"
     ]
    }
   ],
   "source": [
    "features_train, n_features, labels_train, labels_valid, labels_valid_save, mask_valid, labels_test, labels_test_save, mask_test = preparation('cora')\n",
    "model, losses_train, f1_valid, roc_valid, ap_valid = train(features_train, n_features, n_epochs=20)\n",
    "test_results = test(model, G_dgl_train, features_train, labels_test, mask_test)\n",
    "print(test_results)\n"
   ]
  },
  {
   "cell_type": "markdown",
   "id": "9fabfdee",
   "metadata": {},
   "source": [
    "### 2. Node2Vec\n",
    "The evaluation metrics on the test set using node2vec are on the similar range with using the Cora Citation Features. However, looking at the F1, ROC and AP scores for the validation set through the epochs, it looks like these metrics are not stable using node2vec (using the Cora features the metrics do level out at later epochs). This demonstrates that random walk feature generation might not be very stable and might not capture innate features of the nodes in our graph.\n",
    "\n",
    "Overall, evaluation metrics are also around 0.5-0.6, which is slightly better than random guessing. However, this is not good enough to make informed decision for knowledge graph completion or link prediction."
   ]
  },
  {
   "cell_type": "code",
   "execution_count": 20,
   "id": "a3a3785e",
   "metadata": {},
   "outputs": [],
   "source": [
    "features_train, n_features, labels_train, labels_valid, labels_valid_save, mask_valid, labels_test, labels_test_save, mask_test = preparation('node2vec')\n",
    "model, losses_train, f1_valid, roc_valid, ap_valid = train(features_train, n_features, n_epochs=50)"
   ]
  },
  {
   "cell_type": "code",
   "execution_count": 21,
   "id": "ad9359ea",
   "metadata": {},
   "outputs": [
    {
     "data": {
      "text/plain": [
       "Text(0, 0.5, 'Training Loss')"
      ]
     },
     "execution_count": 21,
     "metadata": {},
     "output_type": "execute_result"
    },
    {
     "data": {
      "image/png": "[encoded data removed]",
      "text/plain": [
       "<Figure size 432x288 with 1 Axes>"
      ]
     },
     "metadata": {
      "needs_background": "light"
     },
     "output_type": "display_data"
    }
   ],
   "source": [
    "plt.plot(losses_train)\n",
    "plt.xlabel('Epochs')\n",
    "plt.ylabel('Training Loss')"
   ]
  },
  {
   "cell_type": "code",
   "execution_count": 22,
   "id": "945c7edb",
   "metadata": {},
   "outputs": [
    {
     "data": {
      "text/plain": [
       "<matplotlib.legend.Legend at 0x174612af0>"
      ]
     },
     "execution_count": 22,
     "metadata": {},
     "output_type": "execute_result"
    },
    {
     "data": {
      "image/png": "[encoded data removed]",
      "text/plain": [
       "<Figure size 432x288 with 1 Axes>"
      ]
     },
     "metadata": {
      "needs_background": "light"
     },
     "output_type": "display_data"
    }
   ],
   "source": [
    "plt.plot(f1_valid)\n",
    "plt.plot(roc_valid)\n",
    "plt.plot(ap_valid)\n",
    "plt.xlabel('Epochs')\n",
    "plt.ylabel('Validation Metrics')\n",
    "plt.legend(['F1', 'ROC', 'AP'])"
   ]
  },
  {
   "cell_type": "code",
   "execution_count": 23,
   "id": "191a0e81",
   "metadata": {},
   "outputs": [
    {
     "name": "stdout",
     "output_type": "stream",
     "text": [
      "accuracy       0.626\n",
      "sensitivity    0.565\n",
      "specificity    0.638\n",
      "F1             0.538\n",
      "ROC            0.559\n",
      "AP             0.436\n",
      "dtype: float64\n"
     ]
    }
   ],
   "source": [
    "features_train, n_features, labels_train, labels_valid, labels_valid_save, mask_valid, labels_test, labels_test_save, mask_test = preparation('cora')\n",
    "model, losses_train, f1_valid, roc_valid, ap_valid = train(features_train, n_features)\n",
    "test_results = test(model, G_dgl_train, features_train, labels_test, mask_test)\n",
    "print(test_results)"
   ]
  },
  {
   "cell_type": "markdown",
   "id": "d6e31022",
   "metadata": {},
   "source": [
    "# Conclusion\n",
    "In this project, we constructed a 2-layer GCN to perform link prediction in a knowledge graph: GCN generates latent representations of each node, and for each pair of node, the score of whether an edge exists is the dot product between the vector representations of the two nodes. Our work demonstrates a proof-of-concept on a Cora Citation dataset and shows an accuracy of ~0.6 for predicting links.\n",
    "\n",
    "Since our evaluation metrics are only slightly better than random guessing, this algorithm might not be robust enough to perform link predictions for downstream tasks such as drug repurposing. It is likely that this algorithm is too simplistic. Maybe embedding-based algorithms, such as translational models or reasoning models, are probably better to perform link predictions. Additionally, these algorithms can also represent specific types of links as low-dimensional vector representations, which can have more robust and versatile applications."
   ]
  },
  {
   "cell_type": "code",
   "execution_count": null,
   "id": "a4be3486",
   "metadata": {},
   "outputs": [],
   "source": []
  }
 ],
 "metadata": {
  "kernelspec": {
   "display_name": "env",
   "language": "python",
   "name": "env"
  },
  "language_info": {
   "codemirror_mode": {
    "name": "ipython",
    "version": 3
   },
   "file_extension": ".py",
   "mimetype": "text/x-python",
   "name": "python",
   "nbconvert_exporter": "python",
   "pygments_lexer": "ipython3",
   "version": "3.9.5"
  }
 },
 "nbformat": 4,
 "nbformat_minor": 5
}
